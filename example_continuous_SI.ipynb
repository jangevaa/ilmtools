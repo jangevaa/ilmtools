{
 "metadata": {
  "language": "Julia",
  "name": "",
  "signature": "sha256:0bbe3580c9aba38975d9f73c50487ea4682ea457e4e65358904710259b657608"
 },
 "nbformat": 3,
 "nbformat_minor": 0,
 "worksheets": [
  {
   "cells": [
    {
     "cell_type": "markdown",
     "metadata": {},
     "source": [
      "Load the ilmtools package..."
     ]
    },
    {
     "cell_type": "code",
     "collapsed": false,
     "input": [
      "include(\"ilmtools.jl\")"
     ],
     "language": "python",
     "metadata": {},
     "outputs": [
      {
       "metadata": {},
       "output_type": "pyout",
       "prompt_number": 2,
       "text": [
        "state_animation (generic function with 1 method)"
       ]
      }
     ],
     "prompt_number": 2
    },
    {
     "cell_type": "markdown",
     "metadata": {},
     "source": [
      "Generate a population from a bi-variate normal distribution..."
     ]
    },
    {
     "cell_type": "code",
     "collapsed": true,
     "input": [
      "pop_db1 = create_pop_db_univariates(625, Uniform(0,25), Uniform(0,25))"
     ],
     "language": "python",
     "metadata": {},
     "outputs": [
      {
       "html": [
        "<table class=\"data-frame\"><tr><th></th><th>ind_id</th><th>x</th><th>y</th></tr><tr><th>1</th><td>1</td><td>5.120261031702455</td><td>7.8751257471869724</td></tr><tr><th>2</th><td>2</td><td>24.7645754771272</td><td>6.917333140859605</td></tr><tr><th>3</th><td>3</td><td>20.64483762278604</td><td>18.14402502760978</td></tr><tr><th>4</th><td>4</td><td>4.233443070764004</td><td>15.265834501913245</td></tr><tr><th>5</th><td>5</td><td>21.285163457426087</td><td>18.424689837329765</td></tr><tr><th>6</th><td>6</td><td>19.78963625650229</td><td>3.1608226614447013</td></tr><tr><th>7</th><td>7</td><td>17.264608368369867</td><td>0.902601552572424</td></tr><tr><th>8</th><td>8</td><td>6.1120392039700375</td><td>16.394248627868564</td></tr><tr><th>9</th><td>9</td><td>4.014679312548136</td><td>23.454150876714376</td></tr><tr><th>10</th><td>10</td><td>21.594985039896347</td><td>5.755060946232965</td></tr><tr><th>11</th><td>11</td><td>2.3570878382435714</td><td>5.206292474120977</td></tr><tr><th>12</th><td>12</td><td>4.722098413988396</td><td>16.405600066230548</td></tr><tr><th>13</th><td>13</td><td>7.250777052102158</td><td>2.2965841578985566</td></tr><tr><th>14</th><td>14</td><td>14.045762723513572</td><td>13.916189289607622</td></tr><tr><th>15</th><td>15</td><td>5.555354372260618</td><td>13.169395756997314</td></tr><tr><th>16</th><td>16</td><td>8.380272053345767</td><td>15.952306109772046</td></tr><tr><th>17</th><td>17</td><td>22.55123574907745</td><td>2.138438140121962</td></tr><tr><th>18</th><td>18</td><td>4.181347879821995</td><td>23.008485241198564</td></tr><tr><th>19</th><td>19</td><td>10.857992415555795</td><td>10.202238543876135</td></tr><tr><th>20</th><td>20</td><td>2.8843543579337605</td><td>21.520188525299993</td></tr><tr><th>21</th><td>21</td><td>14.865164344213843</td><td>3.8252696715301626</td></tr><tr><th>22</th><td>22</td><td>24.816447719142964</td><td>3.35798847005368</td></tr><tr><th>23</th><td>23</td><td>24.044275751647692</td><td>19.096083162547394</td></tr><tr><th>24</th><td>24</td><td>19.922419732171804</td><td>22.730141363514853</td></tr><tr><th>25</th><td>25</td><td>9.123733723729782</td><td>2.29193811202012</td></tr><tr><th>26</th><td>26</td><td>0.45431957378815335</td><td>3.5580545143071127</td></tr><tr><th>27</th><td>27</td><td>4.643780958524641</td><td>13.028970678375396</td></tr><tr><th>28</th><td>28</td><td>0.8544739531341605</td><td>2.938933915089498</td></tr><tr><th>29</th><td>29</td><td>5.458216890363937</td><td>19.938842863646244</td></tr><tr><th>30</th><td>30</td><td>16.486725192340586</td><td>13.068776900954898</td></tr><tr><th>&vellip;</th><td>&vellip;</td><td>&vellip;</td><td>&vellip;</td></tr></table>"
       ],
       "metadata": {},
       "output_type": "pyout",
       "prompt_number": 3,
       "text": [
        "625x3 DataFrame\n",
        "| Row | ind_id | x        | y        |\n",
        "|-----|--------|----------|----------|\n",
        "| 1   | 1      | 5.12026  | 7.87513  |\n",
        "| 2   | 2      | 24.7646  | 6.91733  |\n",
        "| 3   | 3      | 20.6448  | 18.144   |\n",
        "| 4   | 4      | 4.23344  | 15.2658  |\n",
        "| 5   | 5      | 21.2852  | 18.4247  |\n",
        "| 6   | 6      | 19.7896  | 3.16082  |\n",
        "| 7   | 7      | 17.2646  | 0.902602 |\n",
        "| 8   | 8      | 6.11204  | 16.3942  |\n",
        "| 9   | 9      | 4.01468  | 23.4542  |\n",
        "| 10  | 10     | 21.595   | 5.75506  |\n",
        "| 11  | 11     | 2.35709  | 5.20629  |\n",
        "\u22ee\n",
        "| 614 | 614    | 15.1535  | 24.4013  |\n",
        "| 615 | 615    | 3.78403  | 11.1077  |\n",
        "| 616 | 616    | 13.2488  | 22.9025  |\n",
        "| 617 | 617    | 9.9499   | 9.92473  |\n",
        "| 618 | 618    | 4.92643  | 2.0633   |\n",
        "| 619 | 619    | 1.21869  | 3.69655  |\n",
        "| 620 | 620    | 5.96817  | 10.4862  |\n",
        "| 621 | 621    | 0.848534 | 2.67185  |\n",
        "| 622 | 622    | 16.646   | 3.58079  |\n",
        "| 623 | 623    | 10.5753  | 18.9871  |\n",
        "| 624 | 624    | 18.0886  | 22.6377  |\n",
        "| 625 | 625    | 1.47854  | 22.83    |"
       ]
      }
     ],
     "prompt_number": 3
    },
    {
     "cell_type": "markdown",
     "metadata": {},
     "source": [
      "Generate the initial infection and propagate infection through population (SI model) in continuous time with parameters $\\alpha=2 and \\beta=6$"
     ]
    },
    {
     "cell_type": "code",
     "collapsed": true,
     "input": [
      "evdb = infect_recover_loop(pop_db1, \"continuous\", \"SI\", 2, 6, Inf)"
     ],
     "language": "python",
     "metadata": {},
     "outputs": [
      {
       "ename": "LoadError",
       "evalue": "event_time_update not defined\nwhile loading In[4], in expression starting on line 1",
       "output_type": "pyerr",
       "traceback": [
        "event_time_update not defined\nwhile loading In[4], in expression starting on line 1",
        "",
        " in initial_infect! at /Users/justin/Dropbox/Projects/ilmtools/events.jl:41",
        " in infect_recover_loop at /Users/justin/Dropbox/Projects/ilmtools/events.jl:224"
       ]
      }
     ],
     "prompt_number": 4
    },
    {
     "cell_type": "markdown",
     "metadata": {},
     "source": [
      "Visualize infection (susceptible and infected) through time"
     ]
    },
    {
     "cell_type": "code",
     "collapsed": true,
     "input": [
      "evseries = state_timeseries(evdb)\n",
      "plot(evseries, x=\"time\", y=\"S\", Geom.line)"
     ],
     "language": "python",
     "metadata": {},
     "outputs": [
      {
       "ename": "LoadError",
       "evalue": "evdb not defined\nwhile loading In[5], in expression starting on line 1",
       "output_type": "pyerr",
       "traceback": [
        "evdb not defined\nwhile loading In[5], in expression starting on line 1",
        ""
       ]
      }
     ],
     "prompt_number": 5
    },
    {
     "cell_type": "code",
     "collapsed": false,
     "input": [
      "plot(evseries, x=\"time\", y=\"I\", Geom.line)"
     ],
     "language": "python",
     "metadata": {},
     "outputs": [
      {
       "ename": "LoadError",
       "evalue": "evseries not defined\nwhile loading In[6], in expression starting on line 1",
       "output_type": "pyerr",
       "traceback": [
        "evseries not defined\nwhile loading In[6], in expression starting on line 1",
        ""
       ]
      }
     ],
     "prompt_number": 6
    },
    {
     "cell_type": "markdown",
     "metadata": {},
     "source": [
      "Spatial plots with a time window of 0.1"
     ]
    },
    {
     "cell_type": "code",
     "collapsed": true,
     "input": [
      "state_animation(0.1, evdb, pop_db1)"
     ],
     "language": "python",
     "metadata": {},
     "outputs": [
      {
       "ename": "LoadError",
       "evalue": "evdb not defined\nwhile loading In[7], in expression starting on line 1",
       "output_type": "pyerr",
       "traceback": [
        "evdb not defined\nwhile loading In[7], in expression starting on line 1",
        ""
       ]
      }
     ],
     "prompt_number": 7
    }
   ],
   "metadata": {}
  }
 ]
}