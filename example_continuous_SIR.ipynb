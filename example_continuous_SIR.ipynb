{
 "metadata": {
  "language": "Julia",
  "name": "",
  "signature": "sha256:117b18bcb621c24d4b362bf74b9dee2afadfba3b36d4bcada2d1138c482046c2"
 },
 "nbformat": 3,
 "nbformat_minor": 0,
 "worksheets": [
  {
   "cells": [
    {
     "cell_type": "markdown",
     "metadata": {},
     "source": [
      "Load the ilmtools package..."
     ]
    },
    {
     "cell_type": "code",
     "collapsed": false,
     "input": [
      "include(\"ilmtools.jl\")"
     ],
     "language": "python",
     "metadata": {},
     "outputs": [
      {
       "metadata": {},
       "output_type": "pyout",
       "prompt_number": 22,
       "text": [
        "state_animation (generic function with 1 method)"
       ]
      }
     ],
     "prompt_number": 22
    },
    {
     "cell_type": "markdown",
     "metadata": {},
     "source": [
      "Generate a population from a bi-variate normal distribution..."
     ]
    },
    {
     "cell_type": "code",
     "collapsed": true,
     "input": [
      "pop_db1 = create_pop_db_univariates(200, Uniform(0,10), Uniform(0,10))"
     ],
     "language": "python",
     "metadata": {},
     "outputs": [
      {
       "html": [
        "<table class=\"data-frame\"><tr><th></th><th>ind_id</th><th>x</th><th>y</th></tr><tr><th>1</th><td>1</td><td>3.133356177127644</td><td>3.2857266518910655</td></tr><tr><th>2</th><td>2</td><td>6.219713667205397</td><td>8.388702919571852</td></tr><tr><th>3</th><td>3</td><td>5.921435871201231</td><td>1.381801813669774</td></tr><tr><th>4</th><td>4</td><td>0.787419049513316</td><td>3.904935450744653</td></tr><tr><th>5</th><td>5</td><td>8.133024929627933</td><td>8.226504201505955</td></tr><tr><th>6</th><td>6</td><td>4.6523747757245815</td><td>2.9230693815899</td></tr><tr><th>7</th><td>7</td><td>5.6119223908463045</td><td>6.396263809495952</td></tr><tr><th>8</th><td>8</td><td>8.607489193626064</td><td>4.3873075155668095</td></tr><tr><th>9</th><td>9</td><td>8.544077356661946</td><td>2.6236138463581637</td></tr><tr><th>10</th><td>10</td><td>0.525838533371783</td><td>6.9587674814913765</td></tr><tr><th>11</th><td>11</td><td>8.69436782939594</td><td>7.710361394864556</td></tr><tr><th>12</th><td>12</td><td>5.403049116687391</td><td>5.253825853708715</td></tr><tr><th>13</th><td>13</td><td>9.535717114817185</td><td>6.834640771623288</td></tr><tr><th>14</th><td>14</td><td>7.9379935089390585</td><td>3.250304395902577</td></tr><tr><th>15</th><td>15</td><td>6.705439005416385</td><td>2.110326190395806</td></tr><tr><th>16</th><td>16</td><td>1.8406336646633181</td><td>6.742372896633482</td></tr><tr><th>17</th><td>17</td><td>1.1943460954448692</td><td>1.9537777060974304</td></tr><tr><th>18</th><td>18</td><td>8.256516837846954</td><td>2.7503464437054026</td></tr><tr><th>19</th><td>19</td><td>3.8185652215866184</td><td>5.197844675024976</td></tr><tr><th>20</th><td>20</td><td>0.05754483576275504</td><td>2.0714807832356064</td></tr><tr><th>21</th><td>21</td><td>5.8308330462620965</td><td>1.6102752064660364</td></tr><tr><th>22</th><td>22</td><td>8.020234184832093</td><td>5.427626706565936</td></tr><tr><th>23</th><td>23</td><td>9.016178531123376</td><td>1.0835503454688422</td></tr><tr><th>24</th><td>24</td><td>7.342935773951245</td><td>6.017631043071415</td></tr><tr><th>25</th><td>25</td><td>1.8180193746097428</td><td>4.4942584937152645</td></tr><tr><th>26</th><td>26</td><td>3.4806801451865987</td><td>6.8300110262988145</td></tr><tr><th>27</th><td>27</td><td>0.6770344839131326</td><td>2.031952440914806</td></tr><tr><th>28</th><td>28</td><td>0.7134653565889271</td><td>7.274094754136906</td></tr><tr><th>29</th><td>29</td><td>1.7509164025376522</td><td>6.407896657266936</td></tr><tr><th>30</th><td>30</td><td>6.211119519311419</td><td>1.6926363040748638</td></tr><tr><th>&vellip;</th><td>&vellip;</td><td>&vellip;</td><td>&vellip;</td></tr></table>"
       ],
       "metadata": {},
       "output_type": "pyout",
       "prompt_number": 2,
       "text": [
        "200x3 DataFrame\n",
        "| Row | ind_id | x        | y       |\n",
        "|-----|--------|----------|---------|\n",
        "| 1   | 1      | 3.13336  | 3.28573 |\n",
        "| 2   | 2      | 6.21971  | 8.3887  |\n",
        "| 3   | 3      | 5.92144  | 1.3818  |\n",
        "| 4   | 4      | 0.787419 | 3.90494 |\n",
        "| 5   | 5      | 8.13302  | 8.2265  |\n",
        "| 6   | 6      | 4.65237  | 2.92307 |\n",
        "| 7   | 7      | 5.61192  | 6.39626 |\n",
        "| 8   | 8      | 8.60749  | 4.38731 |\n",
        "| 9   | 9      | 8.54408  | 2.62361 |\n",
        "| 10  | 10     | 0.525839 | 6.95877 |\n",
        "| 11  | 11     | 8.69437  | 7.71036 |\n",
        "\u22ee\n",
        "| 189 | 189    | 3.9908   | 4.94552 |\n",
        "| 190 | 190    | 9.42912  | 5.53279 |\n",
        "| 191 | 191    | 8.5081   | 4.02352 |\n",
        "| 192 | 192    | 5.74623  | 4.47605 |\n",
        "| 193 | 193    | 6.92776  | 6.65437 |\n",
        "| 194 | 194    | 4.26026  | 8.4188  |\n",
        "| 195 | 195    | 5.72957  | 5.60659 |\n",
        "| 196 | 196    | 1.54891  | 5.75852 |\n",
        "| 197 | 197    | 1.98456  | 5.1059  |\n",
        "| 198 | 198    | 1.17916  | 6.6093  |\n",
        "| 199 | 199    | 7.0739   | 8.66547 |\n",
        "| 200 | 200    | 8.10812  | 5.26329 |"
       ]
      }
     ],
     "prompt_number": 2
    },
    {
     "cell_type": "markdown",
     "metadata": {},
     "source": [
      "Generate the initial infection and propagate infection through population (SIR model) in continuous time with parameters $\\alpha=2, \\beta=8, \\gamma=5$"
     ]
    },
    {
     "cell_type": "code",
     "collapsed": true,
     "input": [
      "evdb = infect_recover_loop(pop_db1, \"continuous\", \"SIR\", 2, 8, 5)"
     ],
     "language": "python",
     "metadata": {},
     "outputs": [
      {
       "ename": "LoadError",
       "evalue": "Simultaneous infecitons...\nwhile loading In[23], in expression starting on line 1",
       "output_type": "pyerr",
       "traceback": [
        "Simultaneous infecitons...\nwhile loading In[23], in expression starting on line 1",
        "",
        " in infect_recover at /Users/justin/Dropbox/Projects/ilmtools/events.jl:195",
        " in infect_recover_loop at /Users/justin/Dropbox/Projects/ilmtools/events.jl:250"
       ]
      }
     ],
     "prompt_number": 23
    },
    {
     "cell_type": "markdown",
     "metadata": {},
     "source": [
      "Visualize infection (susceptible, infected, and recovered) through time"
     ]
    },
    {
     "cell_type": "code",
     "collapsed": true,
     "input": [
      "evseries = state_timeseries(evdb)\n",
      "plot(evseries, x=\"time\", y=\"S\", Geom.line)"
     ],
     "language": "python",
     "metadata": {},
     "outputs": [
      {
       "ename": "LoadError",
       "evalue": "evdb not defined\nwhile loading In[4], in expression starting on line 1",
       "output_type": "pyerr",
       "traceback": [
        "evdb not defined\nwhile loading In[4], in expression starting on line 1",
        ""
       ]
      }
     ],
     "prompt_number": 4
    },
    {
     "cell_type": "code",
     "collapsed": false,
     "input": [
      "plot(evseries, x=\"time\", y=\"I\", Geom.line)"
     ],
     "language": "python",
     "metadata": {},
     "outputs": [
      {
       "ename": "LoadError",
       "evalue": "evseries not defined\nwhile loading In[5], in expression starting on line 1",
       "output_type": "pyerr",
       "traceback": [
        "evseries not defined\nwhile loading In[5], in expression starting on line 1",
        ""
       ]
      }
     ],
     "prompt_number": 5
    },
    {
     "cell_type": "code",
     "collapsed": false,
     "input": [
      "plot(evseries, x=\"time\", y=\"R\", Geom.line)"
     ],
     "language": "python",
     "metadata": {},
     "outputs": [
      {
       "ename": "LoadError",
       "evalue": "evseries not defined\nwhile loading In[6], in expression starting on line 1",
       "output_type": "pyerr",
       "traceback": [
        "evseries not defined\nwhile loading In[6], in expression starting on line 1",
        ""
       ]
      }
     ],
     "prompt_number": 6
    },
    {
     "cell_type": "markdown",
     "metadata": {},
     "source": [
      "Spatial plots with a time window of 0.1"
     ]
    },
    {
     "cell_type": "code",
     "collapsed": true,
     "input": [
      "state_animation(0.1, evdb, pop_db1)"
     ],
     "language": "python",
     "metadata": {},
     "outputs": [
      {
       "ename": "LoadError",
       "evalue": "evdb not defined\nwhile loading In[7], in expression starting on line 1",
       "output_type": "pyerr",
       "traceback": [
        "evdb not defined\nwhile loading In[7], in expression starting on line 1",
        ""
       ]
      }
     ],
     "prompt_number": 7
    },
    {
     "cell_type": "code",
     "collapsed": false,
     "input": [],
     "language": "python",
     "metadata": {},
     "outputs": []
    }
   ],
   "metadata": {}
  }
 ]
}