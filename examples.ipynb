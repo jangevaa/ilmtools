{
 "metadata": {
  "language": "Julia",
  "name": "",
  "signature": "sha256:809b22052c1857299d2e4c642c79ee0b019c37f305b8ab9fce9e268f5537ea56"
 },
 "nbformat": 3,
 "nbformat_minor": 0,
 "worksheets": [
  {
   "cells": [
    {
     "cell_type": "markdown",
     "metadata": {},
     "source": [
      "Load the required .jl files"
     ]
    },
    {
     "cell_type": "code",
     "collapsed": false,
     "input": [
      "include(\"events.jl\")\n",
      "include(\"population.jl\")"
     ],
     "language": "python",
     "metadata": {},
     "outputs": [
      {
       "metadata": {},
       "output_type": "pyout",
       "prompt_number": 1,
       "text": [
        "distance_mat_fun (generic function with 1 method)"
       ]
      }
     ],
     "prompt_number": 1
    },
    {
     "cell_type": "markdown",
     "metadata": {},
     "source": [
      "Generating a population from a bi-variate normal distribution"
     ]
    },
    {
     "cell_type": "code",
     "collapsed": false,
     "input": [
      "pop_db1 = pop_db_fun(50, MvNormal(eye(2).*2))"
     ],
     "language": "python",
     "metadata": {},
     "outputs": [
      {
       "html": [
        "<table class=\"data-frame\"><tr><th></th><th>ind_id</th><th>x</th><th>y</th></tr><tr><th>1</th><td>1</td><td>0.3437094712729001</td><td>0.3437094712729001</td></tr><tr><th>2</th><td>2</td><td>-0.14845916151607413</td><td>-0.14845916151607413</td></tr><tr><th>3</th><td>3</td><td>-0.24215997930380334</td><td>-0.24215997930380334</td></tr><tr><th>4</th><td>4</td><td>0.19182947076353699</td><td>0.19182947076353699</td></tr><tr><th>5</th><td>5</td><td>0.22413960439446148</td><td>0.22413960439446148</td></tr><tr><th>6</th><td>6</td><td>1.3442672936159639</td><td>1.3442672936159639</td></tr><tr><th>7</th><td>7</td><td>-0.8681009583035829</td><td>-0.8681009583035829</td></tr><tr><th>8</th><td>8</td><td>-1.0351185458777639</td><td>-1.0351185458777639</td></tr><tr><th>9</th><td>9</td><td>-0.32554303157223297</td><td>-0.32554303157223297</td></tr><tr><th>10</th><td>10</td><td>0.6074061005441361</td><td>0.6074061005441361</td></tr><tr><th>11</th><td>11</td><td>-1.321139190982193</td><td>-1.321139190982193</td></tr><tr><th>12</th><td>12</td><td>1.2034062104530305</td><td>1.2034062104530305</td></tr><tr><th>13</th><td>13</td><td>-2.1375050472990917</td><td>-2.1375050472990917</td></tr><tr><th>14</th><td>14</td><td>0.31610691751066117</td><td>0.31610691751066117</td></tr><tr><th>15</th><td>15</td><td>0.41770314429576133</td><td>0.41770314429576133</td></tr><tr><th>16</th><td>16</td><td>0.6567482860559856</td><td>0.6567482860559856</td></tr><tr><th>17</th><td>17</td><td>4.681794968463779</td><td>4.681794968463779</td></tr><tr><th>18</th><td>18</td><td>-0.29931326117103596</td><td>-0.29931326117103596</td></tr><tr><th>19</th><td>19</td><td>-2.6089031944544154</td><td>-2.6089031944544154</td></tr><tr><th>20</th><td>20</td><td>1.6601705911176976</td><td>1.6601705911176976</td></tr><tr><th>21</th><td>21</td><td>0.8364453426459609</td><td>0.8364453426459609</td></tr><tr><th>22</th><td>22</td><td>-2.020250988279169</td><td>-2.020250988279169</td></tr><tr><th>23</th><td>23</td><td>1.646644856396023</td><td>1.646644856396023</td></tr><tr><th>24</th><td>24</td><td>-2.9408195788149634</td><td>-2.9408195788149634</td></tr><tr><th>25</th><td>25</td><td>-0.6310919015785601</td><td>-0.6310919015785601</td></tr><tr><th>26</th><td>26</td><td>0.5030391478757276</td><td>0.5030391478757276</td></tr><tr><th>27</th><td>27</td><td>-2.978942231028531</td><td>-2.978942231028531</td></tr><tr><th>28</th><td>28</td><td>-1.8066858278238587</td><td>-1.8066858278238587</td></tr><tr><th>29</th><td>29</td><td>-1.2095787190005756</td><td>-1.2095787190005756</td></tr><tr><th>30</th><td>30</td><td>-0.4366231964365914</td><td>-0.4366231964365914</td></tr><tr><th>&vellip;</th><td>&vellip;</td><td>&vellip;</td><td>&vellip;</td></tr></table>"
       ],
       "metadata": {},
       "output_type": "pyout",
       "prompt_number": 2,
       "text": [
        "50x3 DataFrame\n",
        "| Row | ind_id | x         | y         |\n",
        "|-----|--------|-----------|-----------|\n",
        "| 1   | 1      | 0.343709  | 0.343709  |\n",
        "| 2   | 2      | -0.148459 | -0.148459 |\n",
        "| 3   | 3      | -0.24216  | -0.24216  |\n",
        "| 4   | 4      | 0.191829  | 0.191829  |\n",
        "| 5   | 5      | 0.22414   | 0.22414   |\n",
        "| 6   | 6      | 1.34427   | 1.34427   |\n",
        "| 7   | 7      | -0.868101 | -0.868101 |\n",
        "| 8   | 8      | -1.03512  | -1.03512  |\n",
        "| 9   | 9      | -0.325543 | -0.325543 |\n",
        "| 10  | 10     | 0.607406  | 0.607406  |\n",
        "| 11  | 11     | -1.32114  | -1.32114  |\n",
        "\u22ee\n",
        "| 39  | 39     | 0.646095  | 0.646095  |\n",
        "| 40  | 40     | -0.424466 | -0.424466 |\n",
        "| 41  | 41     | -1.90125  | -1.90125  |\n",
        "| 42  | 42     | 0.666611  | 0.666611  |\n",
        "| 43  | 43     | -1.77274  | -1.77274  |\n",
        "| 44  | 44     | -0.727949 | -0.727949 |\n",
        "| 45  | 45     | 0.89269   | 0.89269   |\n",
        "| 46  | 46     | -2.01551  | -2.01551  |\n",
        "| 47  | 47     | -1.54632  | -1.54632  |\n",
        "| 48  | 48     | -0.519363 | -0.519363 |\n",
        "| 49  | 49     | 0.110403  | 0.110403  |\n",
        "| 50  | 50     | -2.19054  | -2.19054  |"
       ]
      }
     ],
     "prompt_number": 2
    },
    {
     "cell_type": "code",
     "collapsed": false,
     "input": [],
     "language": "python",
     "metadata": {},
     "outputs": [],
     "prompt_number": 3
    }
   ],
   "metadata": {}
  }
 ]
}