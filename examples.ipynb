{
 "metadata": {
  "language": "Julia",
  "name": "",
  "signature": "sha256:e6f8f81ebc8fa8ac2d355bb10c1ea789f45593e13149ff200bec122b557febfc"
 },
 "nbformat": 3,
 "nbformat_minor": 0,
 "worksheets": [
  {
   "cells": [
    {
     "cell_type": "markdown",
     "metadata": {},
     "source": [
      "Load the required .jl files..."
     ]
    },
    {
     "cell_type": "code",
     "collapsed": false,
     "input": [
      "include(\"events.jl\")\n",
      "include(\"population.jl\")"
     ],
     "language": "python",
     "metadata": {},
     "outputs": [
      {
       "metadata": {},
       "output_type": "pyout",
       "prompt_number": 1,
       "text": [
        "create_dist_mtx (generic function with 1 method)"
       ]
      }
     ],
     "prompt_number": 1
    },
    {
     "cell_type": "markdown",
     "metadata": {},
     "source": [
      "Generate a population from a bi-variate normal distribution, and generate a distance matrix..."
     ]
    },
    {
     "cell_type": "code",
     "collapsed": false,
     "input": [
      "pop_db1 = create_pop_db(50, MvNormal(eye(2).*2))\n",
      "dist_mat1 = create_dist_mtx(pop_db1)"
     ],
     "language": "python",
     "metadata": {},
     "outputs": [
      {
       "metadata": {},
       "output_type": "pyout",
       "prompt_number": 2,
       "text": [
        "50x50 Array{Float64,2}:\n",
        " 0.0       1.03828    3.10048   0.960998   \u2026  1.51197    1.22532    0.010415\n",
        " 1.03828   0.0        2.0622    0.0772784     0.473698   2.2636     1.04869 \n",
        " 3.10048   2.0622     0.0       2.13948       1.5885     4.3258     3.11089 \n",
        " 0.960998  0.0772784  2.13948   0.0           0.550976   2.18632    0.971413\n",
        " 0.411222  0.627055   2.68926   0.549777      1.10075    1.63654    0.421637\n",
        " 0.113192  0.925085   2.98728   0.847806   \u2026  1.39878    1.33851    0.123607\n",
        " 2.23024   3.26852    5.33072   3.19124       3.74222    1.00492    2.21983 \n",
        " 0.993406  0.0448708  2.10707   0.0324076     0.518569   2.21872    1.00382 \n",
        " 0.20052   0.837757   2.89996   0.760479      1.31146    1.42584    0.210935\n",
        " 2.53351   1.49524    0.566964  1.57251       1.02154    3.75883    2.54393 \n",
        " 1.33152   0.293242   1.76896   0.37052    \u2026  0.180456   2.55684    1.34193 \n",
        " 1.25781   2.29609    4.35829   2.21881       2.76979    0.0324937  1.2474  \n",
        " 2.88214   1.84387    0.218333  1.92115       1.37017    4.10746    2.89256 \n",
        " \u22ee                                         \u22f1                                \n",
        " 0.470055  1.50833    3.57053   1.43105       1.98203    0.755263   0.45964 \n",
        " 2.95477   3.99305    6.05525   3.91577       4.46674    1.72945    2.94435 \n",
        " 2.53912   1.50085    0.561354  1.57812    \u2026  1.02715    3.76444    2.54954 \n",
        " 2.07137   1.0331     1.0291    1.11037       0.559398   3.29669    2.08179 \n",
        " 3.13694   2.09866    0.03646   2.17594       1.62496    4.36226    3.14735 \n",
        " 0.950585  1.98886    4.05106   1.91158       2.46256    0.274734   0.94017 \n",
        " 2.65318   3.69145    5.75365   3.61417       4.16515    1.42786    2.64276 \n",
        " 1.59011   0.551834   1.51037   0.629113   \u2026  0.0781362  2.81543    1.60053 \n",
        " 4.0263    5.06458    7.12678   4.9873        5.53828    2.80098    4.01589 \n",
        " 1.51197   0.473698   1.5885    0.550976      0.0        2.73729    1.52239 \n",
        " 1.22532   2.2636     4.3258    2.18632       2.73729    0.0        1.2149  \n",
        " 0.010415  1.04869    3.11089   0.971413      1.52239    1.2149     0.0     "
       ]
      }
     ],
     "prompt_number": 2
    },
    {
     "cell_type": "markdown",
     "metadata": {},
     "source": [
      "Set alpha to 1, beta to 15..."
     ]
    },
    {
     "cell_type": "code",
     "collapsed": false,
     "input": [
      "dist_mat_ab1 = dist_ab_mtx(dist_mat1, 1, 15)"
     ],
     "language": "python",
     "metadata": {},
     "outputs": [
      {
       "metadata": {},
       "output_type": "pyout",
       "prompt_number": 3,
       "text": [
        "50x50 Array{Float64,2}:\n",
        "    Inf                0.56925      \u2026    0.0474529         5.434e29   \n",
        "      0.56925        Inf                 4.7645e-6         0.490097   \n",
        "      4.2518e-8        1.92769e-5        2.87746e-10       4.04321e-8 \n",
        "      1.81618          4.77673e16        8.02236e-6        1.54504    \n",
        " 614979.0           1097.52              0.000618156  422595.0        \n",
        "      1.5587e14        3.21571      \u2026    0.0126087         4.16248e13 \n",
        "      5.95284e-6       1.92636e-8        0.929001          6.38582e-6 \n",
        "      1.10433          1.66168e20        6.43351e-6        0.944399   \n",
        "      2.93526e10      14.2308            0.0048859         1.37335e10 \n",
        "      8.79331e-7       0.00239526        2.36704e-9        8.26851e-7 \n",
        "      0.0136393        9.80869e7    \u2026    7.66395e-7        0.0121349  \n",
        "      0.032045         3.84741e-6        2.10387e22        0.0363016  \n",
        "      1.27135e-7       0.00010329        6.25743e-10       1.20439e-7 \n",
        "      \u22ee                             \u22f1                                 \n",
        "  82749.2              0.00210157       67.3787       115805.0        \n",
        "      8.75279e-8       9.5595e-10        0.000270009       9.22888e-8 \n",
        "      8.50636e-7       0.00226442   \u2026    2.31468e-9        7.99977e-7 \n",
        "      1.80354e-5       0.613607          1.69366e-8        1.67284e-5 \n",
        "      3.56791e-8       1.48207e-5        2.53707e-10       3.39485e-8 \n",
        "      2.13862          3.31841e-5        2.60809e8         2.52291    \n",
        "      4.40057e-7       3.10484e-9        0.0047833         4.668e-7   \n",
        "      0.000951893   7462.25         \u2026    1.80646e-7        0.000863095\n",
        "      8.44116e-10      2.70301e-11       1.95137e-7        8.77556e-10\n",
        "      0.0020269    73701.4               2.75536e-7        0.00182857 \n",
        "      0.0474529        4.7645e-6       Inf                 0.053935   \n",
        "      5.434e29         0.490097          0.053935        Inf          "
       ]
      }
     ],
     "prompt_number": 3
    },
    {
     "cell_type": "markdown",
     "metadata": {},
     "source": [
      "Use an SIR model..."
     ]
    },
    {
     "cell_type": "code",
     "collapsed": false,
     "input": [
      "edb = create_event_db(pop_db1, \"SIR\")"
     ],
     "language": "python",
     "metadata": {},
     "outputs": [
      {
       "output_type": "stream",
       "stream": "stderr",
       "text": [
        "WARNING: nans(dims...) is deprecated, use fill(NaN,dims) instead.\n",
        " in create_event_db at /Users/justin/Dropbox/Projects/ilmtools/events.jl:12\n",
        " in include_string at loading.jl:97\n",
        " in execute_request_0x535c5df2 at /Users/justin/.julia/v0.3/IJulia/src/execute_request.jl:145\n",
        " in eventloop at /Users/justin/.julia/v0.3/IJulia/src/IJulia.jl:115\n",
        " in anonymous at task.jl:340\n",
        "WARNING: nans(dims...) is deprecated, use fill(NaN,dims) instead.\n",
        " in create_event_db at /Users/justin/Dropbox/Projects/ilmtools/events.jl:12\n",
        " in include_string at loading.jl:97\n",
        " in execute_request_0x535c5df2 at /Users/justin/.julia/v0.3/IJulia/src/execute_request.jl:145\n",
        " in eventloop at /Users/justin/.julia/v0.3/IJulia/src/IJulia.jl:115\n",
        " in anonymous at task.jl:340\n"
       ]
      },
      {
       "html": [
        "<table class=\"data-frame\"><tr><th></th><th>ind_id</th><th>s</th><th>i</th><th>r</th></tr><tr><th>1</th><td>1</td><td>0.0</td><td>NaN</td><td>NaN</td></tr><tr><th>2</th><td>2</td><td>0.0</td><td>NaN</td><td>NaN</td></tr><tr><th>3</th><td>3</td><td>0.0</td><td>NaN</td><td>NaN</td></tr><tr><th>4</th><td>4</td><td>0.0</td><td>NaN</td><td>NaN</td></tr><tr><th>5</th><td>5</td><td>0.0</td><td>NaN</td><td>NaN</td></tr><tr><th>6</th><td>6</td><td>0.0</td><td>NaN</td><td>NaN</td></tr><tr><th>7</th><td>7</td><td>0.0</td><td>NaN</td><td>NaN</td></tr><tr><th>8</th><td>8</td><td>0.0</td><td>NaN</td><td>NaN</td></tr><tr><th>9</th><td>9</td><td>0.0</td><td>NaN</td><td>NaN</td></tr><tr><th>10</th><td>10</td><td>0.0</td><td>NaN</td><td>NaN</td></tr><tr><th>11</th><td>11</td><td>0.0</td><td>NaN</td><td>NaN</td></tr><tr><th>12</th><td>12</td><td>0.0</td><td>NaN</td><td>NaN</td></tr><tr><th>13</th><td>13</td><td>0.0</td><td>NaN</td><td>NaN</td></tr><tr><th>14</th><td>14</td><td>0.0</td><td>NaN</td><td>NaN</td></tr><tr><th>15</th><td>15</td><td>0.0</td><td>NaN</td><td>NaN</td></tr><tr><th>16</th><td>16</td><td>0.0</td><td>NaN</td><td>NaN</td></tr><tr><th>17</th><td>17</td><td>0.0</td><td>NaN</td><td>NaN</td></tr><tr><th>18</th><td>18</td><td>0.0</td><td>NaN</td><td>NaN</td></tr><tr><th>19</th><td>19</td><td>0.0</td><td>NaN</td><td>NaN</td></tr><tr><th>20</th><td>20</td><td>0.0</td><td>NaN</td><td>NaN</td></tr><tr><th>21</th><td>21</td><td>0.0</td><td>NaN</td><td>NaN</td></tr><tr><th>22</th><td>22</td><td>0.0</td><td>NaN</td><td>NaN</td></tr><tr><th>23</th><td>23</td><td>0.0</td><td>NaN</td><td>NaN</td></tr><tr><th>24</th><td>24</td><td>0.0</td><td>NaN</td><td>NaN</td></tr><tr><th>25</th><td>25</td><td>0.0</td><td>NaN</td><td>NaN</td></tr><tr><th>26</th><td>26</td><td>0.0</td><td>NaN</td><td>NaN</td></tr><tr><th>27</th><td>27</td><td>0.0</td><td>NaN</td><td>NaN</td></tr><tr><th>28</th><td>28</td><td>0.0</td><td>NaN</td><td>NaN</td></tr><tr><th>29</th><td>29</td><td>0.0</td><td>NaN</td><td>NaN</td></tr><tr><th>30</th><td>30</td><td>0.0</td><td>NaN</td><td>NaN</td></tr><tr><th>&vellip;</th><td>&vellip;</td><td>&vellip;</td><td>&vellip;</td><td>&vellip;</td></tr></table>"
       ],
       "metadata": {},
       "output_type": "pyout",
       "prompt_number": 4,
       "text": [
        "50x4 DataFrame\n",
        "| Row | ind_id | s   | i   | r   |\n",
        "|-----|--------|-----|-----|-----|\n",
        "| 1   | 1      | 0.0 | NaN | NaN |\n",
        "| 2   | 2      | 0.0 | NaN | NaN |\n",
        "| 3   | 3      | 0.0 | NaN | NaN |\n",
        "| 4   | 4      | 0.0 | NaN | NaN |\n",
        "| 5   | 5      | 0.0 | NaN | NaN |\n",
        "| 6   | 6      | 0.0 | NaN | NaN |\n",
        "| 7   | 7      | 0.0 | NaN | NaN |\n",
        "| 8   | 8      | 0.0 | NaN | NaN |\n",
        "| 9   | 9      | 0.0 | NaN | NaN |\n",
        "| 10  | 10     | 0.0 | NaN | NaN |\n",
        "| 11  | 11     | 0.0 | NaN | NaN |\n",
        "\u22ee\n",
        "| 39  | 39     | 0.0 | NaN | NaN |\n",
        "| 40  | 40     | 0.0 | NaN | NaN |\n",
        "| 41  | 41     | 0.0 | NaN | NaN |\n",
        "| 42  | 42     | 0.0 | NaN | NaN |\n",
        "| 43  | 43     | 0.0 | NaN | NaN |\n",
        "| 44  | 44     | 0.0 | NaN | NaN |\n",
        "| 45  | 45     | 0.0 | NaN | NaN |\n",
        "| 46  | 46     | 0.0 | NaN | NaN |\n",
        "| 47  | 47     | 0.0 | NaN | NaN |\n",
        "| 48  | 48     | 0.0 | NaN | NaN |\n",
        "| 49  | 49     | 0.0 | NaN | NaN |\n",
        "| 50  | 50     | 0.0 | NaN | NaN |"
       ]
      }
     ],
     "prompt_number": 4
    },
    {
     "cell_type": "markdown",
     "metadata": {},
     "source": [
      "Use a continuous model and generate the initial infection and recovery (gamma = 5)"
     ]
    },
    {
     "cell_type": "code",
     "collapsed": false,
     "input": [
      "intial_infect(edb, \"continuous\", 5)"
     ],
     "language": "python",
     "metadata": {},
     "outputs": []
    }
   ],
   "metadata": {}
  }
 ]
}