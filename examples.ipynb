{
 "metadata": {
  "language": "Julia",
  "name": "",
  "signature": "sha256:de739b2a447efd13cdaa0f030fb35edc3205fe42e7e58b269873798901ffdc1d"
 },
 "nbformat": 3,
 "nbformat_minor": 0,
 "worksheets": [
  {
   "cells": [
    {
     "cell_type": "markdown",
     "metadata": {},
     "source": [
      "Load the required .jl files..."
     ]
    },
    {
     "cell_type": "code",
     "collapsed": false,
     "input": [
      "include(\"events.jl\")\n",
      "include(\"population.jl\")"
     ],
     "language": "python",
     "metadata": {},
     "outputs": [
      {
       "metadata": {},
       "output_type": "pyout",
       "prompt_number": 1,
       "text": [
        "create_dist_mtx (generic function with 1 method)"
       ]
      }
     ],
     "prompt_number": 1
    },
    {
     "cell_type": "markdown",
     "metadata": {},
     "source": [
      "Generate a population from a bi-variate normal distribution, and generate a distance matrix..."
     ]
    },
    {
     "cell_type": "code",
     "collapsed": false,
     "input": [
      "pop_db1 = create_pop_db(50, MvNormal(eye(2).*2))\n",
      "dist_mat1 = create_dist_mtx(pop_db1)"
     ],
     "language": "python",
     "metadata": {},
     "outputs": [
      {
       "metadata": {},
       "output_type": "pyout",
       "prompt_number": 2,
       "text": [
        "50x50 Array{Float64,2}:\n",
        " 0.0       0.76861    4.82642  2.79158   \u2026  0.748688   1.62748    0.500371\n",
        " 0.76861   0.0        4.05781  2.02297      1.5173     2.39609    1.26898 \n",
        " 4.82642   4.05781    0.0      2.03484      5.57511    6.4539     5.32679 \n",
        " 2.79158   2.02297    2.03484  0.0          3.54027    4.41906    3.29195 \n",
        " 2.10737   2.87598    6.93379  4.89895      1.35868    0.479884   1.607   \n",
        " 0.698087  1.4667     5.52451  3.48967   \u2026  0.0506007  0.929395   0.197717\n",
        " 0.527873  0.240736   4.29854  2.26371      1.27656    2.15536    1.02824 \n",
        " 0.242657  0.525952   4.58376  2.54892      0.991345   1.87014    0.743028\n",
        " 0.578626  0.189984   4.24779  2.21295      1.32731    2.20611    1.079   \n",
        " 2.5327    1.76409    2.29372  0.258876     3.28139    4.16019    3.03307 \n",
        " 3.15709   3.9257     7.98351  5.94867   \u2026  2.40841    1.52961    2.65672 \n",
        " 0.254968  1.02358    5.08139  3.04655      0.49372    1.37251    0.245402\n",
        " 0.899783  1.66839    5.7262   3.69136      0.151095   0.7277     0.399412\n",
        " \u22ee                                       \u22f1                                \n",
        " 1.7021    0.933486   3.12432  1.08948      2.45078    3.32958    2.20247 \n",
        " 1.63619   0.867577   3.19023  1.15539      2.38487    3.26367    2.13656 \n",
        " 1.0128    1.78141    5.83921  3.80438   \u2026  0.264108   0.614687   0.512425\n",
        " 1.86068   1.09207    2.96574  0.930902     2.60937    3.48816    2.36105 \n",
        " 0.560512  0.208098   4.26591  2.23107      1.3092     2.18799    1.06088 \n",
        " 1.35111   0.582502   3.47531  1.44047      2.0998     2.97859    1.85148 \n",
        " 1.67412   2.44273    6.50054  4.4657       0.925431   0.0466365  1.17375 \n",
        " 0.710083  0.0585262  4.11633  2.0815    \u2026  1.45877    2.33757    1.21045 \n",
        " 0.279966  0.488644   4.54645  2.51161      1.02865    1.90745    0.780337\n",
        " 0.748688  1.5173     5.57511  3.54027      0.0        0.878795   0.248317\n",
        " 1.62748   2.39609    6.4539   4.41906      0.878795   0.0        1.12711 \n",
        " 0.500371  1.26898    5.32679  3.29195      0.248317   1.12711    0.0     "
       ]
      }
     ],
     "prompt_number": 2
    },
    {
     "cell_type": "markdown",
     "metadata": {},
     "source": [
      "Set alpha to 1, beta to 15..."
     ]
    },
    {
     "cell_type": "code",
     "collapsed": false,
     "input": [
      "dist_mat_ab1 = dist_ab_mtx(dist_mat1, 1, 15)"
     ],
     "language": "python",
     "metadata": {},
     "outputs": [
      {
       "metadata": {},
       "output_type": "pyout",
       "prompt_number": 3,
       "text": [
        "50x50 Array{Float64,2}:\n",
        "   Inf               51.8099       \u2026      0.000671823   32405.7        \n",
        "    51.8099         Inf                   2.02977e-6        0.0280657  \n",
        "     5.56706e-11      7.50977e-10         7.12304e-13       1.2677e-11 \n",
        "     2.05235e-7       2.57134e-5          2.08953e-10       1.73062e-8 \n",
        "     1.39283e-5       1.31287e-7      60667.2               0.000812416\n",
        "   219.459            0.00319812   \u2026      2.99911           3.6254e10  \n",
        " 14522.9              1.89181e9           9.93608e-6        0.658501   \n",
        "     1.67918e9    15339.3                 8.35388e-5       86.0838     \n",
        "  3664.67             6.59549e10          7.00806e-6        0.319669   \n",
        "     8.8356e-7        0.000200529         5.16784e-10       5.91229e-8 \n",
        "     3.24106e-8       1.23378e-9   \u2026      0.00170327        4.31325e-7 \n",
        "     7.99292e8        0.704995            0.0086546         1.41846e9  \n",
        "     4.87457          0.000462943       117.683        952106.0        \n",
        "     \u22ee                             \u22f1                                   \n",
        "     0.000342958      2.80791             1.45936e-8        7.18391e-6 \n",
        "     0.000620164      8.42128             1.96973e-8        1.13313e-5 \n",
        "     0.826361         0.000173204  \u2026   1479.77          22674.7        \n",
        "     9.01434e-5       0.266843            7.26196e-9        2.53179e-6 \n",
        "  5905.15             1.6826e10           7.93063e-6        0.412089   \n",
        "     0.0109555     3315.45                7.75944e-8        9.70974e-5 \n",
        "     0.000439749      1.5201e-6           9.31346e19        0.090443   \n",
        "   169.965            3.08845e18   \u2026      2.94132e-6        0.0569869  \n",
        "     1.96528e8    46250.3                 6.21167e-5       41.283      \n",
        "    76.8222           0.00192282          6.94527           1.18822e9  \n",
        "     0.000671823      2.02977e-6        Inf                 0.166148   \n",
        " 32405.7              0.0280657           0.166148        Inf          "
       ]
      }
     ],
     "prompt_number": 3
    },
    {
     "cell_type": "markdown",
     "metadata": {},
     "source": [
      "Use an SIR model..."
     ]
    },
    {
     "cell_type": "code",
     "collapsed": false,
     "input": [
      "edb = create_event_db(pop_db1, \"SIR\")"
     ],
     "language": "python",
     "metadata": {},
     "outputs": [
      {
       "html": [
        "<table class=\"data-frame\"><tr><th></th><th>ind_id</th><th>s</th><th>i</th><th>r</th></tr><tr><th>1</th><td>1</td><td>0</td><td>NaN</td><td>NaN</td></tr><tr><th>2</th><td>2</td><td>0</td><td>NaN</td><td>NaN</td></tr><tr><th>3</th><td>3</td><td>0</td><td>NaN</td><td>NaN</td></tr><tr><th>4</th><td>4</td><td>0</td><td>NaN</td><td>NaN</td></tr><tr><th>5</th><td>5</td><td>0</td><td>NaN</td><td>NaN</td></tr><tr><th>6</th><td>6</td><td>0</td><td>NaN</td><td>NaN</td></tr><tr><th>7</th><td>7</td><td>0</td><td>NaN</td><td>NaN</td></tr><tr><th>8</th><td>8</td><td>0</td><td>NaN</td><td>NaN</td></tr><tr><th>9</th><td>9</td><td>0</td><td>NaN</td><td>NaN</td></tr><tr><th>10</th><td>10</td><td>0</td><td>NaN</td><td>NaN</td></tr><tr><th>11</th><td>11</td><td>0</td><td>NaN</td><td>NaN</td></tr><tr><th>12</th><td>12</td><td>0</td><td>NaN</td><td>NaN</td></tr><tr><th>13</th><td>13</td><td>0</td><td>NaN</td><td>NaN</td></tr><tr><th>14</th><td>14</td><td>0</td><td>NaN</td><td>NaN</td></tr><tr><th>15</th><td>15</td><td>0</td><td>NaN</td><td>NaN</td></tr><tr><th>16</th><td>16</td><td>0</td><td>NaN</td><td>NaN</td></tr><tr><th>17</th><td>17</td><td>0</td><td>NaN</td><td>NaN</td></tr><tr><th>18</th><td>18</td><td>0</td><td>NaN</td><td>NaN</td></tr><tr><th>19</th><td>19</td><td>0</td><td>NaN</td><td>NaN</td></tr><tr><th>20</th><td>20</td><td>0</td><td>NaN</td><td>NaN</td></tr><tr><th>21</th><td>21</td><td>0</td><td>NaN</td><td>NaN</td></tr><tr><th>22</th><td>22</td><td>0</td><td>NaN</td><td>NaN</td></tr><tr><th>23</th><td>23</td><td>0</td><td>NaN</td><td>NaN</td></tr><tr><th>24</th><td>24</td><td>0</td><td>NaN</td><td>NaN</td></tr><tr><th>25</th><td>25</td><td>0</td><td>NaN</td><td>NaN</td></tr><tr><th>26</th><td>26</td><td>0</td><td>NaN</td><td>NaN</td></tr><tr><th>27</th><td>27</td><td>0</td><td>NaN</td><td>NaN</td></tr><tr><th>28</th><td>28</td><td>0</td><td>NaN</td><td>NaN</td></tr><tr><th>29</th><td>29</td><td>0</td><td>NaN</td><td>NaN</td></tr><tr><th>30</th><td>30</td><td>0</td><td>NaN</td><td>NaN</td></tr><tr><th>&vellip;</th><td>&vellip;</td><td>&vellip;</td><td>&vellip;</td><td>&vellip;</td></tr></table>"
       ],
       "metadata": {},
       "output_type": "pyout",
       "prompt_number": 4,
       "text": [
        "50x4 DataFrame\n",
        "| Row | ind_id | s | i   | r   |\n",
        "|-----|--------|---|-----|-----|\n",
        "| 1   | 1      | 0 | NaN | NaN |\n",
        "| 2   | 2      | 0 | NaN | NaN |\n",
        "| 3   | 3      | 0 | NaN | NaN |\n",
        "| 4   | 4      | 0 | NaN | NaN |\n",
        "| 5   | 5      | 0 | NaN | NaN |\n",
        "| 6   | 6      | 0 | NaN | NaN |\n",
        "| 7   | 7      | 0 | NaN | NaN |\n",
        "| 8   | 8      | 0 | NaN | NaN |\n",
        "| 9   | 9      | 0 | NaN | NaN |\n",
        "| 10  | 10     | 0 | NaN | NaN |\n",
        "| 11  | 11     | 0 | NaN | NaN |\n",
        "\u22ee\n",
        "| 39  | 39     | 0 | NaN | NaN |\n",
        "| 40  | 40     | 0 | NaN | NaN |\n",
        "| 41  | 41     | 0 | NaN | NaN |\n",
        "| 42  | 42     | 0 | NaN | NaN |\n",
        "| 43  | 43     | 0 | NaN | NaN |\n",
        "| 44  | 44     | 0 | NaN | NaN |\n",
        "| 45  | 45     | 0 | NaN | NaN |\n",
        "| 46  | 46     | 0 | NaN | NaN |\n",
        "| 47  | 47     | 0 | NaN | NaN |\n",
        "| 48  | 48     | 0 | NaN | NaN |\n",
        "| 49  | 49     | 0 | NaN | NaN |\n",
        "| 50  | 50     | 0 | NaN | NaN |"
       ]
      }
     ],
     "prompt_number": 4
    },
    {
     "cell_type": "markdown",
     "metadata": {},
     "source": [
      "Use a continuous model and generate the initial infection and recovery (gamma = 5)"
     ]
    },
    {
     "cell_type": "code",
     "collapsed": false,
     "input": [
      "intial_infect(edb, \"continuous\", 5)"
     ],
     "language": "python",
     "metadata": {},
     "outputs": [
      {
       "html": [
        "<table class=\"data-frame\"><tr><th></th><th>ind_id</th><th>s</th><th>i</th><th>r</th></tr><tr><th>1</th><td>1</td><td>0</td><td>NaN</td><td>NaN</td></tr><tr><th>2</th><td>2</td><td>0</td><td>NaN</td><td>NaN</td></tr><tr><th>3</th><td>3</td><td>0</td><td>NaN</td><td>NaN</td></tr><tr><th>4</th><td>4</td><td>0</td><td>NaN</td><td>NaN</td></tr><tr><th>5</th><td>5</td><td>0</td><td>NaN</td><td>NaN</td></tr><tr><th>6</th><td>6</td><td>0</td><td>NaN</td><td>NaN</td></tr><tr><th>7</th><td>7</td><td>0</td><td>NaN</td><td>NaN</td></tr><tr><th>8</th><td>8</td><td>0</td><td>NaN</td><td>NaN</td></tr><tr><th>9</th><td>9</td><td>0</td><td>NaN</td><td>NaN</td></tr><tr><th>10</th><td>10</td><td>0</td><td>NaN</td><td>NaN</td></tr><tr><th>11</th><td>11</td><td>0</td><td>NaN</td><td>NaN</td></tr><tr><th>12</th><td>12</td><td>0</td><td>NaN</td><td>NaN</td></tr><tr><th>13</th><td>13</td><td>0</td><td>NaN</td><td>NaN</td></tr><tr><th>14</th><td>14</td><td>0</td><td>NaN</td><td>NaN</td></tr><tr><th>15</th><td>15</td><td>0</td><td>NaN</td><td>NaN</td></tr><tr><th>16</th><td>16</td><td>0</td><td>NaN</td><td>NaN</td></tr><tr><th>17</th><td>17</td><td>0</td><td>NaN</td><td>NaN</td></tr><tr><th>18</th><td>18</td><td>0</td><td>NaN</td><td>NaN</td></tr><tr><th>19</th><td>19</td><td>0</td><td>NaN</td><td>NaN</td></tr><tr><th>20</th><td>20</td><td>0</td><td>NaN</td><td>NaN</td></tr><tr><th>21</th><td>21</td><td>0</td><td>NaN</td><td>NaN</td></tr><tr><th>22</th><td>22</td><td>0</td><td>NaN</td><td>NaN</td></tr><tr><th>23</th><td>23</td><td>0</td><td>NaN</td><td>NaN</td></tr><tr><th>24</th><td>24</td><td>0</td><td>NaN</td><td>NaN</td></tr><tr><th>25</th><td>25</td><td>0</td><td>NaN</td><td>NaN</td></tr><tr><th>26</th><td>26</td><td>0</td><td>NaN</td><td>NaN</td></tr><tr><th>27</th><td>27</td><td>0</td><td>NaN</td><td>NaN</td></tr><tr><th>28</th><td>28</td><td>0</td><td>NaN</td><td>NaN</td></tr><tr><th>29</th><td>29</td><td>0</td><td>NaN</td><td>NaN</td></tr><tr><th>30</th><td>30</td><td>0</td><td>NaN</td><td>NaN</td></tr><tr><th>&vellip;</th><td>&vellip;</td><td>&vellip;</td><td>&vellip;</td><td>&vellip;</td></tr></table>"
       ],
       "metadata": {},
       "output_type": "pyout",
       "prompt_number": 5,
       "text": [
        "50x4 DataFrame\n",
        "| Row | ind_id | s | i   | r      |\n",
        "|-----|--------|---|-----|--------|\n",
        "| 1   | 1      | 0 | NaN | NaN    |\n",
        "| 2   | 2      | 0 | NaN | NaN    |\n",
        "| 3   | 3      | 0 | NaN | NaN    |\n",
        "| 4   | 4      | 0 | NaN | NaN    |\n",
        "| 5   | 5      | 0 | NaN | NaN    |\n",
        "| 6   | 6      | 0 | NaN | NaN    |\n",
        "| 7   | 7      | 0 | NaN | NaN    |\n",
        "| 8   | 8      | 0 | NaN | NaN    |\n",
        "| 9   | 9      | 0 | NaN | NaN    |\n",
        "| 10  | 10     | 0 | NaN | NaN    |\n",
        "| 11  | 11     | 0 | NaN | NaN    |\n",
        "\u22ee\n",
        "| 39  | 39     | 0 | NaN | NaN    |\n",
        "| 40  | 40     | 0 | NaN | NaN    |\n",
        "| 41  | 41     | 0 | NaN | NaN    |\n",
        "| 42  | 42     | 0 | NaN | NaN    |\n",
        "| 43  | 43     | 0 | 1.0 | 8.2336 |\n",
        "| 44  | 44     | 0 | NaN | NaN    |\n",
        "| 45  | 45     | 0 | NaN | NaN    |\n",
        "| 46  | 46     | 0 | NaN | NaN    |\n",
        "| 47  | 47     | 0 | NaN | NaN    |\n",
        "| 48  | 48     | 0 | NaN | NaN    |\n",
        "| 49  | 49     | 0 | NaN | NaN    |\n",
        "| 50  | 50     | 0 | NaN | NaN    |"
       ]
      }
     ],
     "prompt_number": 5
    },
    {
     "cell_type": "markdown",
     "metadata": {},
     "source": [
      "Propagate infection (loop for the number of individuals in the population)"
     ]
    },
    {
     "cell_type": "code",
     "collapsed": false,
     "input": [
      "for i = 2:pop_db1[end,1]\n",
      "    infect_recover(dist_mat_ab1, edb, \"continuous\", maximum(edb[:,3]), 5)\n",
      "end"
     ],
     "language": "python",
     "metadata": {},
     "outputs": [],
     "prompt_number": 6
    },
    {
     "cell_type": "code",
     "collapsed": false,
     "input": [
      "edb"
     ],
     "language": "python",
     "metadata": {},
     "outputs": [
      {
       "html": [
        "<table class=\"data-frame\"><tr><th></th><th>ind_id</th><th>s</th><th>i</th><th>r</th></tr><tr><th>1</th><td>1</td><td>0</td><td>1.000000000003519</td><td>1.7726233626508563</td></tr><tr><th>2</th><td>2</td><td>0</td><td>1.0</td><td>1.0950529626733947</td></tr><tr><th>3</th><td>3</td><td>0</td><td>243084.86992134948</td><td>243084.9173457781</td></tr><tr><th>4</th><td>4</td><td>0</td><td>1.0000002125875114</td><td>1.024552686559765</td></tr><tr><th>5</th><td>5</td><td>0</td><td>1.0000016921324257</td><td>1.0707186078830064</td></tr><tr><th>6</th><td>6</td><td>0</td><td>1.0000000010307588</td><td>1.190196869868969</td></tr><tr><th>7</th><td>7</td><td>0</td><td>1.0</td><td>1.2874120439657306</td></tr><tr><th>8</th><td>8</td><td>0</td><td>1.000000000001919</td><td>1.1085204224062428</td></tr><tr><th>9</th><td>9</td><td>0</td><td>1.0</td><td>1.2954138849034347</td></tr><tr><th>10</th><td>10</td><td>0</td><td>1.0000002125866096</td><td>1.0639195524675162</td></tr><tr><th>11</th><td>11</td><td>0</td><td>1.0534934357893793</td><td>1.1526609244181207</td></tr><tr><th>12</th><td>12</td><td>0</td><td>1.0000000006866012</td><td>1.147081001240206</td></tr><tr><th>13</th><td>13</td><td>0</td><td>1.0000000010307593</td><td>1.2668452729671211</td></tr><tr><th>14</th><td>14</td><td>0</td><td>1.0000002125866096</td><td>1.0407658674994105</td></tr><tr><th>15</th><td>15</td><td>0</td><td>1.0000000000033602</td><td>1.0817358176341532</td></tr><tr><th>16</th><td>16</td><td>0</td><td>1.0000000000028635</td><td>1.052407200614873</td></tr><tr><th>17</th><td>17</td><td>0</td><td>1.0000000010307588</td><td>1.9218484160282507</td></tr><tr><th>18</th><td>18</td><td>0</td><td>1.0</td><td>1.0361605570329493</td></tr><tr><th>19</th><td>19</td><td>0</td><td>1.0000000000545954</td><td>1.0543590695211633</td></tr><tr><th>20</th><td>20</td><td>0</td><td>1.05349345315226</td><td>1.134874041663267</td></tr><tr><th>21</th><td>21</td><td>0</td><td>1.000000000003472</td><td>1.1794124404004769</td></tr><tr><th>22</th><td>22</td><td>0</td><td>1.0000000013184258</td><td>1.1007104744306508</td></tr><tr><th>23</th><td>23</td><td>0</td><td>1.000000000003472</td><td>1.4318159479734542</td></tr><tr><th>24</th><td>24</td><td>0</td><td>1.0</td><td>1.0041044527497212</td></tr><tr><th>25</th><td>25</td><td>0</td><td>1.0000000000033602</td><td>1.065978613098698</td></tr><tr><th>26</th><td>26</td><td>0</td><td>1.0000000013184258</td><td>1.3539225090592617</td></tr><tr><th>27</th><td>27</td><td>0</td><td>1.0</td><td>1.1844234274407839</td></tr><tr><th>28</th><td>28</td><td>0</td><td>1.0</td><td>1.0073140293161933</td></tr><tr><th>29</th><td>29</td><td>0</td><td>1.000000000001919</td><td>1.1506241629661347</td></tr><tr><th>30</th><td>30</td><td>0</td><td>1.0534939521026807</td><td>1.4180500796783955</td></tr><tr><th>&vellip;</th><td>&vellip;</td><td>&vellip;</td><td>&vellip;</td><td>&vellip;</td></tr></table>"
       ],
       "metadata": {},
       "output_type": "pyout",
       "prompt_number": 8,
       "text": [
        "50x4 DataFrame\n",
        "| Row | ind_id | s | i        | r        |\n",
        "|-----|--------|---|----------|----------|\n",
        "| 1   | 1      | 0 | 1.0      | 1.77262  |\n",
        "| 2   | 2      | 0 | 1.0      | 1.09505  |\n",
        "| 3   | 3      | 0 | 243085.0 | 243085.0 |\n",
        "| 4   | 4      | 0 | 1.0      | 1.02455  |\n",
        "| 5   | 5      | 0 | 1.0      | 1.07072  |\n",
        "| 6   | 6      | 0 | 1.0      | 1.1902   |\n",
        "| 7   | 7      | 0 | 1.0      | 1.28741  |\n",
        "| 8   | 8      | 0 | 1.0      | 1.10852  |\n",
        "| 9   | 9      | 0 | 1.0      | 1.29541  |\n",
        "| 10  | 10     | 0 | 1.0      | 1.06392  |\n",
        "| 11  | 11     | 0 | 1.05349  | 1.15266  |\n",
        "\u22ee\n",
        "| 39  | 39     | 0 | 1.0      | 1.28483  |\n",
        "| 40  | 40     | 0 | 1.0      | 1.13763  |\n",
        "| 41  | 41     | 0 | 1.0      | 1.0769   |\n",
        "| 42  | 42     | 0 | 1.0      | 1.3225   |\n",
        "| 43  | 43     | 0 | 1.0      | 8.2336   |\n",
        "| 44  | 44     | 0 | 1.0      | 1.15724  |\n",
        "| 45  | 45     | 0 | 1.0      | 1.34381  |\n",
        "| 46  | 46     | 0 | 1.0      | 1.12123  |\n",
        "| 47  | 47     | 0 | 1.0      | 1.0856   |\n",
        "| 48  | 48     | 0 | 1.0      | 1.23557  |\n",
        "| 49  | 49     | 0 | 1.0      | 1.65706  |\n",
        "| 50  | 50     | 0 | 1.0      | 1.43668  |"
       ]
      }
     ],
     "prompt_number": 8
    },
    {
     "cell_type": "code",
     "collapsed": false,
     "input": [],
     "language": "python",
     "metadata": {},
     "outputs": []
    }
   ],
   "metadata": {}
  }
 ]
}