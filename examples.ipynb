{
 "metadata": {
  "language": "Julia",
  "name": "",
  "signature": "sha256:749f9c90af0d41a27fb7e2ad628b671edb462f0d251420366d327ee5a3f5c415"
 },
 "nbformat": 3,
 "nbformat_minor": 0,
 "worksheets": [
  {
   "cells": [
    {
     "cell_type": "markdown",
     "metadata": {},
     "source": [
      "Load the required .jl files..."
     ]
    },
    {
     "cell_type": "code",
     "collapsed": false,
     "input": [
      "include(\"events.jl\")\n",
      "include(\"population.jl\")"
     ],
     "language": "python",
     "metadata": {},
     "outputs": [
      {
       "metadata": {},
       "output_type": "pyout",
       "prompt_number": 1,
       "text": [
        "create_dist_mtx (generic function with 1 method)"
       ]
      }
     ],
     "prompt_number": 1
    },
    {
     "cell_type": "markdown",
     "metadata": {},
     "source": [
      "Generate a population from a bi-variate normal distribution, and generate a distance matrix..."
     ]
    },
    {
     "cell_type": "code",
     "collapsed": false,
     "input": [
      "pop_db1 = create_pop_db(50, MvNormal(eye(2).*2))\n",
      "dist_mat1 = create_dist_mtx(pop_db1)"
     ],
     "language": "python",
     "metadata": {},
     "outputs": [
      {
       "metadata": {},
       "output_type": "pyout",
       "prompt_number": 2,
       "text": [
        "50x50 Array{Float64,2}:\n",
        " 0.0        2.67494   5.24341    1.53841    \u2026  0.288907  0.0870543  1.32109  \n",
        " 2.67494    0.0       2.56847    4.21334       2.38603   2.58788    1.35384  \n",
        " 5.24341    2.56847   0.0        6.78181       4.9545    5.15636    3.92232  \n",
        " 1.53841    4.21334   6.78181    0.0           1.82731   1.62546    2.8595   \n",
        " 0.829742   1.8452    4.41367    2.36815       0.540835  0.742688   0.491353 \n",
        " 6.02871    3.35377   0.785303   7.56712    \u2026  5.73981   5.94166    4.70762  \n",
        " 2.80501    0.130071  2.4384     4.34341       2.5161    2.71796    1.48392  \n",
        " 5.00797    2.33303   0.235436   6.54638       4.71907   4.92092    3.68688  \n",
        " 1.97448    0.700458  3.26893    3.51289       1.68557   1.88743    0.653386 \n",
        " 4.18376    1.50882   1.05965    5.72216       3.89485   4.0967     2.86266  \n",
        " 5.17457    2.49964   0.0688355  6.71298    \u2026  4.88567   5.08752    3.85348  \n",
        " 1.46429    4.13923   6.7077     0.0741138     1.7532    1.55135    2.78539  \n",
        " 0.396459   3.0714    5.63987    1.14195       0.685366  0.483513   1.71755  \n",
        " \u22ee                                          \u22f1                                \n",
        " 4.45841    1.78347   0.785001   5.99681       4.1695    4.37135    3.13731  \n",
        " 5.01679    2.34186   0.226615   6.5552        4.72789   4.92974    3.6957   \n",
        " 3.40976    0.734825  1.83365    4.94817    \u2026  3.12086   3.32271    2.08867  \n",
        " 0.149362   2.8243    5.39277    1.38904       0.43827   0.236417   1.47046  \n",
        " 2.858      0.183065  2.38541    4.39641       2.5691    2.77095    1.53691  \n",
        " 2.15508    4.83002   7.39849    0.616675      2.44399   2.24213    3.47617  \n",
        " 1.48645    1.18849   3.75696    3.02485       1.19754   1.3994     0.165355 \n",
        " 1.35853    1.31641   3.88488    2.89693    \u2026  1.06962   1.27147    0.0374335\n",
        " 1.09406    1.58088   4.14935    2.63247       0.805153  1.00701    0.227034 \n",
        " 0.288907   2.38603   4.9545     1.82731       0.0       0.201853   1.03219  \n",
        " 0.0870543  2.58788   5.15636    1.62546       0.201853  0.0        1.23404  \n",
        " 1.32109    1.35384   3.92232    2.8595        1.03219   1.23404    0.0      "
       ]
      }
     ],
     "prompt_number": 2
    },
    {
     "cell_type": "markdown",
     "metadata": {},
     "source": [
      "Set alpha to 1, beta to 15..."
     ]
    },
    {
     "cell_type": "code",
     "collapsed": false,
     "input": [
      "dist_mat_ab1 = dist_ab_mtx(dist_mat1, 1, 15)"
     ],
     "language": "python",
     "metadata": {},
     "outputs": [
      {
       "metadata": {},
       "output_type": "pyout",
       "prompt_number": 3,
       "text": [
        "50x50 Array{Float64,2}:\n",
        " Inf              3.89307e-7   \u2026      8.001e15         0.0153459  \n",
        "   3.89307e-7   Inf                   6.39479e-7       0.0106284  \n",
        "   1.60618e-11    7.15947e-7          2.0647e-11       1.24986e-9 \n",
        "   0.00156293     4.27165e-10         0.000684475      1.43103e-7 \n",
        "  16.4382         0.000102178        86.6776       42569.8        \n",
        "   1.97984e-12    1.30916e-8   \u2026      2.46255e-12      8.09062e-11\n",
        "   1.90978e-7     1.93775e13          3.06454e-7       0.0026845  \n",
        "   3.19941e-11    3.02819e-6          4.16205e-11      3.16313e-9 \n",
        "   3.70003e-5   208.579               7.27694e-5     592.172      \n",
        "   4.74791e-10    0.00209143          6.50852e-10      1.40749e-7 \n",
        "   1.95831e-11    1.07609e-6   \u2026      2.52585e-11      1.63006e-9 \n",
        "   0.00327784     5.5745e-10          0.00137839       2.12187e-7 \n",
        "   1.06421e6      4.89732e-8      54184.3              0.000299465\n",
        "   \u22ee                           \u22f1                                  \n",
        "   1.82937e-10    0.000170221         2.459e-10        3.56147e-8 \n",
        "   3.11605e-11    2.86152e-6          4.05172e-11      3.05175e-9 \n",
        "   1.02126e-8   101.68         \u2026      1.50527e-8       1.59204e-5 \n",
        "   2.43439e12     1.7232e-7           2.48218e9        0.00307763 \n",
        "   1.44231e-7     1.15058e11          2.29388e-7       0.0015859  \n",
        "   9.95519e-6     5.50513e-11         5.49637e-6       7.64675e-9 \n",
        "   0.00261667     0.0750014           0.00646986       5.29356e11 \n",
        "   0.0100918      0.0161856    \u2026      0.0272514        2.51818e21 \n",
        "   0.259643       0.00103878          0.900565         4.55668e9  \n",
        "   1.22636e8      2.16201e-6          2.65746e10       0.621761   \n",
        "   8.001e15       6.39479e-7        Inf                0.0426639  \n",
        "   0.0153459      0.0106284           0.0426639      Inf          "
       ]
      }
     ],
     "prompt_number": 3
    },
    {
     "cell_type": "markdown",
     "metadata": {},
     "source": [
      "Use an SIR model..."
     ]
    },
    {
     "cell_type": "code",
     "collapsed": false,
     "input": [
      "edb = create_event_db(pop_db1, \"SIR\")"
     ],
     "language": "python",
     "metadata": {},
     "outputs": [
      {
       "html": [
        "<table class=\"data-frame\"><tr><th></th><th>ind_id</th><th>s</th><th>i</th><th>r</th></tr><tr><th>1</th><td>1</td><td>0</td><td>NaN</td><td>NaN</td></tr><tr><th>2</th><td>2</td><td>0</td><td>NaN</td><td>NaN</td></tr><tr><th>3</th><td>3</td><td>0</td><td>NaN</td><td>NaN</td></tr><tr><th>4</th><td>4</td><td>0</td><td>NaN</td><td>NaN</td></tr><tr><th>5</th><td>5</td><td>0</td><td>NaN</td><td>NaN</td></tr><tr><th>6</th><td>6</td><td>0</td><td>NaN</td><td>NaN</td></tr><tr><th>7</th><td>7</td><td>0</td><td>NaN</td><td>NaN</td></tr><tr><th>8</th><td>8</td><td>0</td><td>NaN</td><td>NaN</td></tr><tr><th>9</th><td>9</td><td>0</td><td>NaN</td><td>NaN</td></tr><tr><th>10</th><td>10</td><td>0</td><td>NaN</td><td>NaN</td></tr><tr><th>11</th><td>11</td><td>0</td><td>NaN</td><td>NaN</td></tr><tr><th>12</th><td>12</td><td>0</td><td>NaN</td><td>NaN</td></tr><tr><th>13</th><td>13</td><td>0</td><td>NaN</td><td>NaN</td></tr><tr><th>14</th><td>14</td><td>0</td><td>NaN</td><td>NaN</td></tr><tr><th>15</th><td>15</td><td>0</td><td>NaN</td><td>NaN</td></tr><tr><th>16</th><td>16</td><td>0</td><td>NaN</td><td>NaN</td></tr><tr><th>17</th><td>17</td><td>0</td><td>NaN</td><td>NaN</td></tr><tr><th>18</th><td>18</td><td>0</td><td>NaN</td><td>NaN</td></tr><tr><th>19</th><td>19</td><td>0</td><td>NaN</td><td>NaN</td></tr><tr><th>20</th><td>20</td><td>0</td><td>NaN</td><td>NaN</td></tr><tr><th>21</th><td>21</td><td>0</td><td>NaN</td><td>NaN</td></tr><tr><th>22</th><td>22</td><td>0</td><td>NaN</td><td>NaN</td></tr><tr><th>23</th><td>23</td><td>0</td><td>NaN</td><td>NaN</td></tr><tr><th>24</th><td>24</td><td>0</td><td>NaN</td><td>NaN</td></tr><tr><th>25</th><td>25</td><td>0</td><td>NaN</td><td>NaN</td></tr><tr><th>26</th><td>26</td><td>0</td><td>NaN</td><td>NaN</td></tr><tr><th>27</th><td>27</td><td>0</td><td>NaN</td><td>NaN</td></tr><tr><th>28</th><td>28</td><td>0</td><td>NaN</td><td>NaN</td></tr><tr><th>29</th><td>29</td><td>0</td><td>NaN</td><td>NaN</td></tr><tr><th>30</th><td>30</td><td>0</td><td>NaN</td><td>NaN</td></tr><tr><th>&vellip;</th><td>&vellip;</td><td>&vellip;</td><td>&vellip;</td><td>&vellip;</td></tr></table>"
       ],
       "metadata": {},
       "output_type": "pyout",
       "prompt_number": 4,
       "text": [
        "50x4 DataFrame\n",
        "| Row | ind_id | s | i   | r   |\n",
        "|-----|--------|---|-----|-----|\n",
        "| 1   | 1      | 0 | NaN | NaN |\n",
        "| 2   | 2      | 0 | NaN | NaN |\n",
        "| 3   | 3      | 0 | NaN | NaN |\n",
        "| 4   | 4      | 0 | NaN | NaN |\n",
        "| 5   | 5      | 0 | NaN | NaN |\n",
        "| 6   | 6      | 0 | NaN | NaN |\n",
        "| 7   | 7      | 0 | NaN | NaN |\n",
        "| 8   | 8      | 0 | NaN | NaN |\n",
        "| 9   | 9      | 0 | NaN | NaN |\n",
        "| 10  | 10     | 0 | NaN | NaN |\n",
        "| 11  | 11     | 0 | NaN | NaN |\n",
        "\u22ee\n",
        "| 39  | 39     | 0 | NaN | NaN |\n",
        "| 40  | 40     | 0 | NaN | NaN |\n",
        "| 41  | 41     | 0 | NaN | NaN |\n",
        "| 42  | 42     | 0 | NaN | NaN |\n",
        "| 43  | 43     | 0 | NaN | NaN |\n",
        "| 44  | 44     | 0 | NaN | NaN |\n",
        "| 45  | 45     | 0 | NaN | NaN |\n",
        "| 46  | 46     | 0 | NaN | NaN |\n",
        "| 47  | 47     | 0 | NaN | NaN |\n",
        "| 48  | 48     | 0 | NaN | NaN |\n",
        "| 49  | 49     | 0 | NaN | NaN |\n",
        "| 50  | 50     | 0 | NaN | NaN |"
       ]
      }
     ],
     "prompt_number": 4
    },
    {
     "cell_type": "markdown",
     "metadata": {},
     "source": [
      "Use a continuous model and generate the initial infection and recovery (gamma = 5)"
     ]
    },
    {
     "cell_type": "code",
     "collapsed": false,
     "input": [
      "intial_infect(edb, \"continuous\", 5)"
     ],
     "language": "python",
     "metadata": {},
     "outputs": [
      {
       "html": [
        "<table class=\"data-frame\"><tr><th></th><th>ind_id</th><th>s</th><th>i</th><th>r</th></tr><tr><th>1</th><td>1</td><td>0</td><td>NaN</td><td>NaN</td></tr><tr><th>2</th><td>2</td><td>0</td><td>NaN</td><td>NaN</td></tr><tr><th>3</th><td>3</td><td>0</td><td>NaN</td><td>NaN</td></tr><tr><th>4</th><td>4</td><td>0</td><td>NaN</td><td>NaN</td></tr><tr><th>5</th><td>5</td><td>0</td><td>NaN</td><td>NaN</td></tr><tr><th>6</th><td>6</td><td>0</td><td>NaN</td><td>NaN</td></tr><tr><th>7</th><td>7</td><td>0</td><td>NaN</td><td>NaN</td></tr><tr><th>8</th><td>8</td><td>0</td><td>NaN</td><td>NaN</td></tr><tr><th>9</th><td>9</td><td>0</td><td>NaN</td><td>NaN</td></tr><tr><th>10</th><td>10</td><td>0</td><td>NaN</td><td>NaN</td></tr><tr><th>11</th><td>11</td><td>0</td><td>NaN</td><td>NaN</td></tr><tr><th>12</th><td>12</td><td>0</td><td>NaN</td><td>NaN</td></tr><tr><th>13</th><td>13</td><td>0</td><td>NaN</td><td>NaN</td></tr><tr><th>14</th><td>14</td><td>0</td><td>NaN</td><td>NaN</td></tr><tr><th>15</th><td>15</td><td>0</td><td>NaN</td><td>NaN</td></tr><tr><th>16</th><td>16</td><td>0</td><td>NaN</td><td>NaN</td></tr><tr><th>17</th><td>17</td><td>0</td><td>NaN</td><td>NaN</td></tr><tr><th>18</th><td>18</td><td>0</td><td>NaN</td><td>NaN</td></tr><tr><th>19</th><td>19</td><td>0</td><td>NaN</td><td>NaN</td></tr><tr><th>20</th><td>20</td><td>0</td><td>NaN</td><td>NaN</td></tr><tr><th>21</th><td>21</td><td>0</td><td>NaN</td><td>NaN</td></tr><tr><th>22</th><td>22</td><td>0</td><td>NaN</td><td>NaN</td></tr><tr><th>23</th><td>23</td><td>0</td><td>NaN</td><td>NaN</td></tr><tr><th>24</th><td>24</td><td>0</td><td>NaN</td><td>NaN</td></tr><tr><th>25</th><td>25</td><td>0</td><td>NaN</td><td>NaN</td></tr><tr><th>26</th><td>26</td><td>0</td><td>NaN</td><td>NaN</td></tr><tr><th>27</th><td>27</td><td>0</td><td>NaN</td><td>NaN</td></tr><tr><th>28</th><td>28</td><td>0</td><td>NaN</td><td>NaN</td></tr><tr><th>29</th><td>29</td><td>0</td><td>NaN</td><td>NaN</td></tr><tr><th>30</th><td>30</td><td>0</td><td>NaN</td><td>NaN</td></tr><tr><th>&vellip;</th><td>&vellip;</td><td>&vellip;</td><td>&vellip;</td><td>&vellip;</td></tr></table>"
       ],
       "metadata": {},
       "output_type": "pyout",
       "prompt_number": 5,
       "text": [
        "50x4 DataFrame\n",
        "| Row | ind_id | s | i   | r   |\n",
        "|-----|--------|---|-----|-----|\n",
        "| 1   | 1      | 0 | NaN | NaN |\n",
        "| 2   | 2      | 0 | NaN | NaN |\n",
        "| 3   | 3      | 0 | NaN | NaN |\n",
        "| 4   | 4      | 0 | NaN | NaN |\n",
        "| 5   | 5      | 0 | NaN | NaN |\n",
        "| 6   | 6      | 0 | NaN | NaN |\n",
        "| 7   | 7      | 0 | NaN | NaN |\n",
        "| 8   | 8      | 0 | NaN | NaN |\n",
        "| 9   | 9      | 0 | NaN | NaN |\n",
        "| 10  | 10     | 0 | NaN | NaN |\n",
        "| 11  | 11     | 0 | NaN | NaN |\n",
        "\u22ee\n",
        "| 39  | 39     | 0 | NaN | NaN |\n",
        "| 40  | 40     | 0 | NaN | NaN |\n",
        "| 41  | 41     | 0 | NaN | NaN |\n",
        "| 42  | 42     | 0 | NaN | NaN |\n",
        "| 43  | 43     | 0 | NaN | NaN |\n",
        "| 44  | 44     | 0 | NaN | NaN |\n",
        "| 45  | 45     | 0 | NaN | NaN |\n",
        "| 46  | 46     | 0 | NaN | NaN |\n",
        "| 47  | 47     | 0 | NaN | NaN |\n",
        "| 48  | 48     | 0 | NaN | NaN |\n",
        "| 49  | 49     | 0 | NaN | NaN |\n",
        "| 50  | 50     | 0 | NaN | NaN |"
       ]
      }
     ],
     "prompt_number": 5
    },
    {
     "cell_type": "markdown",
     "metadata": {},
     "source": [
      "Propagate infection (loop for the number of individuals in the population)"
     ]
    },
    {
     "cell_type": "code",
     "collapsed": false,
     "input": [
      "for i = 2:pop_db1[end,1]\n",
      "    infect_recover(dist_mat_ab1, edb, \"continuous\", maximum(edb[:,3]), 5)\n",
      "end"
     ],
     "language": "python",
     "metadata": {},
     "outputs": [],
     "prompt_number": 6
    },
    {
     "cell_type": "code",
     "collapsed": false,
     "input": [
      "edb"
     ],
     "language": "python",
     "metadata": {},
     "outputs": [
      {
       "html": [
        "<table class=\"data-frame\"><tr><th></th><th>ind_id</th><th>s</th><th>i</th><th>r</th></tr><tr><th>1</th><td>1</td><td>0</td><td>19.47879240466509</td><td>38.40062306752518</td></tr><tr><th>2</th><td>2</td><td>0</td><td>437.60028726843547</td><td>451.27942090506934</td></tr><tr><th>3</th><td>3</td><td>0</td><td>102.53793632017688</td><td>104.72079582824011</td></tr><tr><th>4</th><td>4</td><td>0</td><td>19.47877701068344</td><td>21.06733945852536</td></tr><tr><th>5</th><td>5</td><td>0</td><td>155.25747170834467</td><td>163.9248577800169</td></tr><tr><th>6</th><td>6</td><td>0</td><td>1.0000000000000546</td><td>4.590882668523886</td></tr><tr><th>7</th><td>7</td><td>0</td><td>102.53793659340377</td><td>105.07289829851236</td></tr><tr><th>8</th><td>8</td><td>0</td><td>378.4612090908122</td><td>378.51227365295756</td></tr><tr><th>9</th><td>9</td><td>0</td><td>427.28717343745745</td><td>430.95493783180893</td></tr><tr><th>10</th><td>10</td><td>0</td><td>19.512816090870313</td><td>20.97897494645236</td></tr><tr><th>11</th><td>11</td><td>0</td><td>19.478777010683228</td><td>22.027001406068266</td></tr><tr><th>12</th><td>12</td><td>0</td><td>2.6423920934584664</td><td>10.08721022509912</td></tr><tr><th>13</th><td>13</td><td>0</td><td>155.25065869563906</td><td>173.7351193393976</td></tr><tr><th>14</th><td>14</td><td>0</td><td>427.27117449397394</td><td>428.7061774159462</td></tr><tr><th>15</th><td>15</td><td>0</td><td>1.000024455836161</td><td>8.55630221948695</td></tr><tr><th>16</th><td>16</td><td>0</td><td>3.930135497487993</td><td>7.797006548131887</td></tr><tr><th>17</th><td>17</td><td>0</td><td>1.0013888021284516</td><td>2.487364607076434</td></tr><tr><th>18</th><td>18</td><td>0</td><td>437.60001697416715</td><td>438.858916011247</td></tr><tr><th>19</th><td>19</td><td>0</td><td>155.71393846403603</td><td>163.0388196965658</td></tr><tr><th>20</th><td>20</td><td>0</td><td>19.6695480150962</td><td>32.09066866868413</td></tr><tr><th>21</th><td>21</td><td>0</td><td>155.25065771514954</td><td>168.44107769014485</td></tr><tr><th>22</th><td>22</td><td>0</td><td>1.000000005930758</td><td>7.223731704732658</td></tr><tr><th>23</th><td>23</td><td>0</td><td>210.48491484519928</td><td>228.11589829089615</td></tr><tr><th>24</th><td>24</td><td>0</td><td>379.16151458454027</td><td>392.4749681370944</td></tr><tr><th>25</th><td>25</td><td>0</td><td>19.480022628784653</td><td>20.175823723616222</td></tr><tr><th>26</th><td>26</td><td>0</td><td>378.461942810374</td><td>385.49910399024736</td></tr><tr><th>27</th><td>27</td><td>0</td><td>102.53951749138885</td><td>113.9960398040213</td></tr><tr><th>28</th><td>28</td><td>0</td><td>427.271174494721</td><td>433.8153975765217</td></tr><tr><th>29</th><td>29</td><td>0</td><td>28.52205945846265</td><td>28.98506819378812</td></tr><tr><th>30</th><td>30</td><td>0</td><td>208.82816295639049</td><td>209.12826820729407</td></tr><tr><th>&vellip;</th><td>&vellip;</td><td>&vellip;</td><td>&vellip;</td><td>&vellip;</td></tr></table>"
       ],
       "metadata": {},
       "output_type": "pyout",
       "prompt_number": 7,
       "text": [
        "50x4 DataFrame\n",
        "| Row | ind_id | s | i       | r       |\n",
        "|-----|--------|---|---------|---------|\n",
        "| 1   | 1      | 0 | 19.4788 | 38.4006 |\n",
        "| 2   | 2      | 0 | 437.6   | 451.279 |\n",
        "| 3   | 3      | 0 | 102.538 | 104.721 |\n",
        "| 4   | 4      | 0 | 19.4788 | 21.0673 |\n",
        "| 5   | 5      | 0 | 155.257 | 163.925 |\n",
        "| 6   | 6      | 0 | 1.0     | 4.59088 |\n",
        "| 7   | 7      | 0 | 102.538 | 105.073 |\n",
        "| 8   | 8      | 0 | 378.461 | 378.512 |\n",
        "| 9   | 9      | 0 | 427.287 | 430.955 |\n",
        "| 10  | 10     | 0 | 19.5128 | 20.979  |\n",
        "| 11  | 11     | 0 | 19.4788 | 22.027  |\n",
        "\u22ee\n",
        "| 39  | 39     | 0 | 29.3874 | 30.6594 |\n",
        "| 40  | 40     | 0 | 208.828 | 231.401 |\n",
        "| 41  | 41     | 0 | 28.5213 | 35.3262 |\n",
        "| 42  | 42     | 0 | 102.538 | 110.366 |\n",
        "| 43  | 43     | 0 | 208.828 | 212.427 |\n",
        "| 44  | 44     | 0 | 1.01025 | 1.59476 |\n",
        "| 45  | 45     | 0 | 209.065 | 209.146 |\n",
        "| 46  | 46     | 0 | 2.64239 | 10.9767 |\n",
        "| 47  | 47     | 0 | 28.5213 | 35.9678 |\n",
        "| 48  | 48     | 0 | 210.485 | 232.103 |\n",
        "| 49  | 49     | 0 | 2.64894 | 8.495   |\n",
        "| 50  | 50     | 0 | 378.461 | 387.468 |"
       ]
      }
     ],
     "prompt_number": 7
    }
   ],
   "metadata": {}
  }
 ]
}