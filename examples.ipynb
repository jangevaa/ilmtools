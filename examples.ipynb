{
 "metadata": {
  "language": "Julia",
  "name": "",
  "signature": "sha256:2dc52a876b7f871311a4038e09ae1df8e7e925cf416833aeeb644ca46776d107"
 },
 "nbformat": 3,
 "nbformat_minor": 0,
 "worksheets": [
  {
   "cells": [
    {
     "cell_type": "markdown",
     "metadata": {},
     "source": [
      "Load the required .jl files..."
     ]
    },
    {
     "cell_type": "code",
     "collapsed": true,
     "input": [
      "include(\"events.jl\")\n",
      "include(\"population.jl\")"
     ],
     "language": "python",
     "metadata": {},
     "outputs": [
      {
       "metadata": {},
       "output_type": "pyout",
       "prompt_number": 1,
       "text": [
        "create_dist_mtx (generic function with 1 method)"
       ]
      }
     ],
     "prompt_number": 1
    },
    {
     "cell_type": "markdown",
     "metadata": {},
     "source": [
      "Generate a population from a bi-variate normal distribution, and generate a distance matrix..."
     ]
    },
    {
     "cell_type": "code",
     "collapsed": true,
     "input": [
      "pop_db1 = create_pop_db(50, MvNormal(eye(2).*2))\n",
      "dist_mat1 = create_dist_mtx(pop_db1)"
     ],
     "language": "python",
     "metadata": {},
     "outputs": [
      {
       "metadata": {},
       "output_type": "pyout",
       "prompt_number": 2,
       "text": [
        "50x50 Array{Float64,2}:\n",
        " 0.0        1.87991   1.66534   0.282443  \u2026  3.64338    0.0361048  2.26094  \n",
        " 1.87991    0.0       0.214575  2.16236      1.76346    1.84381    0.381028 \n",
        " 1.66534    0.214575  0.0       1.94778      1.97804    1.62923    0.595603 \n",
        " 0.282443   2.16236   1.94778   0.0          3.92582    0.318548   2.54338  \n",
        " 0.0856799  1.79423   1.57966   0.368123     3.5577     0.0495751  2.17526  \n",
        " 2.453      0.573089  0.787664  2.73544   \u2026  1.19038    2.4169     0.192061 \n",
        " 2.29369    4.1736    3.95902   2.01124      5.93706    2.32979    4.55463  \n",
        " 1.4555     0.424416  0.209841  1.73794      2.18788    1.41939    0.805444 \n",
        " 0.173085   2.053     1.83842   0.109358     3.81646    0.20919    2.43403  \n",
        " 1.78681    3.66672   3.45214   1.50436      5.43018    1.82291    4.04775  \n",
        " 2.3919     0.511983  0.726558  2.67434   \u2026  1.25148    2.35579    0.130956 \n",
        " 2.34804    0.468123  0.682698  2.63048      1.29534    2.31193    0.0870957\n",
        " 4.21743    2.33751   2.55209   4.49987      0.574049   4.18132    1.95649  \n",
        " \u22ee                                        \u22f1                                 \n",
        " 4.70054    2.82063   3.0352    4.98298      1.05716    4.66443    2.4396   \n",
        " 1.06023    0.819687  0.605112  1.34267      2.58315    1.02412    1.20071  \n",
        " 3.394      1.51408   1.72866   3.67644   \u2026  0.249382   3.35789    1.13305  \n",
        " 0.484821   1.39509   1.18052   0.767265     3.15856    0.448716   1.77612  \n",
        " 1.0191     2.89901   2.68443   0.736652     4.66247    1.0552     3.28004  \n",
        " 0.74708    2.62699   2.41242   0.464637     4.39046    0.783185   3.00802  \n",
        " 3.54659    1.66668   1.88126   3.82904      0.0967825  3.51049    1.28565  \n",
        " 2.49028    0.610368  0.824943  2.77272   \u2026  1.1531     2.45418    0.22934  \n",
        " 2.3458     4.22571   4.01113   2.06335      5.98917    2.3819     4.60674  \n",
        " 3.64338    1.76346   1.97804   3.92582      0.0        3.60727    1.38244  \n",
        " 0.0361048  1.84381   1.62923   0.318548     3.60727    0.0        2.22484  \n",
        " 2.26094    0.381028  0.595603  2.54338      1.38244    2.22484    0.0      "
       ]
      }
     ],
     "prompt_number": 2
    },
    {
     "cell_type": "markdown",
     "metadata": {},
     "source": [
      "Set alpha to 1, beta to 15..."
     ]
    },
    {
     "cell_type": "code",
     "collapsed": true,
     "input": [
      "dist_mat_ab1 = dist_ab_mtx(dist_mat1, 1, 15)"
     ],
     "language": "python",
     "metadata": {},
     "outputs": [
      {
       "metadata": {},
       "output_type": "pyout",
       "prompt_number": 3,
       "text": [
        "50x50 Array{Float64,2}:\n",
        "   Inf                 7.72564e-5   \u2026       4.33036e21      4.84913e-6 \n",
        "     7.72564e-5      Inf                    0.000103339     1.93043e6  \n",
        "     0.000475845       1.06246e10           0.000661077  2374.94       \n",
        "     1.72198e8         9.46437e-6           2.83382e7       8.2951e-7  \n",
        "     1.01581e16        0.000155531          3.7243e19       8.65628e-6 \n",
        "     1.42736e-6     4233.22         \u2026       1.78291e-6      5.60276e10 \n",
        "     3.90832e-6        4.92424e-10          3.09204e-6      1.32803e-10\n",
        "     0.00358784   382929.0                  0.00522958     25.6726     \n",
        "     2.66742e11        2.06144e-5           1.55553e10      1.6037e-6  \n",
        "     0.000165516       3.43428e-9           0.000122608     7.79473e-10\n",
        "     2.08385e-6    22970.2          \u2026       2.61787e-6      1.75041e13 \n",
        "     2.75061e-6    88023.1                  3.47038e-6      7.94414e15 \n",
        "     4.21005e-10       2.94231e-6           4.78957e-10     4.24472e-5 \n",
        "     \u22ee                              \u22f1                                  \n",
        "     8.27533e-11       1.75718e-7           9.29e-11        1.54962e-6 \n",
        "     0.415934         19.737                0.699408        0.0643286  \n",
        "     1.09479e-8        0.00198498   \u2026       1.28529e-8      0.153545   \n",
        " 52032.8               0.00677578      166120.0             0.0001811  \n",
        "     0.752971          1.16482e-7           0.446661        1.82735e-8 \n",
        "    79.3398            5.10642e-7          39.0872          6.69558e-8 \n",
        "     5.66014e-9        0.000470122          6.5991e-9       0.0230748  \n",
        "     1.13835e-6     1644.85         \u2026       1.41715e-6      3.91555e9  \n",
        "     2.79027e-6        4.08796e-10          2.21893e-6      1.11969e-10\n",
        "     3.77954e-9        0.000201605          4.3885e-9       0.00776822 \n",
        "     4.33036e21        0.000103339        Inf               6.1735e-6  \n",
        "     4.84913e-6        1.93043e6            6.1735e-6     Inf          "
       ]
      }
     ],
     "prompt_number": 3
    },
    {
     "cell_type": "markdown",
     "metadata": {},
     "source": [
      "Use an SIR model..."
     ]
    },
    {
     "cell_type": "code",
     "collapsed": true,
     "input": [
      "edb = create_event_db(pop_db1, \"SIR\")"
     ],
     "language": "python",
     "metadata": {},
     "outputs": [
      {
       "html": [
        "<table class=\"data-frame\"><tr><th></th><th>ind_id</th><th>s</th><th>i</th><th>r</th></tr><tr><th>1</th><td>1</td><td>0</td><td>NaN</td><td>NaN</td></tr><tr><th>2</th><td>2</td><td>0</td><td>NaN</td><td>NaN</td></tr><tr><th>3</th><td>3</td><td>0</td><td>NaN</td><td>NaN</td></tr><tr><th>4</th><td>4</td><td>0</td><td>NaN</td><td>NaN</td></tr><tr><th>5</th><td>5</td><td>0</td><td>NaN</td><td>NaN</td></tr><tr><th>6</th><td>6</td><td>0</td><td>NaN</td><td>NaN</td></tr><tr><th>7</th><td>7</td><td>0</td><td>NaN</td><td>NaN</td></tr><tr><th>8</th><td>8</td><td>0</td><td>NaN</td><td>NaN</td></tr><tr><th>9</th><td>9</td><td>0</td><td>NaN</td><td>NaN</td></tr><tr><th>10</th><td>10</td><td>0</td><td>NaN</td><td>NaN</td></tr><tr><th>11</th><td>11</td><td>0</td><td>NaN</td><td>NaN</td></tr><tr><th>12</th><td>12</td><td>0</td><td>NaN</td><td>NaN</td></tr><tr><th>13</th><td>13</td><td>0</td><td>NaN</td><td>NaN</td></tr><tr><th>14</th><td>14</td><td>0</td><td>NaN</td><td>NaN</td></tr><tr><th>15</th><td>15</td><td>0</td><td>NaN</td><td>NaN</td></tr><tr><th>16</th><td>16</td><td>0</td><td>NaN</td><td>NaN</td></tr><tr><th>17</th><td>17</td><td>0</td><td>NaN</td><td>NaN</td></tr><tr><th>18</th><td>18</td><td>0</td><td>NaN</td><td>NaN</td></tr><tr><th>19</th><td>19</td><td>0</td><td>NaN</td><td>NaN</td></tr><tr><th>20</th><td>20</td><td>0</td><td>NaN</td><td>NaN</td></tr><tr><th>21</th><td>21</td><td>0</td><td>NaN</td><td>NaN</td></tr><tr><th>22</th><td>22</td><td>0</td><td>NaN</td><td>NaN</td></tr><tr><th>23</th><td>23</td><td>0</td><td>NaN</td><td>NaN</td></tr><tr><th>24</th><td>24</td><td>0</td><td>NaN</td><td>NaN</td></tr><tr><th>25</th><td>25</td><td>0</td><td>NaN</td><td>NaN</td></tr><tr><th>26</th><td>26</td><td>0</td><td>NaN</td><td>NaN</td></tr><tr><th>27</th><td>27</td><td>0</td><td>NaN</td><td>NaN</td></tr><tr><th>28</th><td>28</td><td>0</td><td>NaN</td><td>NaN</td></tr><tr><th>29</th><td>29</td><td>0</td><td>NaN</td><td>NaN</td></tr><tr><th>30</th><td>30</td><td>0</td><td>NaN</td><td>NaN</td></tr><tr><th>&vellip;</th><td>&vellip;</td><td>&vellip;</td><td>&vellip;</td><td>&vellip;</td></tr></table>"
       ],
       "metadata": {},
       "output_type": "pyout",
       "prompt_number": 4,
       "text": [
        "50x4 DataFrame\n",
        "| Row | ind_id | s | i   | r   |\n",
        "|-----|--------|---|-----|-----|\n",
        "| 1   | 1      | 0 | NaN | NaN |\n",
        "| 2   | 2      | 0 | NaN | NaN |\n",
        "| 3   | 3      | 0 | NaN | NaN |\n",
        "| 4   | 4      | 0 | NaN | NaN |\n",
        "| 5   | 5      | 0 | NaN | NaN |\n",
        "| 6   | 6      | 0 | NaN | NaN |\n",
        "| 7   | 7      | 0 | NaN | NaN |\n",
        "| 8   | 8      | 0 | NaN | NaN |\n",
        "| 9   | 9      | 0 | NaN | NaN |\n",
        "| 10  | 10     | 0 | NaN | NaN |\n",
        "| 11  | 11     | 0 | NaN | NaN |\n",
        "\u22ee\n",
        "| 39  | 39     | 0 | NaN | NaN |\n",
        "| 40  | 40     | 0 | NaN | NaN |\n",
        "| 41  | 41     | 0 | NaN | NaN |\n",
        "| 42  | 42     | 0 | NaN | NaN |\n",
        "| 43  | 43     | 0 | NaN | NaN |\n",
        "| 44  | 44     | 0 | NaN | NaN |\n",
        "| 45  | 45     | 0 | NaN | NaN |\n",
        "| 46  | 46     | 0 | NaN | NaN |\n",
        "| 47  | 47     | 0 | NaN | NaN |\n",
        "| 48  | 48     | 0 | NaN | NaN |\n",
        "| 49  | 49     | 0 | NaN | NaN |\n",
        "| 50  | 50     | 0 | NaN | NaN |"
       ]
      }
     ],
     "prompt_number": 4
    },
    {
     "cell_type": "markdown",
     "metadata": {},
     "source": [
      "Use a continuous model and generate the initial infection and recovery (gamma = 5)"
     ]
    },
    {
     "cell_type": "code",
     "collapsed": true,
     "input": [
      "intial_infect(edb, \"continuous\", 5)"
     ],
     "language": "python",
     "metadata": {},
     "outputs": [
      {
       "html": [
        "<table class=\"data-frame\"><tr><th></th><th>ind_id</th><th>s</th><th>i</th><th>r</th></tr><tr><th>1</th><td>1</td><td>0</td><td>NaN</td><td>NaN</td></tr><tr><th>2</th><td>2</td><td>0</td><td>NaN</td><td>NaN</td></tr><tr><th>3</th><td>3</td><td>0</td><td>NaN</td><td>NaN</td></tr><tr><th>4</th><td>4</td><td>0</td><td>NaN</td><td>NaN</td></tr><tr><th>5</th><td>5</td><td>0</td><td>NaN</td><td>NaN</td></tr><tr><th>6</th><td>6</td><td>0</td><td>NaN</td><td>NaN</td></tr><tr><th>7</th><td>7</td><td>0</td><td>NaN</td><td>NaN</td></tr><tr><th>8</th><td>8</td><td>0</td><td>NaN</td><td>NaN</td></tr><tr><th>9</th><td>9</td><td>0</td><td>NaN</td><td>NaN</td></tr><tr><th>10</th><td>10</td><td>0</td><td>NaN</td><td>NaN</td></tr><tr><th>11</th><td>11</td><td>0</td><td>NaN</td><td>NaN</td></tr><tr><th>12</th><td>12</td><td>0</td><td>NaN</td><td>NaN</td></tr><tr><th>13</th><td>13</td><td>0</td><td>NaN</td><td>NaN</td></tr><tr><th>14</th><td>14</td><td>0</td><td>NaN</td><td>NaN</td></tr><tr><th>15</th><td>15</td><td>0</td><td>NaN</td><td>NaN</td></tr><tr><th>16</th><td>16</td><td>0</td><td>NaN</td><td>NaN</td></tr><tr><th>17</th><td>17</td><td>0</td><td>NaN</td><td>NaN</td></tr><tr><th>18</th><td>18</td><td>0</td><td>NaN</td><td>NaN</td></tr><tr><th>19</th><td>19</td><td>0</td><td>NaN</td><td>NaN</td></tr><tr><th>20</th><td>20</td><td>0</td><td>NaN</td><td>NaN</td></tr><tr><th>21</th><td>21</td><td>0</td><td>NaN</td><td>NaN</td></tr><tr><th>22</th><td>22</td><td>0</td><td>NaN</td><td>NaN</td></tr><tr><th>23</th><td>23</td><td>0</td><td>NaN</td><td>NaN</td></tr><tr><th>24</th><td>24</td><td>0</td><td>NaN</td><td>NaN</td></tr><tr><th>25</th><td>25</td><td>0</td><td>NaN</td><td>NaN</td></tr><tr><th>26</th><td>26</td><td>0</td><td>NaN</td><td>NaN</td></tr><tr><th>27</th><td>27</td><td>0</td><td>NaN</td><td>NaN</td></tr><tr><th>28</th><td>28</td><td>0</td><td>NaN</td><td>NaN</td></tr><tr><th>29</th><td>29</td><td>0</td><td>NaN</td><td>NaN</td></tr><tr><th>30</th><td>30</td><td>0</td><td>NaN</td><td>NaN</td></tr><tr><th>&vellip;</th><td>&vellip;</td><td>&vellip;</td><td>&vellip;</td><td>&vellip;</td></tr></table>"
       ],
       "metadata": {},
       "output_type": "pyout",
       "prompt_number": 5,
       "text": [
        "50x4 DataFrame\n",
        "| Row | ind_id | s | i   | r       |\n",
        "|-----|--------|---|-----|---------|\n",
        "| 1   | 1      | 0 | NaN | NaN     |\n",
        "| 2   | 2      | 0 | NaN | NaN     |\n",
        "| 3   | 3      | 0 | NaN | NaN     |\n",
        "| 4   | 4      | 0 | NaN | NaN     |\n",
        "| 5   | 5      | 0 | NaN | NaN     |\n",
        "| 6   | 6      | 0 | NaN | NaN     |\n",
        "| 7   | 7      | 0 | NaN | NaN     |\n",
        "| 8   | 8      | 0 | NaN | NaN     |\n",
        "| 9   | 9      | 0 | NaN | NaN     |\n",
        "| 10  | 10     | 0 | NaN | NaN     |\n",
        "| 11  | 11     | 0 | NaN | NaN     |\n",
        "\u22ee\n",
        "| 39  | 39     | 0 | NaN | NaN     |\n",
        "| 40  | 40     | 0 | NaN | NaN     |\n",
        "| 41  | 41     | 0 | NaN | NaN     |\n",
        "| 42  | 42     | 0 | NaN | NaN     |\n",
        "| 43  | 43     | 0 | NaN | NaN     |\n",
        "| 44  | 44     | 0 | NaN | NaN     |\n",
        "| 45  | 45     | 0 | NaN | NaN     |\n",
        "| 46  | 46     | 0 | NaN | NaN     |\n",
        "| 47  | 47     | 0 | 1.0 | 2.02919 |\n",
        "| 48  | 48     | 0 | NaN | NaN     |\n",
        "| 49  | 49     | 0 | NaN | NaN     |\n",
        "| 50  | 50     | 0 | NaN | NaN     |"
       ]
      }
     ],
     "prompt_number": 5
    },
    {
     "cell_type": "markdown",
     "metadata": {},
     "source": [
      "Propagate infection (loop for the number of individuals in the population)"
     ]
    },
    {
     "cell_type": "code",
     "collapsed": true,
     "input": [
      "for i = 2:pop_db1[end,1]\n",
      "    infect_recover(dist_mat_ab1, edb, \"continuous\", maximum(edb[:,3]), 5)\n",
      "end"
     ],
     "language": "python",
     "metadata": {},
     "outputs": [
      {
       "ename": "LoadError",
       "evalue": "function find_state does not accept keyword arguments\nwhile loading In[10], in expression starting on line 1",
       "output_type": "pyerr",
       "traceback": [
        "function find_state does not accept keyword arguments\nwhile loading In[10], in expression starting on line 1",
        "",
        " in infect_recover at /Users/justin/Dropbox/Projects/ilmtools/events.jl:136",
        " in anonymous at no file:2"
       ]
      }
     ],
     "prompt_number": 10
    },
    {
     "cell_type": "code",
     "collapsed": true,
     "input": [],
     "language": "python",
     "metadata": {},
     "outputs": [],
     "prompt_number": 8
    }
   ],
   "metadata": {}
  }
 ]
}