{
 "metadata": {
  "language": "Julia",
  "name": "",
  "signature": "sha256:8efcc7a72cb384797f6bcd83cdd6299e043b26d28286329495d535e3c28bd9a9"
 },
 "nbformat": 3,
 "nbformat_minor": 0,
 "worksheets": [
  {
   "cells": [
    {
     "cell_type": "markdown",
     "metadata": {},
     "source": [
      "Load the required .jl files..."
     ]
    },
    {
     "cell_type": "code",
     "collapsed": true,
     "input": [
      "include(\"events.jl\")\n",
      "include(\"population.jl\")"
     ],
     "language": "python",
     "metadata": {},
     "outputs": [
      {
       "metadata": {},
       "output_type": "pyout",
       "prompt_number": 1,
       "text": [
        "create_dist_mtx (generic function with 1 method)"
       ]
      }
     ],
     "prompt_number": 1
    },
    {
     "cell_type": "markdown",
     "metadata": {},
     "source": [
      "Generate a population from a bi-variate normal distribution, and generate a distance matrix..."
     ]
    },
    {
     "cell_type": "code",
     "collapsed": true,
     "input": [
      "pop_db1 = create_pop_db(50, MvNormal(eye(2).*2))\n",
      "dist_mat1 = create_dist_mtx(pop_db1)"
     ],
     "language": "python",
     "metadata": {},
     "outputs": [
      {
       "metadata": {},
       "output_type": "pyout",
       "prompt_number": 2,
       "text": [
        "50x50 Array{Float64,2}:\n",
        " 0.0        0.706295    2.61492   2.42992   \u2026  2.68755   3.2009    1.24582  \n",
        " 0.706295   0.0         1.90862   3.13622      3.39385   2.4946    0.53953  \n",
        " 2.61492    1.90862     0.0       5.04484      5.30247   0.585982  1.36909  \n",
        " 2.42992    3.13622     5.04484   0.0          0.257631  5.63082   3.67575  \n",
        " 0.758575   0.0522804   1.85634   3.1885       3.44613   2.44232   0.487249 \n",
        " 0.556388   0.149907    2.05853   2.98631   \u2026  3.24394   2.64451   0.689437 \n",
        " 1.19232    0.486022    1.4226    3.62224      3.87987   2.00858   0.0535079\n",
        " 0.770266   0.063971    1.84465   3.20019      3.45782   2.43063   0.475559 \n",
        " 0.659072   1.36537     3.27399   1.77085      2.02848   3.85997   1.9049   \n",
        " 0.669131   0.0371638   1.94578   3.09905      3.35669   2.53177   0.576694 \n",
        " 0.463918   1.17021     3.07883   1.96601   \u2026  2.22364   3.66482   1.70974  \n",
        " 1.27965    1.98594     3.89457   1.15027      1.40791   4.48055   2.52547  \n",
        " 0.519831   0.186464    2.09508   2.94975      3.20739   2.68107   0.725993 \n",
        " \u22ee                                          \u22f1                               \n",
        " 0.25777    0.964064    2.87269   2.17215      2.42978   3.45867   1.50359  \n",
        " 0.977782   1.68408     3.5927    1.45214      1.70977   4.17868   2.22361  \n",
        " 1.37778    0.671484    1.23714   3.8077    \u2026  4.06533   1.82312   0.131954 \n",
        " 0.0552305  0.761525    2.67015   2.37469      2.63232   3.25613   1.30105  \n",
        " 0.703777   0.00251784  1.91114   3.1337       3.39133   2.49712   0.542048 \n",
        " 0.927634   1.63393     3.54255   1.50229      1.75992   4.12853   2.17346  \n",
        " 0.0990796  0.607215    2.51584   2.529        2.78663   3.10182   1.14674  \n",
        " 2.19104    1.48474     0.423878  4.62096   \u2026  4.87859   1.00986   0.945213 \n",
        " 1.77525    2.48155     4.39017   0.654671     0.912302  4.97615   3.02108  \n",
        " 2.68755    3.39385     5.30247   0.257631     0.0       5.88845   3.93338  \n",
        " 3.2009     2.4946      0.585982  5.63082      5.88845   0.0       1.95507  \n",
        " 1.24582    0.53953     1.36909   3.67575      3.93338   1.95507   0.0      "
       ]
      }
     ],
     "prompt_number": 2
    },
    {
     "cell_type": "markdown",
     "metadata": {},
     "source": [
      "Set alpha to 1, beta to 15..."
     ]
    },
    {
     "cell_type": "code",
     "collapsed": true,
     "input": [
      "dist_mat_ab1 = dist_ab_mtx(dist_mat1, 1, 15)"
     ],
     "language": "python",
     "metadata": {},
     "outputs": [
      {
       "metadata": {},
       "output_type": "pyout",
       "prompt_number": 3,
       "text": [
        "50x50 Array{Float64,2}:\n",
        "    Inf              184.167        \u2026     2.63587e-8       0.0369955  \n",
        "    184.167          Inf                  1.10912e-6   10465.7        \n",
        "      5.47186e-7       6.15466e-5      3032.06             0.0089849  \n",
        "      1.64479e-6       3.5802e-8          5.51346e-12      3.3099e-9  \n",
        "     63.099            1.6785e19          1.52389e-6   48276.0        \n",
        "   6596.86             2.30504e12   \u2026     4.62192e-7     264.598      \n",
        "      0.0714706    50137.6                2.86193e-5       1.18505e19 \n",
        "     50.164            8.13297e17         1.63762e-6   69492.7        \n",
        "    520.004            0.00935967         1.58943e-9       6.33767e-5 \n",
        "    414.32             2.80667e21         8.88474e-7    3853.22       \n",
        " 100783.0              0.0946303    \u2026     3.46114e-9       0.000320657\n",
        "      0.0247534        3.39231e-5         1.69838e-10      9.22269e-7 \n",
        "  18283.9              8.73148e10         3.76172e-7     121.902      \n",
        "      \u22ee                             \u22f1                                 \n",
        "      6.78461e8        1.73145            8.24838e-9       0.00220314 \n",
        "      1.40077          0.00040232         4.83519e-10      6.22488e-6 \n",
        "      0.00817162     393.064        \u2026     0.000122398      1.56185e13 \n",
        "      7.36738e18      59.5301             2.03929e-8       0.0193004  \n",
        "    194.302            9.65113e38         1.09246e-6    9759.77       \n",
        "      3.08567          0.000633146        5.79517e-10      8.76456e-6 \n",
        "      1.14878e15    1777.72               4.22431e-8       0.128233   \n",
        "      7.76701e-6       0.00266215   \u2026     0.863139         2.32839    \n",
        "      0.000182431      1.19995e-6         3.52045e-11      6.27444e-8 \n",
        "      3.62778e-7       1.0955e-8          2.81827e-12      1.19816e-9 \n",
        "      2.63587e-8       1.10912e-6       Inf                4.29096e-5 \n",
        "      0.0369955    10465.7                4.29096e-5     Inf          "
       ]
      }
     ],
     "prompt_number": 3
    },
    {
     "cell_type": "markdown",
     "metadata": {},
     "source": [
      "Use an SIR model..."
     ]
    },
    {
     "cell_type": "code",
     "collapsed": true,
     "input": [
      "edb = create_event_db(pop_db1, \"SIR\")"
     ],
     "language": "python",
     "metadata": {},
     "outputs": [
      {
       "html": [
        "<table class=\"data-frame\"><tr><th></th><th>ind_id</th><th>s</th><th>i</th><th>r</th></tr><tr><th>1</th><td>1</td><td>0</td><td>NaN</td><td>NaN</td></tr><tr><th>2</th><td>2</td><td>0</td><td>NaN</td><td>NaN</td></tr><tr><th>3</th><td>3</td><td>0</td><td>NaN</td><td>NaN</td></tr><tr><th>4</th><td>4</td><td>0</td><td>NaN</td><td>NaN</td></tr><tr><th>5</th><td>5</td><td>0</td><td>NaN</td><td>NaN</td></tr><tr><th>6</th><td>6</td><td>0</td><td>NaN</td><td>NaN</td></tr><tr><th>7</th><td>7</td><td>0</td><td>NaN</td><td>NaN</td></tr><tr><th>8</th><td>8</td><td>0</td><td>NaN</td><td>NaN</td></tr><tr><th>9</th><td>9</td><td>0</td><td>NaN</td><td>NaN</td></tr><tr><th>10</th><td>10</td><td>0</td><td>NaN</td><td>NaN</td></tr><tr><th>11</th><td>11</td><td>0</td><td>NaN</td><td>NaN</td></tr><tr><th>12</th><td>12</td><td>0</td><td>NaN</td><td>NaN</td></tr><tr><th>13</th><td>13</td><td>0</td><td>NaN</td><td>NaN</td></tr><tr><th>14</th><td>14</td><td>0</td><td>NaN</td><td>NaN</td></tr><tr><th>15</th><td>15</td><td>0</td><td>NaN</td><td>NaN</td></tr><tr><th>16</th><td>16</td><td>0</td><td>NaN</td><td>NaN</td></tr><tr><th>17</th><td>17</td><td>0</td><td>NaN</td><td>NaN</td></tr><tr><th>18</th><td>18</td><td>0</td><td>NaN</td><td>NaN</td></tr><tr><th>19</th><td>19</td><td>0</td><td>NaN</td><td>NaN</td></tr><tr><th>20</th><td>20</td><td>0</td><td>NaN</td><td>NaN</td></tr><tr><th>21</th><td>21</td><td>0</td><td>NaN</td><td>NaN</td></tr><tr><th>22</th><td>22</td><td>0</td><td>NaN</td><td>NaN</td></tr><tr><th>23</th><td>23</td><td>0</td><td>NaN</td><td>NaN</td></tr><tr><th>24</th><td>24</td><td>0</td><td>NaN</td><td>NaN</td></tr><tr><th>25</th><td>25</td><td>0</td><td>NaN</td><td>NaN</td></tr><tr><th>26</th><td>26</td><td>0</td><td>NaN</td><td>NaN</td></tr><tr><th>27</th><td>27</td><td>0</td><td>NaN</td><td>NaN</td></tr><tr><th>28</th><td>28</td><td>0</td><td>NaN</td><td>NaN</td></tr><tr><th>29</th><td>29</td><td>0</td><td>NaN</td><td>NaN</td></tr><tr><th>30</th><td>30</td><td>0</td><td>NaN</td><td>NaN</td></tr><tr><th>&vellip;</th><td>&vellip;</td><td>&vellip;</td><td>&vellip;</td><td>&vellip;</td></tr></table>"
       ],
       "metadata": {},
       "output_type": "pyout",
       "prompt_number": 4,
       "text": [
        "50x4 DataFrame\n",
        "| Row | ind_id | s | i   | r   |\n",
        "|-----|--------|---|-----|-----|\n",
        "| 1   | 1      | 0 | NaN | NaN |\n",
        "| 2   | 2      | 0 | NaN | NaN |\n",
        "| 3   | 3      | 0 | NaN | NaN |\n",
        "| 4   | 4      | 0 | NaN | NaN |\n",
        "| 5   | 5      | 0 | NaN | NaN |\n",
        "| 6   | 6      | 0 | NaN | NaN |\n",
        "| 7   | 7      | 0 | NaN | NaN |\n",
        "| 8   | 8      | 0 | NaN | NaN |\n",
        "| 9   | 9      | 0 | NaN | NaN |\n",
        "| 10  | 10     | 0 | NaN | NaN |\n",
        "| 11  | 11     | 0 | NaN | NaN |\n",
        "\u22ee\n",
        "| 39  | 39     | 0 | NaN | NaN |\n",
        "| 40  | 40     | 0 | NaN | NaN |\n",
        "| 41  | 41     | 0 | NaN | NaN |\n",
        "| 42  | 42     | 0 | NaN | NaN |\n",
        "| 43  | 43     | 0 | NaN | NaN |\n",
        "| 44  | 44     | 0 | NaN | NaN |\n",
        "| 45  | 45     | 0 | NaN | NaN |\n",
        "| 46  | 46     | 0 | NaN | NaN |\n",
        "| 47  | 47     | 0 | NaN | NaN |\n",
        "| 48  | 48     | 0 | NaN | NaN |\n",
        "| 49  | 49     | 0 | NaN | NaN |\n",
        "| 50  | 50     | 0 | NaN | NaN |"
       ]
      }
     ],
     "prompt_number": 4
    },
    {
     "cell_type": "markdown",
     "metadata": {},
     "source": [
      "Use a continuous model and generate the initial infection and recovery (gamma = 5)"
     ]
    },
    {
     "cell_type": "code",
     "collapsed": true,
     "input": [
      "intial_infect(edb, \"continuous\", 5)"
     ],
     "language": "python",
     "metadata": {},
     "outputs": [
      {
       "html": [
        "<table class=\"data-frame\"><tr><th></th><th>ind_id</th><th>s</th><th>i</th><th>r</th></tr><tr><th>1</th><td>1</td><td>0</td><td>NaN</td><td>NaN</td></tr><tr><th>2</th><td>2</td><td>0</td><td>NaN</td><td>NaN</td></tr><tr><th>3</th><td>3</td><td>0</td><td>NaN</td><td>NaN</td></tr><tr><th>4</th><td>4</td><td>0</td><td>NaN</td><td>NaN</td></tr><tr><th>5</th><td>5</td><td>0</td><td>NaN</td><td>NaN</td></tr><tr><th>6</th><td>6</td><td>0</td><td>NaN</td><td>NaN</td></tr><tr><th>7</th><td>7</td><td>0</td><td>NaN</td><td>NaN</td></tr><tr><th>8</th><td>8</td><td>0</td><td>NaN</td><td>NaN</td></tr><tr><th>9</th><td>9</td><td>0</td><td>NaN</td><td>NaN</td></tr><tr><th>10</th><td>10</td><td>0</td><td>NaN</td><td>NaN</td></tr><tr><th>11</th><td>11</td><td>0</td><td>NaN</td><td>NaN</td></tr><tr><th>12</th><td>12</td><td>0</td><td>NaN</td><td>NaN</td></tr><tr><th>13</th><td>13</td><td>0</td><td>NaN</td><td>NaN</td></tr><tr><th>14</th><td>14</td><td>0</td><td>NaN</td><td>NaN</td></tr><tr><th>15</th><td>15</td><td>0</td><td>NaN</td><td>NaN</td></tr><tr><th>16</th><td>16</td><td>0</td><td>NaN</td><td>NaN</td></tr><tr><th>17</th><td>17</td><td>0</td><td>NaN</td><td>NaN</td></tr><tr><th>18</th><td>18</td><td>0</td><td>NaN</td><td>NaN</td></tr><tr><th>19</th><td>19</td><td>0</td><td>NaN</td><td>NaN</td></tr><tr><th>20</th><td>20</td><td>0</td><td>NaN</td><td>NaN</td></tr><tr><th>21</th><td>21</td><td>0</td><td>NaN</td><td>NaN</td></tr><tr><th>22</th><td>22</td><td>0</td><td>NaN</td><td>NaN</td></tr><tr><th>23</th><td>23</td><td>0</td><td>NaN</td><td>NaN</td></tr><tr><th>24</th><td>24</td><td>0</td><td>NaN</td><td>NaN</td></tr><tr><th>25</th><td>25</td><td>0</td><td>NaN</td><td>NaN</td></tr><tr><th>26</th><td>26</td><td>0</td><td>NaN</td><td>NaN</td></tr><tr><th>27</th><td>27</td><td>0</td><td>NaN</td><td>NaN</td></tr><tr><th>28</th><td>28</td><td>0</td><td>NaN</td><td>NaN</td></tr><tr><th>29</th><td>29</td><td>0</td><td>NaN</td><td>NaN</td></tr><tr><th>30</th><td>30</td><td>0</td><td>NaN</td><td>NaN</td></tr><tr><th>&vellip;</th><td>&vellip;</td><td>&vellip;</td><td>&vellip;</td><td>&vellip;</td></tr></table>"
       ],
       "metadata": {},
       "output_type": "pyout",
       "prompt_number": 5,
       "text": [
        "50x4 DataFrame\n",
        "| Row | ind_id | s | i   | r       |\n",
        "|-----|--------|---|-----|---------|\n",
        "| 1   | 1      | 0 | NaN | NaN     |\n",
        "| 2   | 2      | 0 | NaN | NaN     |\n",
        "| 3   | 3      | 0 | NaN | NaN     |\n",
        "| 4   | 4      | 0 | NaN | NaN     |\n",
        "| 5   | 5      | 0 | NaN | NaN     |\n",
        "| 6   | 6      | 0 | NaN | NaN     |\n",
        "| 7   | 7      | 0 | NaN | NaN     |\n",
        "| 8   | 8      | 0 | NaN | NaN     |\n",
        "| 9   | 9      | 0 | NaN | NaN     |\n",
        "| 10  | 10     | 0 | NaN | NaN     |\n",
        "| 11  | 11     | 0 | NaN | NaN     |\n",
        "\u22ee\n",
        "| 39  | 39     | 0 | NaN | NaN     |\n",
        "| 40  | 40     | 0 | NaN | NaN     |\n",
        "| 41  | 41     | 0 | 1.0 | 3.37583 |\n",
        "| 42  | 42     | 0 | NaN | NaN     |\n",
        "| 43  | 43     | 0 | NaN | NaN     |\n",
        "| 44  | 44     | 0 | NaN | NaN     |\n",
        "| 45  | 45     | 0 | NaN | NaN     |\n",
        "| 46  | 46     | 0 | NaN | NaN     |\n",
        "| 47  | 47     | 0 | NaN | NaN     |\n",
        "| 48  | 48     | 0 | NaN | NaN     |\n",
        "| 49  | 49     | 0 | NaN | NaN     |\n",
        "| 50  | 50     | 0 | NaN | NaN     |"
       ]
      }
     ],
     "prompt_number": 5
    },
    {
     "cell_type": "markdown",
     "metadata": {},
     "source": [
      "Propagate infection (loop for the number of individuals in the population)"
     ]
    },
    {
     "cell_type": "code",
     "collapsed": true,
     "input": [
      "for i = 2:pop_db1[end,1]\n",
      "    infect_recover(dist_mat_ab1, edb, \"continuous\", maximum(edb[:,3]), 5)\n",
      "end"
     ],
     "language": "python",
     "metadata": {},
     "outputs": [],
     "prompt_number": 6
    },
    {
     "cell_type": "code",
     "collapsed": true,
     "input": [
      "edb"
     ],
     "language": "python",
     "metadata": {},
     "outputs": [
      {
       "html": [
        "<table class=\"data-frame\"><tr><th></th><th>ind_id</th><th>s</th><th>i</th><th>r</th></tr><tr><th>1</th><td>1</td><td>0</td><td>1.0000000062973984</td><td>14.067450083979091</td></tr><tr><th>2</th><td>2</td><td>0</td><td>1.0000000007079024</td><td>4.054614346580913</td></tr><tr><th>3</th><td>3</td><td>0</td><td>1.000000004795384</td><td>2.9027603175903915</td></tr><tr><th>4</th><td>4</td><td>0</td><td>1.0000006923527114</td><td>2.7745948653032277</td></tr><tr><th>5</th><td>5</td><td>0</td><td>1.0000000007079024</td><td>3.964109595540707</td></tr><tr><th>6</th><td>6</td><td>0</td><td>1.0000000007079026</td><td>5.355938635021431</td></tr><tr><th>7</th><td>7</td><td>0</td><td>1.0000000000000437</td><td>5.2679897970510075</td></tr><tr><th>8</th><td>8</td><td>0</td><td>1.0000000007079024</td><td>3.2865233946408</td></tr><tr><th>9</th><td>9</td><td>0</td><td>1.000000006452702</td><td>2.0566524078636164</td></tr><tr><th>10</th><td>10</td><td>0</td><td>1.0000000007079024</td><td>6.715927932024758</td></tr><tr><th>11</th><td>11</td><td>0</td><td>1.0000000064521744</td><td>13.09810961629986</td></tr><tr><th>12</th><td>12</td><td>0</td><td>1.0000000116431065</td><td>8.640807918556439</td></tr><tr><th>13</th><td>13</td><td>0</td><td>1.0000000007079026</td><td>4.416602292887498</td></tr><tr><th>14</th><td>14</td><td>0</td><td>1.0000000007079024</td><td>1.9907708360437613</td></tr><tr><th>15</th><td>15</td><td>0</td><td>1.0001065893432006</td><td>17.60778656145781</td></tr><tr><th>16</th><td>16</td><td>0</td><td>1.0000006940306791</td><td>1.9436417923414124</td></tr><tr><th>17</th><td>17</td><td>0</td><td>1.0000000045882986</td><td>10.275715043609111</td></tr><tr><th>18</th><td>18</td><td>0</td><td>1.000000004540545</td><td>4.095557977291041</td></tr><tr><th>19</th><td>19</td><td>0</td><td>1.0000000045882986</td><td>5.889851210764816</td></tr><tr><th>20</th><td>20</td><td>0</td><td>1.0000006940305142</td><td>5.34959660177731</td></tr><tr><th>21</th><td>21</td><td>0</td><td>1.0000000116570142</td><td>5.698377747975333</td></tr><tr><th>22</th><td>22</td><td>0</td><td>1.0000000062973984</td><td>12.545789796628734</td></tr><tr><th>23</th><td>23</td><td>0</td><td>1.000000002882481</td><td>1.7115493281741583</td></tr><tr><th>24</th><td>24</td><td>0</td><td>1.0000000007079026</td><td>1.5687201297122921</td></tr><tr><th>25</th><td>25</td><td>0</td><td>1.0000000000000437</td><td>1.7495686074269734</td></tr><tr><th>26</th><td>26</td><td>0</td><td>1.0000000116596481</td><td>5.448790621235587</td></tr><tr><th>27</th><td>27</td><td>0</td><td>1.0000000007079024</td><td>8.99351975785794</td></tr><tr><th>28</th><td>28</td><td>0</td><td>1.000000006452702</td><td>2.368735663948808</td></tr><tr><th>29</th><td>29</td><td>0</td><td>1.0001065893431755</td><td>7.227122907603295</td></tr><tr><th>30</th><td>30</td><td>0</td><td>1.000000000707905</td><td>2.0297888556890205</td></tr><tr><th>&vellip;</th><td>&vellip;</td><td>&vellip;</td><td>&vellip;</td><td>&vellip;</td></tr></table>"
       ],
       "metadata": {},
       "output_type": "pyout",
       "prompt_number": 7,
       "text": [
        "50x4 DataFrame\n",
        "| Row | ind_id | s | i       | r       |\n",
        "|-----|--------|---|---------|---------|\n",
        "| 1   | 1      | 0 | 1.0     | 14.0675 |\n",
        "| 2   | 2      | 0 | 1.0     | 4.05461 |\n",
        "| 3   | 3      | 0 | 1.0     | 2.90276 |\n",
        "| 4   | 4      | 0 | 1.0     | 2.77459 |\n",
        "| 5   | 5      | 0 | 1.0     | 3.96411 |\n",
        "| 6   | 6      | 0 | 1.0     | 5.35594 |\n",
        "| 7   | 7      | 0 | 1.0     | 5.26799 |\n",
        "| 8   | 8      | 0 | 1.0     | 3.28652 |\n",
        "| 9   | 9      | 0 | 1.0     | 2.05665 |\n",
        "| 10  | 10     | 0 | 1.0     | 6.71593 |\n",
        "| 11  | 11     | 0 | 1.0     | 13.0981 |\n",
        "\u22ee\n",
        "| 39  | 39     | 0 | 1.0     | 2.6187  |\n",
        "| 40  | 40     | 0 | 1.0     | 4.84751 |\n",
        "| 41  | 41     | 0 | 1.0     | 3.37583 |\n",
        "| 42  | 42     | 0 | 1.0     | 2.13825 |\n",
        "| 43  | 43     | 0 | 1.0     | 5.22097 |\n",
        "| 44  | 44     | 0 | 1.0     | 2.75538 |\n",
        "| 45  | 45     | 0 | 1.0     | 3.89159 |\n",
        "| 46  | 46     | 0 | 1.0     | 6.54186 |\n",
        "| 47  | 47     | 0 | 1.0     | 2.54641 |\n",
        "| 48  | 48     | 0 | 1.0     | 9.79572 |\n",
        "| 49  | 49     | 0 | 1.00017 | 3.08495 |\n",
        "| 50  | 50     | 0 | 1.0     | 10.1581 |"
       ]
      }
     ],
     "prompt_number": 7
    },
    {
     "cell_type": "code",
     "collapsed": true,
     "input": [],
     "language": "python",
     "metadata": {},
     "outputs": [],
     "prompt_number": 8
    }
   ],
   "metadata": {}
  }
 ]
}