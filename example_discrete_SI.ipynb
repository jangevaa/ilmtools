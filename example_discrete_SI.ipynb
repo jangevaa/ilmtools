{
 "metadata": {
  "language": "Julia",
  "name": "",
  "signature": "sha256:458c64da516274d98bed90bbcf471329470c9e8f8c19c2e13698bc78c7deb99e"
 },
 "nbformat": 3,
 "nbformat_minor": 0,
 "worksheets": [
  {
   "cells": [
    {
     "cell_type": "markdown",
     "metadata": {},
     "source": [
      "Load the ilmtools package..."
     ]
    },
    {
     "cell_type": "code",
     "collapsed": false,
     "input": [
      "include(\"ilmtools.jl\")"
     ],
     "language": "python",
     "metadata": {},
     "outputs": [
      {
       "metadata": {},
       "output_type": "pyout",
       "prompt_number": 9,
       "text": [
        "state_animation (generic function with 1 method)"
       ]
      }
     ],
     "prompt_number": 9
    },
    {
     "cell_type": "markdown",
     "metadata": {},
     "source": [
      "Generate a population with a bivariate uniform spatial distribution (over a 25 by 25 unit area)"
     ]
    },
    {
     "cell_type": "code",
     "collapsed": true,
     "input": [
      "pop_db1 = create_pop_db_univariates(625, Uniform(0,25), Uniform(0,25))"
     ],
     "language": "python",
     "metadata": {},
     "outputs": [
      {
       "html": [
        "<table class=\"data-frame\"><tr><th></th><th>ind_id</th><th>x</th><th>y</th></tr><tr><th>1</th><td>1</td><td>14.803508137394228</td><td>18.685805530124117</td></tr><tr><th>2</th><td>2</td><td>23.532267461628066</td><td>14.049999329301738</td></tr><tr><th>3</th><td>3</td><td>5.848279595666778</td><td>4.219772226390406</td></tr><tr><th>4</th><td>4</td><td>21.612646816289754</td><td>2.482109146254535</td></tr><tr><th>5</th><td>5</td><td>14.533074573154686</td><td>21.336504967131614</td></tr><tr><th>6</th><td>6</td><td>16.112716060789527</td><td>3.6853820174552188</td></tr><tr><th>7</th><td>7</td><td>24.856750275929517</td><td>3.9131581724426545</td></tr><tr><th>8</th><td>8</td><td>21.0699754050986</td><td>6.0625384937202655</td></tr><tr><th>9</th><td>9</td><td>6.013720143492979</td><td>21.283319593477035</td></tr><tr><th>10</th><td>10</td><td>15.865253187569433</td><td>8.485058130652124</td></tr><tr><th>11</th><td>11</td><td>4.925970027331</td><td>6.440323958649441</td></tr><tr><th>12</th><td>12</td><td>9.353243962214359</td><td>8.03475004079171</td></tr><tr><th>13</th><td>13</td><td>23.673546936639863</td><td>1.1889723279156716</td></tr><tr><th>14</th><td>14</td><td>21.166716277581855</td><td>19.93782482051992</td></tr><tr><th>15</th><td>15</td><td>0.06622840614664005</td><td>21.916845440384748</td></tr><tr><th>16</th><td>16</td><td>21.20844710623302</td><td>14.047865973925516</td></tr><tr><th>17</th><td>17</td><td>17.274370107779767</td><td>4.813215620825484</td></tr><tr><th>18</th><td>18</td><td>24.288236842917353</td><td>10.2318126312009</td></tr><tr><th>19</th><td>19</td><td>23.006146068596472</td><td>23.963875519576757</td></tr><tr><th>20</th><td>20</td><td>21.660329547196056</td><td>23.865966258432003</td></tr><tr><th>21</th><td>21</td><td>13.602367709472757</td><td>24.733826477388547</td></tr><tr><th>22</th><td>22</td><td>8.960495858696337</td><td>5.176161691991838</td></tr><tr><th>23</th><td>23</td><td>9.315212072488688</td><td>20.305836088937784</td></tr><tr><th>24</th><td>24</td><td>2.6160164760951066</td><td>5.444111502821725</td></tr><tr><th>25</th><td>25</td><td>21.768288695695233</td><td>20.66886951358496</td></tr><tr><th>26</th><td>26</td><td>9.590096482999588</td><td>9.139121855987014</td></tr><tr><th>27</th><td>27</td><td>21.515551715727778</td><td>8.96157753840144</td></tr><tr><th>28</th><td>28</td><td>7.961952063480715</td><td>22.256370238963846</td></tr><tr><th>29</th><td>29</td><td>2.9105713057229474</td><td>22.87569577722468</td></tr><tr><th>30</th><td>30</td><td>16.001775114206275</td><td>6.444771005229988</td></tr><tr><th>&vellip;</th><td>&vellip;</td><td>&vellip;</td><td>&vellip;</td></tr></table>"
       ],
       "metadata": {},
       "output_type": "pyout",
       "prompt_number": 2,
       "text": [
        "625x3 DataFrame\n",
        "| Row | ind_id | x        | y       |\n",
        "|-----|--------|----------|---------|\n",
        "| 1   | 1      | 14.8035  | 18.6858 |\n",
        "| 2   | 2      | 23.5323  | 14.05   |\n",
        "| 3   | 3      | 5.84828  | 4.21977 |\n",
        "| 4   | 4      | 21.6126  | 2.48211 |\n",
        "| 5   | 5      | 14.5331  | 21.3365 |\n",
        "| 6   | 6      | 16.1127  | 3.68538 |\n",
        "| 7   | 7      | 24.8568  | 3.91316 |\n",
        "| 8   | 8      | 21.07    | 6.06254 |\n",
        "| 9   | 9      | 6.01372  | 21.2833 |\n",
        "| 10  | 10     | 15.8653  | 8.48506 |\n",
        "| 11  | 11     | 4.92597  | 6.44032 |\n",
        "\u22ee\n",
        "| 614 | 614    | 14.0213  | 6.98117 |\n",
        "| 615 | 615    | 21.588   | 4.86197 |\n",
        "| 616 | 616    | 21.369   | 10.615  |\n",
        "| 617 | 617    | 0.315252 | 12.7591 |\n",
        "| 618 | 618    | 11.7566  | 10.4905 |\n",
        "| 619 | 619    | 20.8222  | 9.42546 |\n",
        "| 620 | 620    | 18.629   | 24.8498 |\n",
        "| 621 | 621    | 24.1282  | 3.81187 |\n",
        "| 622 | 622    | 10.9197  | 12.392  |\n",
        "| 623 | 623    | 3.19245  | 3.70881 |\n",
        "| 624 | 624    | 3.62065  | 1.56796 |\n",
        "| 625 | 625    | 0.151106 | 8.82533 |"
       ]
      }
     ],
     "prompt_number": 2
    },
    {
     "cell_type": "markdown",
     "metadata": {},
     "source": [
      "Generate the initial infection and propagate infection through population (SI model) in discrete time with parameters $\\alpha=2$ and $\\beta=6$"
     ]
    },
    {
     "cell_type": "code",
     "collapsed": true,
     "input": [
      "evdb = infect_recover_loop(pop_db1, \"discrete\", \"SI\", 5, 2, Inf)"
     ],
     "language": "python",
     "metadata": {},
     "outputs": [
      {
       "ename": "LoadError",
       "evalue": "BoundsError()\nwhile loading In[10], in expression starting on line 1",
       "output_type": "pyerr",
       "traceback": [
        "BoundsError()\nwhile loading In[10], in expression starting on line 1",
        "",
        " in getindex at array.jl:277",
        " in event_time_update! at /Users/justin/Dropbox/Projects/ilmtools/events.jl:31",
        " in infect_recover! at /Users/justin/Dropbox/Projects/ilmtools/events.jl:183",
        " in infect_recover_loop at /Users/justin/Dropbox/Projects/ilmtools/events.jl:234"
       ]
      }
     ],
     "prompt_number": 10
    },
    {
     "cell_type": "markdown",
     "metadata": {},
     "source": [
      "Visualize infection (susceptible and infected) through time"
     ]
    },
    {
     "cell_type": "code",
     "collapsed": true,
     "input": [
      "evseries = state_timeseries(evdb)\n",
      "plot(evseries, x=\"time\", y=\"S\", Geom.line)"
     ],
     "language": "python",
     "metadata": {},
     "outputs": [
      {
       "ename": "LoadError",
       "evalue": "evdb not defined\nwhile loading In[4], in expression starting on line 1",
       "output_type": "pyerr",
       "traceback": [
        "evdb not defined\nwhile loading In[4], in expression starting on line 1",
        ""
       ]
      }
     ],
     "prompt_number": 4
    },
    {
     "cell_type": "code",
     "collapsed": false,
     "input": [
      "plot(evseries, x=\"time\", y=\"I\", Geom.line)"
     ],
     "language": "python",
     "metadata": {},
     "outputs": [
      {
       "ename": "LoadError",
       "evalue": "evseries not defined\nwhile loading In[5], in expression starting on line 1",
       "output_type": "pyerr",
       "traceback": [
        "evseries not defined\nwhile loading In[5], in expression starting on line 1",
        ""
       ]
      }
     ],
     "prompt_number": 5
    },
    {
     "cell_type": "markdown",
     "metadata": {},
     "source": [
      "Spatial plots..."
     ]
    },
    {
     "cell_type": "code",
     "collapsed": true,
     "input": [
      "state_animation(1, evdb, pop_db1)"
     ],
     "language": "python",
     "metadata": {},
     "outputs": [
      {
       "ename": "LoadError",
       "evalue": "evdb not defined\nwhile loading In[6], in expression starting on line 1",
       "output_type": "pyerr",
       "traceback": [
        "evdb not defined\nwhile loading In[6], in expression starting on line 1",
        ""
       ]
      }
     ],
     "prompt_number": 6
    },
    {
     "cell_type": "code",
     "collapsed": false,
     "input": [
      "evdb.event_times"
     ],
     "language": "python",
     "metadata": {},
     "outputs": [
      {
       "ename": "LoadError",
       "evalue": "evdb not defined\nwhile loading In[7], in expression starting on line 1",
       "output_type": "pyerr",
       "traceback": [
        "evdb not defined\nwhile loading In[7], in expression starting on line 1",
        ""
       ]
      }
     ],
     "prompt_number": 7
    },
    {
     "cell_type": "code",
     "collapsed": false,
     "input": [
      "1:1"
     ],
     "language": "python",
     "metadata": {},
     "outputs": [
      {
       "metadata": {},
       "output_type": "pyout",
       "prompt_number": 11,
       "text": [
        "1:1"
       ]
      }
     ],
     "prompt_number": 11
    },
    {
     "cell_type": "code",
     "collapsed": false,
     "input": [
      "1:5"
     ],
     "language": "python",
     "metadata": {},
     "outputs": [
      {
       "metadata": {},
       "output_type": "pyout",
       "prompt_number": 12,
       "text": [
        "1:5"
       ]
      }
     ],
     "prompt_number": 12
    },
    {
     "cell_type": "code",
     "collapsed": false,
     "input": [
      "a = 1:1"
     ],
     "language": "python",
     "metadata": {},
     "outputs": [
      {
       "metadata": {},
       "output_type": "pyout",
       "prompt_number": 14,
       "text": [
        "1:1"
       ]
      }
     ],
     "prompt_number": 14
    },
    {
     "cell_type": "code",
     "collapsed": false,
     "input": [
      "length([1, 2, 3])"
     ],
     "language": "python",
     "metadata": {},
     "outputs": [
      {
       "metadata": {},
       "output_type": "pyout",
       "prompt_number": 15,
       "text": [
        "3"
       ]
      }
     ],
     "prompt_number": 15
    },
    {
     "cell_type": "code",
     "collapsed": false,
     "input": [
      "length(size([1, 2, 3]))"
     ],
     "language": "python",
     "metadata": {},
     "outputs": [
      {
       "metadata": {},
       "output_type": "pyout",
       "prompt_number": 3,
       "text": [
        "1"
       ]
      }
     ],
     "prompt_number": 3
    },
    {
     "cell_type": "code",
     "collapsed": false,
     "input": [],
     "language": "python",
     "metadata": {},
     "outputs": []
    }
   ],
   "metadata": {}
  }
 ]
}