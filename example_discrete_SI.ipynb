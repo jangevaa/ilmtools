{
 "metadata": {
  "language": "Julia",
  "name": "",
  "signature": "sha256:f58868ddf68cef7406657ddbc9271468bd0cd9c046a523e40449861d40f77c7d"
 },
 "nbformat": 3,
 "nbformat_minor": 0,
 "worksheets": [
  {
   "cells": [
    {
     "cell_type": "markdown",
     "metadata": {},
     "source": [
      "Load the ilmtools package..."
     ]
    },
    {
     "cell_type": "code",
     "collapsed": false,
     "input": [
      "include(\"ilmtools.jl\")"
     ],
     "language": "python",
     "metadata": {},
     "outputs": [
      {
       "html": [
        "<script charset=\"utf-8\">(function ($, undefined) {\n",
        "\n",
        "    function createElem(tag, attr, content) {\n",
        "\t// TODO: remove jQuery dependency\n",
        "\tvar el = $(\"<\" + tag + \"/>\").attr(attr);\n",
        "\tif (content) {\n",
        "\t    el.append(content);\n",
        "\t}\n",
        "\treturn el[0];\n",
        "    }\n",
        "\n",
        "    // A widget must expose an id field which identifies it to the backend,\n",
        "    // an elem attribute which is will be added to the DOM, and\n",
        "    // a getState() method which returns the value to be sent to the backend\n",
        "    // a sendUpdate() method which sends its current value to the backend\n",
        "    var Widget = {\n",
        "\tid: undefined,\n",
        "\telem: undefined,\n",
        "\tlabel: undefined,\n",
        "\tgetState: function () {\n",
        "\t    return this.elem.value;\n",
        "\t},\n",
        "\tsendUpdate: undefined\n",
        "    };\n",
        "\n",
        "    var Slider = function (typ, id, init) {\n",
        "\tvar attr = { type:  \"range\",\n",
        "\t\t     value: init.value,\n",
        "\t\t     min:   init.min,\n",
        "\t\t     max:   init.max,\n",
        "\t\t     step:  init.step },\n",
        "\t    elem = createElem(\"input\", attr),\n",
        "\t    self = this;\n",
        "\n",
        "\telem.onchange = function () {\n",
        "\t    self.sendUpdate();\n",
        "\t}\n",
        "\n",
        "\tthis.id = id;\n",
        "\tthis.elem = elem;\n",
        "\tthis.label = init.label;\n",
        "\n",
        "\tInputWidgets.commInitializer(this); // Initialize communication\n",
        "    }\n",
        "    Slider.prototype = Widget;\n",
        "\n",
        "    var Checkbox = function (typ, id, init) {\n",
        "\tvar attr = { type: \"checkbox\",\n",
        "\t\t     checked: init.value },\n",
        "\t    elem = createElem(\"input\", attr),\n",
        "\t    self = this;\n",
        "\n",
        "\tthis.getState = function () {\n",
        "\t    return elem.checked;\n",
        "\t}\n",
        "\telem.onchange = function () {\n",
        "\t    self.sendUpdate();\n",
        "\t}\n",
        "\n",
        "\tthis.id = id;\n",
        "\tthis.elem = elem;\n",
        "\tthis.label = init.label;\n",
        "\n",
        "\tInputWidgets.commInitializer(this);\n",
        "    }\n",
        "    Checkbox.prototype = Widget;\n",
        "\n",
        "    var Button = function (typ, id, init) {\n",
        "\tvar attr = { type:    \"button\",\n",
        "\t\t     value:   init.label },\n",
        "\t    elem = createElem(\"input\", attr),\n",
        "\t    self = this;\n",
        "\tthis.getState = function () {\n",
        "\t    return null;\n",
        "\t}\n",
        "\telem.onclick = function () {\n",
        "\t    self.sendUpdate();\n",
        "\t}\n",
        "\n",
        "\tthis.id = id;\n",
        "\tthis.elem = elem;\n",
        "\tthis.label = init.label;\n",
        "\n",
        "\tInputWidgets.commInitializer(this);\n",
        "    }\n",
        "    Button.prototype = Widget;\n",
        "\n",
        "    var Text = function (typ, id, init) {\n",
        "\tvar attr = { type:  \"text\",\n",
        "\t\t     placeholder: init.label,\n",
        "\t\t     value: init.value },\n",
        "\t    elem = createElem(\"input\", attr),\n",
        "\t    self = this;\n",
        "\tthis.getState = function () {\n",
        "\t    return elem.value;\n",
        "\t}\n",
        "\telem.onkeyup = function () {\n",
        "\t    self.sendUpdate();\n",
        "\t}\n",
        "\n",
        "\tthis.id = id;\n",
        "\tthis.elem = elem;\n",
        "\tthis.label = init.label;\n",
        "\n",
        "\tInputWidgets.commInitializer(this);\n",
        "    }\n",
        "    Text.prototype = Widget;\n",
        "\n",
        "    var Textarea = function (typ, id, init) {\n",
        "\tvar attr = { placeholder: init.label },\n",
        "\t    elem = createElem(\"textarea\", attr, init.value),\n",
        "\t    self = this;\n",
        "\tthis.getState = function () {\n",
        "\t    return elem.value;\n",
        "\t}\n",
        "\telem.onchange = function () {\n",
        "\t    self.sendUpdate();\n",
        "\t}\n",
        "\n",
        "\tthis.id = id;\n",
        "\tthis.elem = elem;\n",
        "\tthis.label = init.label;\n",
        "\n",
        "\tInputWidgets.commInitializer(this);\n",
        "    }\n",
        "    Textarea.prototype = Widget;\n",
        "\n",
        "    // RadioButtons\n",
        "    // Dropdown\n",
        "    // HTML\n",
        "    // Latex\n",
        "\n",
        "    var InputWidgets = {\n",
        "\tSlider: Slider,\n",
        "\tCheckbox: Checkbox,\n",
        "\tButton: Button,\n",
        "\tText: Text,\n",
        "\tTextarea: Textarea,\n",
        "\tdebug: false,\n",
        "\tlog: function () {\n",
        "\t    if (InputWidgets.debug) {\n",
        "\t\tconsole.log.apply(console, arguments);\n",
        "\t    }\n",
        "\t},\n",
        "\t// a central way to initalize communication\n",
        "\t// for widgets.\n",
        "\tcommInitializer: function (widget) {\n",
        "\t    widget.sendUpdate = function () {};\n",
        "\t}\n",
        "    };\n",
        "\n",
        "    window.InputWidgets = InputWidgets;\n",
        "\n",
        "})(jQuery, undefined);\n",
        "</script>"
       ],
       "metadata": {},
       "output_type": "display_data"
      },
      {
       "html": [
        "<script charset=\"utf-8\">(function (IPython, $, _, MathJax, Widgets) {\n",
        "    $.event.special.destroyed = {\n",
        "\tremove: function(o) {\n",
        "\t    if (o.handler) {\n",
        "\t\to.handler.apply(this, arguments)\n",
        "\t    }\n",
        "\t}\n",
        "    }\n",
        "\n",
        "    var redrawValue = function (container, type, val) {\n",
        "\tvar selector = $(\"<div/>\");\n",
        "\tvar oa = new IPython.OutputArea(_.extend(selector, {\n",
        "\t    selector: selector,\n",
        "\t    prompt_area: true,\n",
        "\t    events: IPython.events,\n",
        "\t    keyboard_manager: IPython.keyboard_manager\n",
        "\t})); // Hack to work with IPython 2.1.0\n",
        "\n",
        "\tswitch (type) {\n",
        "\tcase \"image/png\":\n",
        "            var _src = 'data:' + type + ';base64,' + val;\n",
        "\t    $(container).find(\"img\").attr('src', _src);\n",
        "\t    break;\n",
        "\tdefault:\n",
        "\t    var toinsert = IPython.OutputArea.append_map[type].apply(\n",
        "\t\toa, [val, {}, selector]\n",
        "\t    );\n",
        "\t    $(container).empty().append(toinsert.contents());\n",
        "\t    selector.remove();\n",
        "\t}\n",
        "\tif (type === \"text/latex\" && MathJax) {\n",
        "\t    MathJax.Hub.Queue([\"Typeset\", MathJax.Hub, toinsert.get(0)]);\n",
        "\t}\n",
        "    }\n",
        "\n",
        "\n",
        "    $(document).ready(function() {\n",
        "\tWidgets.debug = false; // log messages etc in console.\n",
        "\tfunction initComm(evt, data) {\n",
        "\t    var comm_manager = data.kernel.comm_manager;\n",
        "\t    comm_manager.register_target(\"Signal\", function (comm) {\n",
        "\t\tcomm.on_msg(function (msg) {\n",
        "\t\t    //Widgets.log(\"message received\", msg);\n",
        "\t\t    var val = msg.content.data.value;\n",
        "\t\t    $(\".signal-\" + comm.comm_id).each(function() {\n",
        "\t\t\tvar type = $(this).data(\"type\");\n",
        "\t\t\tif (val[type]) {\n",
        "\t\t\t    redrawValue(this, type, val[type], type);\n",
        "\t\t\t}\n",
        "\t\t    });\n",
        "\t\t    delete val;\n",
        "\t\t    delete msg.content.data.value;\n",
        "\t\t});\n",
        "\t    });\n",
        "\n",
        "\t    // coordingate with Comm and redraw Signals\n",
        "\t    // XXX: Test using Reactive here to improve performance\n",
        "\t    $([IPython.events]).on(\n",
        "\t\t'output_appended.OutputArea', function (event, type, value, md, toinsert) {\n",
        "\t\t    if (md && md.reactive) {\n",
        "\t\t\t// console.log(md.comm_id);\n",
        "\t\t\ttoinsert.addClass(\"signal-\" + md.comm_id);\n",
        "\t\t\ttoinsert.data(\"type\", type);\n",
        "\t\t\t// Signal back indicating the mimetype required\n",
        "\t\t\tvar comm_manager = IPython.notebook.kernel.comm_manager;\n",
        "\t\t\tvar comm = comm_manager.comms[md.comm_id];\n",
        "\t\t\tcomm.send({action: \"subscribe_mime\",\n",
        "\t\t\t\t   mime: type});\n",
        "\t\t\ttoinsert.bind(\"destroyed\", function() {\n",
        "\t\t\t    comm.send({action: \"unsubscribe_mime\",\n",
        "\t\t\t\t       mime: type});\n",
        "\t\t\t});\n",
        "\t\t    }\n",
        "\t    });\n",
        "\n",
        "\t    // Set up communication for Widgets\n",
        "\t    Widgets.commInitializer = function (widget) {\n",
        "\t\tvar comm = comm_manager.new_comm(\n",
        "\t\t    \"InputWidget\", {widget_id: widget.id}\n",
        "\t\t);\n",
        "\t\twidget.sendUpdate = function () {\n",
        "\t\t    // `this` is a widget here.\n",
        "\t\t    // TODO: I have a feeling there's some\n",
        "\t\t    //       IPython bookkeeping to be done here.\n",
        "\t\t    // Widgets.log(\"State changed\", this, this.getState());\n",
        "\t\t    comm.send({value: this.getState()});\n",
        "\t\t}\n",
        "\t    };\n",
        "\t}\n",
        "\n",
        "\ttry {\n",
        "\t    // try to initialize right away. otherwise, wait on the status_started event.\n",
        "\t    initComm(undefined, IPython.notebook);\n",
        "\t} catch (e) {\n",
        "\t    $([IPython.events]).on('status_started.Kernel', initComm);\n",
        "\t}\n",
        "    });\n",
        "})(IPython, jQuery, _, MathJax, InputWidgets);\n",
        "</script>"
       ],
       "metadata": {},
       "output_type": "display_data"
      },
      {
       "metadata": {},
       "output_type": "pyout",
       "prompt_number": 1,
       "text": [
        "state_animation (generic function with 1 method)"
       ]
      }
     ],
     "prompt_number": 1
    },
    {
     "cell_type": "markdown",
     "metadata": {},
     "source": [
      "Generate a population with a bivariate uniform spatial distribution (over a 25 by 25 unit area)"
     ]
    },
    {
     "cell_type": "code",
     "collapsed": true,
     "input": [
      "pop_db1 = create_pop_db_univariates(625, Uniform(0,25), Uniform(0,25))"
     ],
     "language": "python",
     "metadata": {},
     "outputs": [
      {
       "html": [
        "<table class=\"data-frame\"><tr><th></th><th>ind_id</th><th>x</th><th>y</th></tr><tr><th>1</th><td>1</td><td>19.0655290713994</td><td>15.016711343758383</td></tr><tr><th>2</th><td>2</td><td>12.06441150727564</td><td>16.404126305859158</td></tr><tr><th>3</th><td>3</td><td>22.621455143049722</td><td>14.933674683306464</td></tr><tr><th>4</th><td>4</td><td>9.511704116374736</td><td>15.254085678060896</td></tr><tr><th>5</th><td>5</td><td>20.28519639284838</td><td>11.028085324673281</td></tr><tr><th>6</th><td>6</td><td>11.485254338255713</td><td>4.6930131574273</td></tr><tr><th>7</th><td>7</td><td>9.046733479799551</td><td>18.49769358462084</td></tr><tr><th>8</th><td>8</td><td>10.328359686207738</td><td>14.602497839716216</td></tr><tr><th>9</th><td>9</td><td>9.872291347882566</td><td>14.302446122718276</td></tr><tr><th>10</th><td>10</td><td>21.486203626929296</td><td>1.2258259751305567</td></tr><tr><th>11</th><td>11</td><td>10.722088057912643</td><td>23.987668800280087</td></tr><tr><th>12</th><td>12</td><td>11.04945128428676</td><td>16.508942759862204</td></tr><tr><th>13</th><td>13</td><td>5.012462941104101</td><td>14.525828964871202</td></tr><tr><th>14</th><td>14</td><td>18.592397907038137</td><td>2.0418329324870363</td></tr><tr><th>15</th><td>15</td><td>23.235411001964206</td><td>17.94454894593403</td></tr><tr><th>16</th><td>16</td><td>11.28594507335508</td><td>15.372065773858889</td></tr><tr><th>17</th><td>17</td><td>21.78307321967695</td><td>22.13436620138519</td></tr><tr><th>18</th><td>18</td><td>11.995071626427844</td><td>2.956262320247488</td></tr><tr><th>19</th><td>19</td><td>1.6763252029079079</td><td>24.838073382512356</td></tr><tr><th>20</th><td>20</td><td>17.401730907443312</td><td>10.974702936272408</td></tr><tr><th>21</th><td>21</td><td>15.823191421841603</td><td>13.45321707837085</td></tr><tr><th>22</th><td>22</td><td>14.09728862728591</td><td>20.64240421609627</td></tr><tr><th>23</th><td>23</td><td>14.857883655433573</td><td>7.9581453573556615</td></tr><tr><th>24</th><td>24</td><td>14.509540181687436</td><td>11.925744541068761</td></tr><tr><th>25</th><td>25</td><td>24.829984958589833</td><td>11.692330222049103</td></tr><tr><th>26</th><td>26</td><td>20.646059720274717</td><td>13.02500666927956</td></tr><tr><th>27</th><td>27</td><td>18.759556222075418</td><td>13.919317628189216</td></tr><tr><th>28</th><td>28</td><td>7.7821445097472575</td><td>6.644725637690807</td></tr><tr><th>29</th><td>29</td><td>14.275224619973315</td><td>24.348501979218867</td></tr><tr><th>30</th><td>30</td><td>19.474955482798222</td><td>11.857102178704586</td></tr><tr><th>&vellip;</th><td>&vellip;</td><td>&vellip;</td><td>&vellip;</td></tr></table>"
       ],
       "metadata": {},
       "output_type": "pyout",
       "prompt_number": 2,
       "text": [
        "625x3 DataFrame\n",
        "| Row | ind_id | x       | y       |\n",
        "|-----|--------|---------|---------|\n",
        "| 1   | 1      | 19.0655 | 15.0167 |\n",
        "| 2   | 2      | 12.0644 | 16.4041 |\n",
        "| 3   | 3      | 22.6215 | 14.9337 |\n",
        "| 4   | 4      | 9.5117  | 15.2541 |\n",
        "| 5   | 5      | 20.2852 | 11.0281 |\n",
        "| 6   | 6      | 11.4853 | 4.69301 |\n",
        "| 7   | 7      | 9.04673 | 18.4977 |\n",
        "| 8   | 8      | 10.3284 | 14.6025 |\n",
        "| 9   | 9      | 9.87229 | 14.3024 |\n",
        "| 10  | 10     | 21.4862 | 1.22583 |\n",
        "| 11  | 11     | 10.7221 | 23.9877 |\n",
        "\u22ee\n",
        "| 614 | 614    | 23.9266 | 14.2435 |\n",
        "| 615 | 615    | 4.0029  | 2.10299 |\n",
        "| 616 | 616    | 6.37339 | 3.27975 |\n",
        "| 617 | 617    | 4.38031 | 18.988  |\n",
        "| 618 | 618    | 6.46302 | 12.3191 |\n",
        "| 619 | 619    | 12.0717 | 2.78048 |\n",
        "| 620 | 620    | 22.8961 | 7.8289  |\n",
        "| 621 | 621    | 8.39268 | 7.60501 |\n",
        "| 622 | 622    | 14.1006 | 10.4312 |\n",
        "| 623 | 623    | 10.2428 | 6.69668 |\n",
        "| 624 | 624    | 10.951  | 2.30223 |\n",
        "| 625 | 625    | 10.2625 | 18.7176 |"
       ]
      }
     ],
     "prompt_number": 2
    },
    {
     "cell_type": "markdown",
     "metadata": {},
     "source": [
      "Generate the initial infection and propagate infection through population (SI model) in discrete time with parameters $\\alpha=2$ and $\\beta=6$"
     ]
    },
    {
     "cell_type": "code",
     "collapsed": true,
     "input": [
      "evdb = infect_recover_loop(pop_db1, \"discrete\", \"SI\", 2, 6, Inf)"
     ],
     "language": "python",
     "metadata": {},
     "outputs": [
      {
       "ename": "LoadError",
       "evalue": "`setindex!` has no method matching setindex!(::edb, ::Float64, ::Array{Bool,1}, ::Int64)\nwhile loading In[3], in expression starting on line 1",
       "output_type": "pyerr",
       "traceback": [
        "`setindex!` has no method matching setindex!(::edb, ::Float64, ::Array{Bool,1}, ::Int64)\nwhile loading In[3], in expression starting on line 1",
        "",
        " in infect_recover! at /Users/justin/Dropbox/Projects/ilmtools/events.jl:176",
        " in infect_recover_loop at /Users/justin/Dropbox/Projects/ilmtools/events.jl:229"
       ]
      }
     ],
     "prompt_number": 3
    },
    {
     "cell_type": "markdown",
     "metadata": {},
     "source": [
      "Visualize infection (susceptible and infected) through time"
     ]
    },
    {
     "cell_type": "code",
     "collapsed": true,
     "input": [
      "evseries = state_timeseries(evdb)\n",
      "plot(evseries, x=\"time\", y=\"S\", Geom.line)"
     ],
     "language": "python",
     "metadata": {},
     "outputs": [
      {
       "ename": "LoadError",
       "evalue": "evdb not defined\nwhile loading In[4], in expression starting on line 1",
       "output_type": "pyerr",
       "traceback": [
        "evdb not defined\nwhile loading In[4], in expression starting on line 1",
        ""
       ]
      }
     ],
     "prompt_number": 4
    },
    {
     "cell_type": "code",
     "collapsed": false,
     "input": [
      "plot(evseries, x=\"time\", y=\"I\", Geom.line)"
     ],
     "language": "python",
     "metadata": {},
     "outputs": [
      {
       "ename": "LoadError",
       "evalue": "evseries not defined\nwhile loading In[5], in expression starting on line 1",
       "output_type": "pyerr",
       "traceback": [
        "evseries not defined\nwhile loading In[5], in expression starting on line 1",
        ""
       ]
      }
     ],
     "prompt_number": 5
    },
    {
     "cell_type": "markdown",
     "metadata": {},
     "source": [
      "Spatial plots..."
     ]
    },
    {
     "cell_type": "code",
     "collapsed": true,
     "input": [
      "state_animation(1, evdb, pop_db1)"
     ],
     "language": "python",
     "metadata": {},
     "outputs": [
      {
       "ename": "LoadError",
       "evalue": "evdb not defined\nwhile loading In[6], in expression starting on line 1",
       "output_type": "pyerr",
       "traceback": [
        "evdb not defined\nwhile loading In[6], in expression starting on line 1",
        ""
       ]
      }
     ],
     "prompt_number": 6
    }
   ],
   "metadata": {}
  }
 ]
}