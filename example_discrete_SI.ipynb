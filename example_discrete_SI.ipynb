{
 "metadata": {
  "language": "Julia",
  "name": "",
  "signature": "sha256:f32a47c80d2f8d5aea3454f9ed087f180b8faac26d6f0908f4c6fb0ab6eba8bb"
 },
 "nbformat": 3,
 "nbformat_minor": 0,
 "worksheets": [
  {
   "cells": [
    {
     "cell_type": "markdown",
     "metadata": {},
     "source": [
      "Load the ilmtools package..."
     ]
    },
    {
     "cell_type": "code",
     "collapsed": false,
     "input": [
      "include(\"ilmtools.jl\")"
     ],
     "language": "python",
     "metadata": {},
     "outputs": [
      {
       "html": [
        "<script charset=\"utf-8\">(function ($, undefined) {\n",
        "\n",
        "    function createElem(tag, attr, content) {\n",
        "\t// TODO: remove jQuery dependency\n",
        "\tvar el = $(\"<\" + tag + \"/>\").attr(attr);\n",
        "\tif (content) {\n",
        "\t    el.append(content);\n",
        "\t}\n",
        "\treturn el[0];\n",
        "    }\n",
        "\n",
        "    // A widget must expose an id field which identifies it to the backend,\n",
        "    // an elem attribute which is will be added to the DOM, and\n",
        "    // a getState() method which returns the value to be sent to the backend\n",
        "    // a sendUpdate() method which sends its current value to the backend\n",
        "    var Widget = {\n",
        "\tid: undefined,\n",
        "\telem: undefined,\n",
        "\tlabel: undefined,\n",
        "\tgetState: function () {\n",
        "\t    return this.elem.value;\n",
        "\t},\n",
        "\tsendUpdate: undefined\n",
        "    };\n",
        "\n",
        "    var Slider = function (typ, id, init) {\n",
        "\tvar attr = { type:  \"range\",\n",
        "\t\t     value: init.value,\n",
        "\t\t     min:   init.min,\n",
        "\t\t     max:   init.max,\n",
        "\t\t     step:  init.step },\n",
        "\t    elem = createElem(\"input\", attr),\n",
        "\t    self = this;\n",
        "\n",
        "\telem.onchange = function () {\n",
        "\t    self.sendUpdate();\n",
        "\t}\n",
        "\n",
        "\tthis.id = id;\n",
        "\tthis.elem = elem;\n",
        "\tthis.label = init.label;\n",
        "\n",
        "\tInputWidgets.commInitializer(this); // Initialize communication\n",
        "    }\n",
        "    Slider.prototype = Widget;\n",
        "\n",
        "    var Checkbox = function (typ, id, init) {\n",
        "\tvar attr = { type: \"checkbox\",\n",
        "\t\t     checked: init.value },\n",
        "\t    elem = createElem(\"input\", attr),\n",
        "\t    self = this;\n",
        "\n",
        "\tthis.getState = function () {\n",
        "\t    return elem.checked;\n",
        "\t}\n",
        "\telem.onchange = function () {\n",
        "\t    self.sendUpdate();\n",
        "\t}\n",
        "\n",
        "\tthis.id = id;\n",
        "\tthis.elem = elem;\n",
        "\tthis.label = init.label;\n",
        "\n",
        "\tInputWidgets.commInitializer(this);\n",
        "    }\n",
        "    Checkbox.prototype = Widget;\n",
        "\n",
        "    var Button = function (typ, id, init) {\n",
        "\tvar attr = { type:    \"button\",\n",
        "\t\t     value:   init.label },\n",
        "\t    elem = createElem(\"input\", attr),\n",
        "\t    self = this;\n",
        "\tthis.getState = function () {\n",
        "\t    return null;\n",
        "\t}\n",
        "\telem.onclick = function () {\n",
        "\t    self.sendUpdate();\n",
        "\t}\n",
        "\n",
        "\tthis.id = id;\n",
        "\tthis.elem = elem;\n",
        "\tthis.label = init.label;\n",
        "\n",
        "\tInputWidgets.commInitializer(this);\n",
        "    }\n",
        "    Button.prototype = Widget;\n",
        "\n",
        "    var Text = function (typ, id, init) {\n",
        "\tvar attr = { type:  \"text\",\n",
        "\t\t     placeholder: init.label,\n",
        "\t\t     value: init.value },\n",
        "\t    elem = createElem(\"input\", attr),\n",
        "\t    self = this;\n",
        "\tthis.getState = function () {\n",
        "\t    return elem.value;\n",
        "\t}\n",
        "\telem.onkeyup = function () {\n",
        "\t    self.sendUpdate();\n",
        "\t}\n",
        "\n",
        "\tthis.id = id;\n",
        "\tthis.elem = elem;\n",
        "\tthis.label = init.label;\n",
        "\n",
        "\tInputWidgets.commInitializer(this);\n",
        "    }\n",
        "    Text.prototype = Widget;\n",
        "\n",
        "    var Textarea = function (typ, id, init) {\n",
        "\tvar attr = { placeholder: init.label },\n",
        "\t    elem = createElem(\"textarea\", attr, init.value),\n",
        "\t    self = this;\n",
        "\tthis.getState = function () {\n",
        "\t    return elem.value;\n",
        "\t}\n",
        "\telem.onchange = function () {\n",
        "\t    self.sendUpdate();\n",
        "\t}\n",
        "\n",
        "\tthis.id = id;\n",
        "\tthis.elem = elem;\n",
        "\tthis.label = init.label;\n",
        "\n",
        "\tInputWidgets.commInitializer(this);\n",
        "    }\n",
        "    Textarea.prototype = Widget;\n",
        "\n",
        "    // RadioButtons\n",
        "    // Dropdown\n",
        "    // HTML\n",
        "    // Latex\n",
        "\n",
        "    var InputWidgets = {\n",
        "\tSlider: Slider,\n",
        "\tCheckbox: Checkbox,\n",
        "\tButton: Button,\n",
        "\tText: Text,\n",
        "\tTextarea: Textarea,\n",
        "\tdebug: false,\n",
        "\tlog: function () {\n",
        "\t    if (InputWidgets.debug) {\n",
        "\t\tconsole.log.apply(console, arguments);\n",
        "\t    }\n",
        "\t},\n",
        "\t// a central way to initalize communication\n",
        "\t// for widgets.\n",
        "\tcommInitializer: function (widget) {\n",
        "\t    widget.sendUpdate = function () {};\n",
        "\t}\n",
        "    };\n",
        "\n",
        "    window.InputWidgets = InputWidgets;\n",
        "\n",
        "})(jQuery, undefined);\n",
        "</script>"
       ],
       "metadata": {},
       "output_type": "display_data"
      },
      {
       "html": [
        "<script charset=\"utf-8\">(function (IPython, $, _, MathJax, Widgets) {\n",
        "    $.event.special.destroyed = {\n",
        "\tremove: function(o) {\n",
        "\t    if (o.handler) {\n",
        "\t\to.handler.apply(this, arguments)\n",
        "\t    }\n",
        "\t}\n",
        "    }\n",
        "\n",
        "    var redrawValue = function (container, type, val) {\n",
        "\tvar selector = $(\"<div/>\");\n",
        "\tvar oa = new IPython.OutputArea(_.extend(selector, {\n",
        "\t    selector: selector,\n",
        "\t    prompt_area: true,\n",
        "\t    events: IPython.events,\n",
        "\t    keyboard_manager: IPython.keyboard_manager\n",
        "\t})); // Hack to work with IPython 2.1.0\n",
        "\n",
        "\tswitch (type) {\n",
        "\tcase \"image/png\":\n",
        "            var _src = 'data:' + type + ';base64,' + val;\n",
        "\t    $(container).find(\"img\").attr('src', _src);\n",
        "\t    break;\n",
        "\tdefault:\n",
        "\t    var toinsert = IPython.OutputArea.append_map[type].apply(\n",
        "\t\toa, [val, {}, selector]\n",
        "\t    );\n",
        "\t    $(container).empty().append(toinsert.contents());\n",
        "\t    selector.remove();\n",
        "\t}\n",
        "\tif (type === \"text/latex\" && MathJax) {\n",
        "\t    MathJax.Hub.Queue([\"Typeset\", MathJax.Hub, toinsert.get(0)]);\n",
        "\t}\n",
        "    }\n",
        "\n",
        "\n",
        "    $(document).ready(function() {\n",
        "\tWidgets.debug = false; // log messages etc in console.\n",
        "\tfunction initComm(evt, data) {\n",
        "\t    var comm_manager = data.kernel.comm_manager;\n",
        "\t    comm_manager.register_target(\"Signal\", function (comm) {\n",
        "\t\tcomm.on_msg(function (msg) {\n",
        "\t\t    //Widgets.log(\"message received\", msg);\n",
        "\t\t    var val = msg.content.data.value;\n",
        "\t\t    $(\".signal-\" + comm.comm_id).each(function() {\n",
        "\t\t\tvar type = $(this).data(\"type\");\n",
        "\t\t\tif (val[type]) {\n",
        "\t\t\t    redrawValue(this, type, val[type], type);\n",
        "\t\t\t}\n",
        "\t\t    });\n",
        "\t\t    delete val;\n",
        "\t\t    delete msg.content.data.value;\n",
        "\t\t});\n",
        "\t    });\n",
        "\n",
        "\t    // coordingate with Comm and redraw Signals\n",
        "\t    // XXX: Test using Reactive here to improve performance\n",
        "\t    $([IPython.events]).on(\n",
        "\t\t'output_appended.OutputArea', function (event, type, value, md, toinsert) {\n",
        "\t\t    if (md && md.reactive) {\n",
        "\t\t\t// console.log(md.comm_id);\n",
        "\t\t\ttoinsert.addClass(\"signal-\" + md.comm_id);\n",
        "\t\t\ttoinsert.data(\"type\", type);\n",
        "\t\t\t// Signal back indicating the mimetype required\n",
        "\t\t\tvar comm_manager = IPython.notebook.kernel.comm_manager;\n",
        "\t\t\tvar comm = comm_manager.comms[md.comm_id];\n",
        "\t\t\tcomm.send({action: \"subscribe_mime\",\n",
        "\t\t\t\t   mime: type});\n",
        "\t\t\ttoinsert.bind(\"destroyed\", function() {\n",
        "\t\t\t    comm.send({action: \"unsubscribe_mime\",\n",
        "\t\t\t\t       mime: type});\n",
        "\t\t\t});\n",
        "\t\t    }\n",
        "\t    });\n",
        "\n",
        "\t    // Set up communication for Widgets\n",
        "\t    Widgets.commInitializer = function (widget) {\n",
        "\t\tvar comm = comm_manager.new_comm(\n",
        "\t\t    \"InputWidget\", {widget_id: widget.id}\n",
        "\t\t);\n",
        "\t\twidget.sendUpdate = function () {\n",
        "\t\t    // `this` is a widget here.\n",
        "\t\t    // TODO: I have a feeling there's some\n",
        "\t\t    //       IPython bookkeeping to be done here.\n",
        "\t\t    // Widgets.log(\"State changed\", this, this.getState());\n",
        "\t\t    comm.send({value: this.getState()});\n",
        "\t\t}\n",
        "\t    };\n",
        "\t}\n",
        "\n",
        "\ttry {\n",
        "\t    // try to initialize right away. otherwise, wait on the status_started event.\n",
        "\t    initComm(undefined, IPython.notebook);\n",
        "\t} catch (e) {\n",
        "\t    $([IPython.events]).on('status_started.Kernel', initComm);\n",
        "\t}\n",
        "    });\n",
        "})(IPython, jQuery, _, MathJax, InputWidgets);\n",
        "</script>"
       ],
       "metadata": {},
       "output_type": "display_data"
      },
      {
       "metadata": {},
       "output_type": "pyout",
       "prompt_number": 1,
       "text": [
        "state_animation (generic function with 1 method)"
       ]
      }
     ],
     "prompt_number": 1
    },
    {
     "cell_type": "markdown",
     "metadata": {},
     "source": [
      "Generate a population with a bivariate uniform spatial distribution (over a 25 by 25 unit area)"
     ]
    },
    {
     "cell_type": "code",
     "collapsed": true,
     "input": [
      "pop_db1 = create_pop_db_univariates(625, Uniform(0,25), Uniform(0,25))"
     ],
     "language": "python",
     "metadata": {},
     "outputs": [
      {
       "html": [
        "<table class=\"data-frame\"><tr><th></th><th>ind_id</th><th>x</th><th>y</th></tr><tr><th>1</th><td>1</td><td>14.881222138466255</td><td>9.264224127311838</td></tr><tr><th>2</th><td>2</td><td>5.600317800625931</td><td>17.749844593193732</td></tr><tr><th>3</th><td>3</td><td>6.365409616738493</td><td>5.274384848199137</td></tr><tr><th>4</th><td>4</td><td>4.2649942081168515</td><td>20.464924539979844</td></tr><tr><th>5</th><td>5</td><td>12.033369772349179</td><td>8.516277228734115</td></tr><tr><th>6</th><td>6</td><td>17.90914492862487</td><td>15.664169507968278</td></tr><tr><th>7</th><td>7</td><td>2.469927178233322</td><td>13.061280710854279</td></tr><tr><th>8</th><td>8</td><td>24.890510622379345</td><td>1.1912694452005823</td></tr><tr><th>9</th><td>9</td><td>19.261471355036814</td><td>3.1930154841021463</td></tr><tr><th>10</th><td>10</td><td>19.299579058517285</td><td>16.371499069674712</td></tr><tr><th>11</th><td>11</td><td>2.9384954567494956</td><td>23.12619700593724</td></tr><tr><th>12</th><td>12</td><td>7.656540054766464</td><td>22.489699578469075</td></tr><tr><th>13</th><td>13</td><td>3.031428817672721</td><td>19.114755206183197</td></tr><tr><th>14</th><td>14</td><td>15.171668128945454</td><td>17.420069814448</td></tr><tr><th>15</th><td>15</td><td>3.4295987729796193</td><td>3.331201866661204</td></tr><tr><th>16</th><td>16</td><td>12.90812506876266</td><td>14.485132301194808</td></tr><tr><th>17</th><td>17</td><td>5.96623557086498</td><td>2.3933027485684653</td></tr><tr><th>18</th><td>18</td><td>14.345143837688957</td><td>17.601759188456167</td></tr><tr><th>19</th><td>19</td><td>11.296662369208892</td><td>21.761764806505617</td></tr><tr><th>20</th><td>20</td><td>14.435297090171689</td><td>24.43925476618989</td></tr><tr><th>21</th><td>21</td><td>3.053465309072828</td><td>18.421803288756493</td></tr><tr><th>22</th><td>22</td><td>16.930581606056816</td><td>13.642345345142475</td></tr><tr><th>23</th><td>23</td><td>4.473504240691694</td><td>21.57145399884023</td></tr><tr><th>24</th><td>24</td><td>16.826472537029574</td><td>11.496880605144295</td></tr><tr><th>25</th><td>25</td><td>24.008928441463436</td><td>12.595764629206851</td></tr><tr><th>26</th><td>26</td><td>14.802208212311625</td><td>1.352345791906695</td></tr><tr><th>27</th><td>27</td><td>8.844622721194762</td><td>23.294264843053885</td></tr><tr><th>28</th><td>28</td><td>1.0377986852053545</td><td>9.036174014897725</td></tr><tr><th>29</th><td>29</td><td>18.509253744420512</td><td>21.56653068559512</td></tr><tr><th>30</th><td>30</td><td>8.760673496380333</td><td>2.2089258520788024</td></tr><tr><th>&vellip;</th><td>&vellip;</td><td>&vellip;</td><td>&vellip;</td></tr></table>"
       ],
       "metadata": {},
       "output_type": "pyout",
       "prompt_number": 2,
       "text": [
        "625x3 DataFrame\n",
        "| Row | ind_id | x        | y       |\n",
        "|-----|--------|----------|---------|\n",
        "| 1   | 1      | 14.8812  | 9.26422 |\n",
        "| 2   | 2      | 5.60032  | 17.7498 |\n",
        "| 3   | 3      | 6.36541  | 5.27438 |\n",
        "| 4   | 4      | 4.26499  | 20.4649 |\n",
        "| 5   | 5      | 12.0334  | 8.51628 |\n",
        "| 6   | 6      | 17.9091  | 15.6642 |\n",
        "| 7   | 7      | 2.46993  | 13.0613 |\n",
        "| 8   | 8      | 24.8905  | 1.19127 |\n",
        "| 9   | 9      | 19.2615  | 3.19302 |\n",
        "| 10  | 10     | 19.2996  | 16.3715 |\n",
        "| 11  | 11     | 2.9385   | 23.1262 |\n",
        "\u22ee\n",
        "| 614 | 614    | 3.15898  | 22.3903 |\n",
        "| 615 | 615    | 14.5253  | 7.05285 |\n",
        "| 616 | 616    | 5.77766  | 14.3667 |\n",
        "| 617 | 617    | 10.2372  | 13.3635 |\n",
        "| 618 | 618    | 13.5894  | 18.4884 |\n",
        "| 619 | 619    | 16.459   | 14.5365 |\n",
        "| 620 | 620    | 4.88718  | 11.9117 |\n",
        "| 621 | 621    | 0.225809 | 11.8986 |\n",
        "| 622 | 622    | 11.9861  | 4.17361 |\n",
        "| 623 | 623    | 10.2145  | 16.0915 |\n",
        "| 624 | 624    | 1.04722  | 22.8271 |\n",
        "| 625 | 625    | 13.1174  | 13.1013 |"
       ]
      }
     ],
     "prompt_number": 2
    },
    {
     "cell_type": "markdown",
     "metadata": {},
     "source": [
      "Generate the initial infection and propagate infection through population (SI model) in discrete time with parameters $\\alpha=2$ and $\\beta=6$"
     ]
    },
    {
     "cell_type": "code",
     "collapsed": true,
     "input": [
      "evdb = infect_recover_loop(pop_db1, \"discrete\", \"SI\", 5, 2, Inf)"
     ],
     "language": "python",
     "metadata": {},
     "outputs": [
      {
       "ename": "LoadError",
       "evalue": "More event times inputted than there are events left to occur\nwhile loading In[3], in expression starting on line 1",
       "output_type": "pyerr",
       "traceback": [
        "More event times inputted than there are events left to occur\nwhile loading In[3], in expression starting on line 1",
        "",
        " in event_time_update! at /Users/justin/Dropbox/Projects/ilmtools/events.jl:33",
        " in initial_infect! at /Users/justin/Dropbox/Projects/ilmtools/events.jl:55",
        " in infect_recover_loop at /Users/justin/Dropbox/Projects/ilmtools/events.jl:238"
       ]
      }
     ],
     "prompt_number": 3
    },
    {
     "cell_type": "markdown",
     "metadata": {},
     "source": [
      "Visualize infection (susceptible and infected) through time"
     ]
    },
    {
     "cell_type": "code",
     "collapsed": true,
     "input": [
      "evseries = state_timeseries(evdb)\n",
      "plot(evseries, x=\"time\", y=\"S\", Geom.line)"
     ],
     "language": "python",
     "metadata": {},
     "outputs": [
      {
       "ename": "LoadError",
       "evalue": "evdb not defined\nwhile loading In[4], in expression starting on line 1",
       "output_type": "pyerr",
       "traceback": [
        "evdb not defined\nwhile loading In[4], in expression starting on line 1",
        ""
       ]
      }
     ],
     "prompt_number": 4
    },
    {
     "cell_type": "code",
     "collapsed": false,
     "input": [
      "plot(evseries, x=\"time\", y=\"I\", Geom.line)"
     ],
     "language": "python",
     "metadata": {},
     "outputs": [
      {
       "ename": "LoadError",
       "evalue": "evseries not defined\nwhile loading In[5], in expression starting on line 1",
       "output_type": "pyerr",
       "traceback": [
        "evseries not defined\nwhile loading In[5], in expression starting on line 1",
        ""
       ]
      }
     ],
     "prompt_number": 5
    },
    {
     "cell_type": "markdown",
     "metadata": {},
     "source": [
      "Spatial plots..."
     ]
    },
    {
     "cell_type": "code",
     "collapsed": true,
     "input": [
      "state_animation(1, evdb, pop_db1)"
     ],
     "language": "python",
     "metadata": {},
     "outputs": [
      {
       "ename": "LoadError",
       "evalue": "evdb not defined\nwhile loading In[6], in expression starting on line 1",
       "output_type": "pyerr",
       "traceback": [
        "evdb not defined\nwhile loading In[6], in expression starting on line 1",
        ""
       ]
      }
     ],
     "prompt_number": 6
    },
    {
     "cell_type": "code",
     "collapsed": false,
     "input": [
      "evdb.event_times"
     ],
     "language": "python",
     "metadata": {},
     "outputs": [
      {
       "ename": "LoadError",
       "evalue": "evdb not defined\nwhile loading In[7], in expression starting on line 1",
       "output_type": "pyerr",
       "traceback": [
        "evdb not defined\nwhile loading In[7], in expression starting on line 1",
        ""
       ]
      }
     ],
     "prompt_number": 7
    }
   ],
   "metadata": {}
  }
 ]
}