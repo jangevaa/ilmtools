{
 "metadata": {
  "language": "Julia",
  "name": "",
  "signature": "sha256:e2f58f3aeb96c71c649bab032df52bc8641f6fe6b6f544e4115ff050e3840001"
 },
 "nbformat": 3,
 "nbformat_minor": 0,
 "worksheets": [
  {
   "cells": [
    {
     "cell_type": "markdown",
     "metadata": {},
     "source": [
      "Load the ilmtools package..."
     ]
    },
    {
     "cell_type": "code",
     "collapsed": false,
     "input": [
      "include(\"ilmtools.jl\")"
     ],
     "language": "python",
     "metadata": {},
     "outputs": [
      {
       "html": [
        "<script charset=\"utf-8\">(function ($, undefined) {\n",
        "\n",
        "    function createElem(tag, attr, content) {\n",
        "\t// TODO: remove jQuery dependency\n",
        "\tvar el = $(\"<\" + tag + \"/>\").attr(attr);\n",
        "\tif (content) {\n",
        "\t    el.append(content);\n",
        "\t}\n",
        "\treturn el[0];\n",
        "    }\n",
        "\n",
        "    // A widget must expose an id field which identifies it to the backend,\n",
        "    // an elem attribute which is will be added to the DOM, and\n",
        "    // a getState() method which returns the value to be sent to the backend\n",
        "    // a sendUpdate() method which sends its current value to the backend\n",
        "    var Widget = {\n",
        "\tid: undefined,\n",
        "\telem: undefined,\n",
        "\tlabel: undefined,\n",
        "\tgetState: function () {\n",
        "\t    return this.elem.value;\n",
        "\t},\n",
        "\tsendUpdate: undefined\n",
        "    };\n",
        "\n",
        "    var Slider = function (typ, id, init) {\n",
        "\tvar attr = { type:  \"range\",\n",
        "\t\t     value: init.value,\n",
        "\t\t     min:   init.min,\n",
        "\t\t     max:   init.max,\n",
        "\t\t     step:  init.step },\n",
        "\t    elem = createElem(\"input\", attr),\n",
        "\t    self = this;\n",
        "\n",
        "\telem.onchange = function () {\n",
        "\t    self.sendUpdate();\n",
        "\t}\n",
        "\n",
        "\tthis.id = id;\n",
        "\tthis.elem = elem;\n",
        "\tthis.label = init.label;\n",
        "\n",
        "\tInputWidgets.commInitializer(this); // Initialize communication\n",
        "    }\n",
        "    Slider.prototype = Widget;\n",
        "\n",
        "    var Checkbox = function (typ, id, init) {\n",
        "\tvar attr = { type: \"checkbox\",\n",
        "\t\t     checked: init.value },\n",
        "\t    elem = createElem(\"input\", attr),\n",
        "\t    self = this;\n",
        "\n",
        "\tthis.getState = function () {\n",
        "\t    return elem.checked;\n",
        "\t}\n",
        "\telem.onchange = function () {\n",
        "\t    self.sendUpdate();\n",
        "\t}\n",
        "\n",
        "\tthis.id = id;\n",
        "\tthis.elem = elem;\n",
        "\tthis.label = init.label;\n",
        "\n",
        "\tInputWidgets.commInitializer(this);\n",
        "    }\n",
        "    Checkbox.prototype = Widget;\n",
        "\n",
        "    var Button = function (typ, id, init) {\n",
        "\tvar attr = { type:    \"button\",\n",
        "\t\t     value:   init.label },\n",
        "\t    elem = createElem(\"input\", attr),\n",
        "\t    self = this;\n",
        "\tthis.getState = function () {\n",
        "\t    return null;\n",
        "\t}\n",
        "\telem.onclick = function () {\n",
        "\t    self.sendUpdate();\n",
        "\t}\n",
        "\n",
        "\tthis.id = id;\n",
        "\tthis.elem = elem;\n",
        "\tthis.label = init.label;\n",
        "\n",
        "\tInputWidgets.commInitializer(this);\n",
        "    }\n",
        "    Button.prototype = Widget;\n",
        "\n",
        "    var Text = function (typ, id, init) {\n",
        "\tvar attr = { type:  \"text\",\n",
        "\t\t     placeholder: init.label,\n",
        "\t\t     value: init.value },\n",
        "\t    elem = createElem(\"input\", attr),\n",
        "\t    self = this;\n",
        "\tthis.getState = function () {\n",
        "\t    return elem.value;\n",
        "\t}\n",
        "\telem.onkeyup = function () {\n",
        "\t    self.sendUpdate();\n",
        "\t}\n",
        "\n",
        "\tthis.id = id;\n",
        "\tthis.elem = elem;\n",
        "\tthis.label = init.label;\n",
        "\n",
        "\tInputWidgets.commInitializer(this);\n",
        "    }\n",
        "    Text.prototype = Widget;\n",
        "\n",
        "    var Textarea = function (typ, id, init) {\n",
        "\tvar attr = { placeholder: init.label },\n",
        "\t    elem = createElem(\"textarea\", attr, init.value),\n",
        "\t    self = this;\n",
        "\tthis.getState = function () {\n",
        "\t    return elem.value;\n",
        "\t}\n",
        "\telem.onchange = function () {\n",
        "\t    self.sendUpdate();\n",
        "\t}\n",
        "\n",
        "\tthis.id = id;\n",
        "\tthis.elem = elem;\n",
        "\tthis.label = init.label;\n",
        "\n",
        "\tInputWidgets.commInitializer(this);\n",
        "    }\n",
        "    Textarea.prototype = Widget;\n",
        "\n",
        "    // RadioButtons\n",
        "    // Dropdown\n",
        "    // HTML\n",
        "    // Latex\n",
        "\n",
        "    var InputWidgets = {\n",
        "\tSlider: Slider,\n",
        "\tCheckbox: Checkbox,\n",
        "\tButton: Button,\n",
        "\tText: Text,\n",
        "\tTextarea: Textarea,\n",
        "\tdebug: false,\n",
        "\tlog: function () {\n",
        "\t    if (InputWidgets.debug) {\n",
        "\t\tconsole.log.apply(console, arguments);\n",
        "\t    }\n",
        "\t},\n",
        "\t// a central way to initalize communication\n",
        "\t// for widgets.\n",
        "\tcommInitializer: function (widget) {\n",
        "\t    widget.sendUpdate = function () {};\n",
        "\t}\n",
        "    };\n",
        "\n",
        "    window.InputWidgets = InputWidgets;\n",
        "\n",
        "})(jQuery, undefined);\n",
        "</script>"
       ],
       "metadata": {},
       "output_type": "display_data"
      },
      {
       "html": [
        "<script charset=\"utf-8\">(function (IPython, $, _, MathJax, Widgets) {\n",
        "    $.event.special.destroyed = {\n",
        "\tremove: function(o) {\n",
        "\t    if (o.handler) {\n",
        "\t\to.handler.apply(this, arguments)\n",
        "\t    }\n",
        "\t}\n",
        "    }\n",
        "\n",
        "    var redrawValue = function (container, type, val) {\n",
        "\tvar selector = $(\"<div/>\");\n",
        "\tvar oa = new IPython.OutputArea(_.extend(selector, {\n",
        "\t    selector: selector,\n",
        "\t    prompt_area: true,\n",
        "\t    events: IPython.events,\n",
        "\t    keyboard_manager: IPython.keyboard_manager\n",
        "\t})); // Hack to work with IPython 2.1.0\n",
        "\n",
        "\tswitch (type) {\n",
        "\tcase \"image/png\":\n",
        "            var _src = 'data:' + type + ';base64,' + val;\n",
        "\t    $(container).find(\"img\").attr('src', _src);\n",
        "\t    break;\n",
        "\tdefault:\n",
        "\t    var toinsert = IPython.OutputArea.append_map[type].apply(\n",
        "\t\toa, [val, {}, selector]\n",
        "\t    );\n",
        "\t    $(container).empty().append(toinsert.contents());\n",
        "\t    selector.remove();\n",
        "\t}\n",
        "\tif (type === \"text/latex\" && MathJax) {\n",
        "\t    MathJax.Hub.Queue([\"Typeset\", MathJax.Hub, toinsert.get(0)]);\n",
        "\t}\n",
        "    }\n",
        "\n",
        "\n",
        "    $(document).ready(function() {\n",
        "\tWidgets.debug = false; // log messages etc in console.\n",
        "\tfunction initComm(evt, data) {\n",
        "\t    var comm_manager = data.kernel.comm_manager;\n",
        "\t    comm_manager.register_target(\"Signal\", function (comm) {\n",
        "\t\tcomm.on_msg(function (msg) {\n",
        "\t\t    //Widgets.log(\"message received\", msg);\n",
        "\t\t    var val = msg.content.data.value;\n",
        "\t\t    $(\".signal-\" + comm.comm_id).each(function() {\n",
        "\t\t\tvar type = $(this).data(\"type\");\n",
        "\t\t\tif (val[type]) {\n",
        "\t\t\t    redrawValue(this, type, val[type], type);\n",
        "\t\t\t}\n",
        "\t\t    });\n",
        "\t\t    delete val;\n",
        "\t\t    delete msg.content.data.value;\n",
        "\t\t});\n",
        "\t    });\n",
        "\n",
        "\t    // coordingate with Comm and redraw Signals\n",
        "\t    // XXX: Test using Reactive here to improve performance\n",
        "\t    $([IPython.events]).on(\n",
        "\t\t'output_appended.OutputArea', function (event, type, value, md, toinsert) {\n",
        "\t\t    if (md && md.reactive) {\n",
        "\t\t\t// console.log(md.comm_id);\n",
        "\t\t\ttoinsert.addClass(\"signal-\" + md.comm_id);\n",
        "\t\t\ttoinsert.data(\"type\", type);\n",
        "\t\t\t// Signal back indicating the mimetype required\n",
        "\t\t\tvar comm_manager = IPython.notebook.kernel.comm_manager;\n",
        "\t\t\tvar comm = comm_manager.comms[md.comm_id];\n",
        "\t\t\tcomm.send({action: \"subscribe_mime\",\n",
        "\t\t\t\t   mime: type});\n",
        "\t\t\ttoinsert.bind(\"destroyed\", function() {\n",
        "\t\t\t    comm.send({action: \"unsubscribe_mime\",\n",
        "\t\t\t\t       mime: type});\n",
        "\t\t\t});\n",
        "\t\t    }\n",
        "\t    });\n",
        "\n",
        "\t    // Set up communication for Widgets\n",
        "\t    Widgets.commInitializer = function (widget) {\n",
        "\t\tvar comm = comm_manager.new_comm(\n",
        "\t\t    \"InputWidget\", {widget_id: widget.id}\n",
        "\t\t);\n",
        "\t\twidget.sendUpdate = function () {\n",
        "\t\t    // `this` is a widget here.\n",
        "\t\t    // TODO: I have a feeling there's some\n",
        "\t\t    //       IPython bookkeeping to be done here.\n",
        "\t\t    // Widgets.log(\"State changed\", this, this.getState());\n",
        "\t\t    comm.send({value: this.getState()});\n",
        "\t\t}\n",
        "\t    };\n",
        "\t}\n",
        "\n",
        "\ttry {\n",
        "\t    // try to initialize right away. otherwise, wait on the status_started event.\n",
        "\t    initComm(undefined, IPython.notebook);\n",
        "\t} catch (e) {\n",
        "\t    $([IPython.events]).on('status_started.Kernel', initComm);\n",
        "\t}\n",
        "    });\n",
        "})(IPython, jQuery, _, MathJax, InputWidgets);\n",
        "</script>"
       ],
       "metadata": {},
       "output_type": "display_data"
      },
      {
       "metadata": {},
       "output_type": "pyout",
       "prompt_number": 1,
       "text": [
        "create_loglikelihood (generic function with 1 method)"
       ]
      }
     ],
     "prompt_number": 1
    },
    {
     "cell_type": "markdown",
     "metadata": {},
     "source": [
      "Generate a population from a bi-variate uniform distribution..."
     ]
    },
    {
     "cell_type": "code",
     "collapsed": true,
     "input": [
      "pop_db1 = create_pop_db_univariates(100, Uniform(0,10), Uniform(0,10))"
     ],
     "language": "python",
     "metadata": {},
     "outputs": [
      {
       "html": [
        "<table class=\"data-frame\"><tr><th></th><th>ind_id</th><th>x</th><th>y</th></tr><tr><th>1</th><td>1</td><td>6.558351874235971</td><td>3.9158098430623034</td></tr><tr><th>2</th><td>2</td><td>5.022916552603429</td><td>0.22720535085503313</td></tr><tr><th>3</th><td>3</td><td>9.188137855035134</td><td>1.3092089179681299</td></tr><tr><th>4</th><td>4</td><td>3.4997186592351226</td><td>9.22800402481338</td></tr><tr><th>5</th><td>5</td><td>8.475225379515166</td><td>1.528304021370741</td></tr><tr><th>6</th><td>6</td><td>0.08126002956019729</td><td>2.7856313158310675</td></tr><tr><th>7</th><td>7</td><td>9.802737360940327</td><td>3.552663623465946</td></tr><tr><th>8</th><td>8</td><td>6.758304956926242</td><td>8.584956008054698</td></tr><tr><th>9</th><td>9</td><td>4.5771538128886124</td><td>6.790720660404532</td></tr><tr><th>10</th><td>10</td><td>8.150277261111425</td><td>0.591763106961829</td></tr><tr><th>11</th><td>11</td><td>6.991126410420216</td><td>9.946405578019773</td></tr><tr><th>12</th><td>12</td><td>0.5232301582961485</td><td>1.8263109399321453</td></tr><tr><th>13</th><td>13</td><td>5.830602413774479</td><td>1.3477215368048001</td></tr><tr><th>14</th><td>14</td><td>6.614693270197039</td><td>4.220188388916126</td></tr><tr><th>15</th><td>15</td><td>7.208084717358836</td><td>1.695954929044623</td></tr><tr><th>16</th><td>16</td><td>9.44275663065037</td><td>1.3850678756628798</td></tr><tr><th>17</th><td>17</td><td>7.598568879087077</td><td>5.801129235958942</td></tr><tr><th>18</th><td>18</td><td>2.791478328990904</td><td>9.938183114604612</td></tr><tr><th>19</th><td>19</td><td>8.279285174288445</td><td>9.040924448119972</td></tr><tr><th>20</th><td>20</td><td>1.4748715956708192</td><td>8.574693149138888</td></tr><tr><th>21</th><td>21</td><td>4.92898144089025</td><td>9.983370742168795</td></tr><tr><th>22</th><td>22</td><td>8.779431196833464</td><td>8.871107959605297</td></tr><tr><th>23</th><td>23</td><td>1.1303268868773442</td><td>1.5027454754058467</td></tr><tr><th>24</th><td>24</td><td>8.032078024431593</td><td>6.848124727282969</td></tr><tr><th>25</th><td>25</td><td>5.866302412481684</td><td>1.3900923407204036</td></tr><tr><th>26</th><td>26</td><td>6.091679568212229</td><td>1.1953154559940304</td></tr><tr><th>27</th><td>27</td><td>6.515824860258405</td><td>2.5375828666633815</td></tr><tr><th>28</th><td>28</td><td>7.633539473823312</td><td>8.35260551305516</td></tr><tr><th>29</th><td>29</td><td>2.3290393555628808</td><td>0.8634380714823919</td></tr><tr><th>30</th><td>30</td><td>9.750804181398953</td><td>3.2063360830200804</td></tr><tr><th>&vellip;</th><td>&vellip;</td><td>&vellip;</td><td>&vellip;</td></tr></table>"
       ],
       "metadata": {},
       "output_type": "pyout",
       "prompt_number": 2,
       "text": [
        "100x3 DataFrame\n",
        "| Row | ind_id | x       | y        |\n",
        "|-----|--------|---------|----------|\n",
        "| 1   | 1      | 6.55835 | 3.91581  |\n",
        "| 2   | 2      | 5.02292 | 0.227205 |\n",
        "| 3   | 3      | 9.18814 | 1.30921  |\n",
        "| 4   | 4      | 3.49972 | 9.228    |\n",
        "| 5   | 5      | 8.47523 | 1.5283   |\n",
        "| 6   | 6      | 0.08126 | 2.78563  |\n",
        "| 7   | 7      | 9.80274 | 3.55266  |\n",
        "| 8   | 8      | 6.7583  | 8.58496  |\n",
        "| 9   | 9      | 4.57715 | 6.79072  |\n",
        "| 10  | 10     | 8.15028 | 0.591763 |\n",
        "| 11  | 11     | 6.99113 | 9.94641  |\n",
        "\u22ee\n",
        "| 89  | 89     | 1.81475 | 5.75611  |\n",
        "| 90  | 90     | 4.91831 | 0.749502 |\n",
        "| 91  | 91     | 7.45147 | 9.25551  |\n",
        "| 92  | 92     | 2.25581 | 9.07253  |\n",
        "| 93  | 93     | 7.80305 | 0.873693 |\n",
        "| 94  | 94     | 7.69538 | 7.58837  |\n",
        "| 95  | 95     | 5.62452 | 9.53169  |\n",
        "| 96  | 96     | 6.1652  | 9.0701   |\n",
        "| 97  | 97     | 9.50932 | 4.01133  |\n",
        "| 98  | 98     | 7.01202 | 7.0864   |\n",
        "| 99  | 99     | 9.19777 | 6.48157  |\n",
        "| 100 | 100    | 0.89104 | 3.32854  |"
       ]
      }
     ],
     "prompt_number": 2
    },
    {
     "cell_type": "markdown",
     "metadata": {},
     "source": [
      "Generate the initial infection and propagate infection through population (SIR model) in continuous time with parameters $\\alpha=2, \\beta=6, \\gamma=5$"
     ]
    },
    {
     "cell_type": "code",
     "collapsed": true,
     "input": [
      "evdb = infect_recover_loop(pop_db1, \"continuous\", \"SIR\", 2, 6, 5)"
     ],
     "language": "python",
     "metadata": {},
     "outputs": [
      {
       "metadata": {},
       "output_type": "pyout",
       "prompt_number": 3,
       "text": [
        "edb(100x4 DataFrame\n",
        "| Row | ind_id | s | i       | r       |\n",
        "|-----|--------|---|---------|---------|\n",
        "| 1   | 1      | 0 | 3.12181 | 26.5716 |\n",
        "| 2   | 2      | 0 | 3.6155  | 3.88667 |\n",
        "| 3   | 3      | 0 | 4.2711  | 5.28281 |\n",
        "| 4   | 4      | 0 | 1.99132 | 2.87787 |\n",
        "| 5   | 5      | 0 | 4.18864 | 9.29028 |\n",
        "| 6   | 6      | 0 | 4.11414 | 5.38495 |\n",
        "| 7   | 7      | 0 | 3.36141 | 5.6485  |\n",
        "| 8   | 8      | 0 | 1.04629 | 1.38309 |\n",
        "| 9   | 9      | 0 | 1.56652 | 3.19538 |\n",
        "| 10  | 10     | 0 | 4.24332 | 5.45369 |\n",
        "| 11  | 11     | 0 | 1.04686 | 5.01916 |\n",
        "\u22ee\n",
        "| 89  | 89     | 0 | 2.96997 | 11.7692 |\n",
        "| 90  | 90     | 0 | 3.61535 | 4.96125 |\n",
        "| 91  | 91     | 0 | 1.03324 | 3.91272 |\n",
        "| 92  | 92     | 0 | 2.35763 | 3.43587 |\n",
        "| 93  | 93     | 0 | 4.24607 | 7.77539 |\n",
        "| 94  | 94     | 0 | 1.07463 | 10.6053 |\n",
        "| 95  | 95     | 0 | 1.09398 | 1.64295 |\n",
        "| 96  | 96     | 0 | 1.06714 | 1.8305  |\n",
        "| 97  | 97     | 0 | 3.36959 | 14.0292 |\n",
        "| 98  | 98     | 0 | 1.25207 | 7.81102 |\n",
        "| 99  | 99     | 0 | 1.48946 | 3.82979 |\n",
        "| 100 | 100    | 0 | 4.19205 | 6.69633 |,[1.0,1.00343,1.0279,1.02796,1.02797,1.03324,1.04629,1.04686,1.06714,1.07463  \u2026  14.8926,15.1889,16.1435,16.3227,16.4975,18.8947,20.4043,22.5975,26.5716,41.3814],\"continuous\")"
       ]
      }
     ],
     "prompt_number": 3
    },
    {
     "cell_type": "markdown",
     "metadata": {},
     "source": [
      "Visualize infection (susceptible, infected, and recovered) through time"
     ]
    },
    {
     "cell_type": "code",
     "collapsed": false,
     "input": [
      "ll = create_loglikelihood(pop_db1, evdb)"
     ],
     "language": "python",
     "metadata": {},
     "outputs": [
      {
       "metadata": {},
       "output_type": "pyout",
       "prompt_number": 4,
       "text": [
        "cSIR_ll (generic function with 1 method)"
       ]
      }
     ],
     "prompt_number": 4
    },
    {
     "cell_type": "code",
     "collapsed": false,
     "input": [
      "@time ll((2, 6, 5))"
     ],
     "language": "python",
     "metadata": {},
     "outputs": [
      {
       "output_type": "stream",
       "stream": "stdout",
       "text": [
        "elapsed time: 0."
       ]
      },
      {
       "output_type": "stream",
       "stream": "stdout",
       "text": [
        "048904783 seconds (3396332 bytes allocated)\n"
       ]
      },
      {
       "metadata": {},
       "output_type": "pyout",
       "prompt_number": 5,
       "text": [
        "150.21808224965838"
       ]
      }
     ],
     "prompt_number": 5
    },
    {
     "cell_type": "code",
     "collapsed": false,
     "input": [
      "n = 20000\n",
      "burnin = 10000\n",
      "sim = Chains(n, 3, names = [\"alpha\", \"beta\", \"gamma\"])\n",
      "theta = AMMVariate([2.0, 6.0, 5])\n",
      "SigmaF = cholfact(eye(3))\n",
      "@time for i in 1:n\n",
      "    amm!(theta, SigmaF, ll, adapt = (i <= burnin))\n",
      "    sim[i,:,1] = theta[1:3]\n",
      "end\n",
      "Mamba.describe(sim)"
     ],
     "language": "python",
     "metadata": {},
     "outputs": [
      {
       "output_type": "stream",
       "stream": "stdout",
       "text": [
        "elapsed time: "
       ]
      },
      {
       "output_type": "stream",
       "stream": "stdout",
       "text": [
        "172.07872303 seconds (83863847772 bytes allocated, 57.78% gc time)\n",
        "Iterations = 1:20000\n",
        "Thinning interval = 1\n",
        "Chains = 1\n",
        "Samples per chain = 20000\n"
       ]
      },
      {
       "output_type": "stream",
       "stream": "stdout",
       "text": [
        "\n",
        "Empirical Posterior Estimates:\n",
        "4x6 Array{Any,2}"
       ]
      },
      {
       "output_type": "stream",
       "stream": "stdout",
       "text": [
        ":\n",
        " \"\"        \"Mean\"   \"SD\"      \"Naive SE\"   \"MCSE\"         \"ESS\"\n",
        " \"alpha\"  2.16731  0.248855  0.00175967   0.00572924  6142.77  \n",
        " \"beta\"   5.86106  0.142208  0.00100556   0.00313872  6407.48  \n",
        " \"gamma\"  5.10681  0.295829  0.00209182   0.00678985  6161.62  \n",
        "\n",
        "Quantiles:\n",
        "4x6 Array{Any,2}"
       ]
      },
      {
       "output_type": "stream",
       "stream": "stdout",
       "text": [
        ":\n",
        " \"\"        \"2.5%\"   \"25.0%\"   \"50.0%\"   \"75.0%\"   \"97.5%\"\n",
        " \"alpha\"  1.71786  1.99339   2.15672   2.32672   2.6857  \n",
        " \"beta\"   5.57423  5.76677   5.86758   5.95925   6.12358 \n",
        " \"gamma\"  4.53959  4.90215   5.10232   5.3064    5.69383 \n"
       ]
      }
     ],
     "prompt_number": 6
    }
   ],
   "metadata": {}
  }
 ]
}