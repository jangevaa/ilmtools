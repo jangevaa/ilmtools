{
 "metadata": {
  "language": "Julia",
  "name": "",
  "signature": "sha256:b3f20d424ad6cf2f9a863658c799bcb849ca6987f125a4a317b1df9d8f58ff96"
 },
 "nbformat": 3,
 "nbformat_minor": 0,
 "worksheets": [
  {
   "cells": [
    {
     "cell_type": "markdown",
     "metadata": {},
     "source": [
      "Load the ilmtools package..."
     ]
    },
    {
     "cell_type": "code",
     "collapsed": false,
     "input": [
      "include(\"ilmtools.jl\")"
     ],
     "language": "python",
     "metadata": {},
     "outputs": [
      {
       "html": [
        "<script charset=\"utf-8\">(function ($, undefined) {\n",
        "\n",
        "    function createElem(tag, attr, content) {\n",
        "\t// TODO: remove jQuery dependency\n",
        "\tvar el = $(\"<\" + tag + \"/>\").attr(attr);\n",
        "\tif (content) {\n",
        "\t    el.append(content);\n",
        "\t}\n",
        "\treturn el[0];\n",
        "    }\n",
        "\n",
        "    // A widget must expose an id field which identifies it to the backend,\n",
        "    // an elem attribute which is will be added to the DOM, and\n",
        "    // a getState() method which returns the value to be sent to the backend\n",
        "    // a sendUpdate() method which sends its current value to the backend\n",
        "    var Widget = {\n",
        "\tid: undefined,\n",
        "\telem: undefined,\n",
        "\tlabel: undefined,\n",
        "\tgetState: function () {\n",
        "\t    return this.elem.value;\n",
        "\t},\n",
        "\tsendUpdate: undefined\n",
        "    };\n",
        "\n",
        "    var Slider = function (typ, id, init) {\n",
        "\tvar attr = { type:  \"range\",\n",
        "\t\t     value: init.value,\n",
        "\t\t     min:   init.min,\n",
        "\t\t     max:   init.max,\n",
        "\t\t     step:  init.step },\n",
        "\t    elem = createElem(\"input\", attr),\n",
        "\t    self = this;\n",
        "\n",
        "\telem.onchange = function () {\n",
        "\t    self.sendUpdate();\n",
        "\t}\n",
        "\n",
        "\tthis.id = id;\n",
        "\tthis.elem = elem;\n",
        "\tthis.label = init.label;\n",
        "\n",
        "\tInputWidgets.commInitializer(this); // Initialize communication\n",
        "    }\n",
        "    Slider.prototype = Widget;\n",
        "\n",
        "    var Checkbox = function (typ, id, init) {\n",
        "\tvar attr = { type: \"checkbox\",\n",
        "\t\t     checked: init.value },\n",
        "\t    elem = createElem(\"input\", attr),\n",
        "\t    self = this;\n",
        "\n",
        "\tthis.getState = function () {\n",
        "\t    return elem.checked;\n",
        "\t}\n",
        "\telem.onchange = function () {\n",
        "\t    self.sendUpdate();\n",
        "\t}\n",
        "\n",
        "\tthis.id = id;\n",
        "\tthis.elem = elem;\n",
        "\tthis.label = init.label;\n",
        "\n",
        "\tInputWidgets.commInitializer(this);\n",
        "    }\n",
        "    Checkbox.prototype = Widget;\n",
        "\n",
        "    var Button = function (typ, id, init) {\n",
        "\tvar attr = { type:    \"button\",\n",
        "\t\t     value:   init.label },\n",
        "\t    elem = createElem(\"input\", attr),\n",
        "\t    self = this;\n",
        "\tthis.getState = function () {\n",
        "\t    return null;\n",
        "\t}\n",
        "\telem.onclick = function () {\n",
        "\t    self.sendUpdate();\n",
        "\t}\n",
        "\n",
        "\tthis.id = id;\n",
        "\tthis.elem = elem;\n",
        "\tthis.label = init.label;\n",
        "\n",
        "\tInputWidgets.commInitializer(this);\n",
        "    }\n",
        "    Button.prototype = Widget;\n",
        "\n",
        "    var Text = function (typ, id, init) {\n",
        "\tvar attr = { type:  \"text\",\n",
        "\t\t     placeholder: init.label,\n",
        "\t\t     value: init.value },\n",
        "\t    elem = createElem(\"input\", attr),\n",
        "\t    self = this;\n",
        "\tthis.getState = function () {\n",
        "\t    return elem.value;\n",
        "\t}\n",
        "\telem.onkeyup = function () {\n",
        "\t    self.sendUpdate();\n",
        "\t}\n",
        "\n",
        "\tthis.id = id;\n",
        "\tthis.elem = elem;\n",
        "\tthis.label = init.label;\n",
        "\n",
        "\tInputWidgets.commInitializer(this);\n",
        "    }\n",
        "    Text.prototype = Widget;\n",
        "\n",
        "    var Textarea = function (typ, id, init) {\n",
        "\tvar attr = { placeholder: init.label },\n",
        "\t    elem = createElem(\"textarea\", attr, init.value),\n",
        "\t    self = this;\n",
        "\tthis.getState = function () {\n",
        "\t    return elem.value;\n",
        "\t}\n",
        "\telem.onchange = function () {\n",
        "\t    self.sendUpdate();\n",
        "\t}\n",
        "\n",
        "\tthis.id = id;\n",
        "\tthis.elem = elem;\n",
        "\tthis.label = init.label;\n",
        "\n",
        "\tInputWidgets.commInitializer(this);\n",
        "    }\n",
        "    Textarea.prototype = Widget;\n",
        "\n",
        "    // RadioButtons\n",
        "    // Dropdown\n",
        "    // HTML\n",
        "    // Latex\n",
        "\n",
        "    var InputWidgets = {\n",
        "\tSlider: Slider,\n",
        "\tCheckbox: Checkbox,\n",
        "\tButton: Button,\n",
        "\tText: Text,\n",
        "\tTextarea: Textarea,\n",
        "\tdebug: false,\n",
        "\tlog: function () {\n",
        "\t    if (InputWidgets.debug) {\n",
        "\t\tconsole.log.apply(console, arguments);\n",
        "\t    }\n",
        "\t},\n",
        "\t// a central way to initalize communication\n",
        "\t// for widgets.\n",
        "\tcommInitializer: function (widget) {\n",
        "\t    widget.sendUpdate = function () {};\n",
        "\t}\n",
        "    };\n",
        "\n",
        "    window.InputWidgets = InputWidgets;\n",
        "\n",
        "})(jQuery, undefined);\n",
        "</script>"
       ],
       "metadata": {},
       "output_type": "display_data"
      },
      {
       "html": [
        "<script charset=\"utf-8\">(function (IPython, $, _, MathJax, Widgets) {\n",
        "    $.event.special.destroyed = {\n",
        "\tremove: function(o) {\n",
        "\t    if (o.handler) {\n",
        "\t\to.handler.apply(this, arguments)\n",
        "\t    }\n",
        "\t}\n",
        "    }\n",
        "\n",
        "    var redrawValue = function (container, type, val) {\n",
        "\tvar selector = $(\"<div/>\");\n",
        "\tvar oa = new IPython.OutputArea(_.extend(selector, {\n",
        "\t    selector: selector,\n",
        "\t    prompt_area: true,\n",
        "\t    events: IPython.events,\n",
        "\t    keyboard_manager: IPython.keyboard_manager\n",
        "\t})); // Hack to work with IPython 2.1.0\n",
        "\n",
        "\tswitch (type) {\n",
        "\tcase \"image/png\":\n",
        "            var _src = 'data:' + type + ';base64,' + val;\n",
        "\t    $(container).find(\"img\").attr('src', _src);\n",
        "\t    break;\n",
        "\tdefault:\n",
        "\t    var toinsert = IPython.OutputArea.append_map[type].apply(\n",
        "\t\toa, [val, {}, selector]\n",
        "\t    );\n",
        "\t    $(container).empty().append(toinsert.contents());\n",
        "\t    selector.remove();\n",
        "\t}\n",
        "\tif (type === \"text/latex\" && MathJax) {\n",
        "\t    MathJax.Hub.Queue([\"Typeset\", MathJax.Hub, toinsert.get(0)]);\n",
        "\t}\n",
        "    }\n",
        "\n",
        "\n",
        "    $(document).ready(function() {\n",
        "\tWidgets.debug = false; // log messages etc in console.\n",
        "\tfunction initComm(evt, data) {\n",
        "\t    var comm_manager = data.kernel.comm_manager;\n",
        "\t    comm_manager.register_target(\"Signal\", function (comm) {\n",
        "\t\tcomm.on_msg(function (msg) {\n",
        "\t\t    //Widgets.log(\"message received\", msg);\n",
        "\t\t    var val = msg.content.data.value;\n",
        "\t\t    $(\".signal-\" + comm.comm_id).each(function() {\n",
        "\t\t\tvar type = $(this).data(\"type\");\n",
        "\t\t\tif (val[type]) {\n",
        "\t\t\t    redrawValue(this, type, val[type], type);\n",
        "\t\t\t}\n",
        "\t\t    });\n",
        "\t\t    delete val;\n",
        "\t\t    delete msg.content.data.value;\n",
        "\t\t});\n",
        "\t    });\n",
        "\n",
        "\t    // coordingate with Comm and redraw Signals\n",
        "\t    // XXX: Test using Reactive here to improve performance\n",
        "\t    $([IPython.events]).on(\n",
        "\t\t'output_appended.OutputArea', function (event, type, value, md, toinsert) {\n",
        "\t\t    if (md && md.reactive) {\n",
        "\t\t\t// console.log(md.comm_id);\n",
        "\t\t\ttoinsert.addClass(\"signal-\" + md.comm_id);\n",
        "\t\t\ttoinsert.data(\"type\", type);\n",
        "\t\t\t// Signal back indicating the mimetype required\n",
        "\t\t\tvar comm_manager = IPython.notebook.kernel.comm_manager;\n",
        "\t\t\tvar comm = comm_manager.comms[md.comm_id];\n",
        "\t\t\tcomm.send({action: \"subscribe_mime\",\n",
        "\t\t\t\t   mime: type});\n",
        "\t\t\ttoinsert.bind(\"destroyed\", function() {\n",
        "\t\t\t    comm.send({action: \"unsubscribe_mime\",\n",
        "\t\t\t\t       mime: type});\n",
        "\t\t\t});\n",
        "\t\t    }\n",
        "\t    });\n",
        "\n",
        "\t    // Set up communication for Widgets\n",
        "\t    Widgets.commInitializer = function (widget) {\n",
        "\t\tvar comm = comm_manager.new_comm(\n",
        "\t\t    \"InputWidget\", {widget_id: widget.id}\n",
        "\t\t);\n",
        "\t\twidget.sendUpdate = function () {\n",
        "\t\t    // `this` is a widget here.\n",
        "\t\t    // TODO: I have a feeling there's some\n",
        "\t\t    //       IPython bookkeeping to be done here.\n",
        "\t\t    // Widgets.log(\"State changed\", this, this.getState());\n",
        "\t\t    comm.send({value: this.getState()});\n",
        "\t\t}\n",
        "\t    };\n",
        "\t}\n",
        "\n",
        "\ttry {\n",
        "\t    // try to initialize right away. otherwise, wait on the status_started event.\n",
        "\t    initComm(undefined, IPython.notebook);\n",
        "\t} catch (e) {\n",
        "\t    $([IPython.events]).on('status_started.Kernel', initComm);\n",
        "\t}\n",
        "    });\n",
        "})(IPython, jQuery, _, MathJax, InputWidgets);\n",
        "</script>"
       ],
       "metadata": {},
       "output_type": "display_data"
      },
      {
       "metadata": {},
       "output_type": "pyout",
       "prompt_number": 1,
       "text": [
        "create_loglikelihood (generic function with 1 method)"
       ]
      }
     ],
     "prompt_number": 1
    },
    {
     "cell_type": "markdown",
     "metadata": {},
     "source": [
      "Generate a population from a bi-variate uniform distribution..."
     ]
    },
    {
     "cell_type": "code",
     "collapsed": true,
     "input": [
      "pop_db1 = create_pop_db_univariates(100, Uniform(0,10), Uniform(0,10))"
     ],
     "language": "python",
     "metadata": {},
     "outputs": [
      {
       "html": [
        "<table class=\"data-frame\"><tr><th></th><th>ind_id</th><th>x</th><th>y</th></tr><tr><th>1</th><td>1</td><td>1.6694149981122375</td><td>0.5086703009226312</td></tr><tr><th>2</th><td>2</td><td>0.253062872851455</td><td>9.656329076086292</td></tr><tr><th>3</th><td>3</td><td>5.879726763590871</td><td>3.724147347464355</td></tr><tr><th>4</th><td>4</td><td>5.618966376050871</td><td>3.5355029971968577</td></tr><tr><th>5</th><td>5</td><td>9.518271688375728</td><td>3.0039117842661534</td></tr><tr><th>6</th><td>6</td><td>7.9854570574426305</td><td>6.56673919966587</td></tr><tr><th>7</th><td>7</td><td>2.663853888081078</td><td>3.464652719597885</td></tr><tr><th>8</th><td>8</td><td>8.76120018942791</td><td>7.5515628773394905</td></tr><tr><th>9</th><td>9</td><td>9.713014430245243</td><td>7.630708678875124</td></tr><tr><th>10</th><td>10</td><td>4.820990880906479</td><td>1.018489835041465</td></tr><tr><th>11</th><td>11</td><td>8.24965379207373</td><td>2.055207082570605</td></tr><tr><th>12</th><td>12</td><td>1.2036989138067145</td><td>9.543567046837762</td></tr><tr><th>13</th><td>13</td><td>4.054862612696681</td><td>3.1067540979604757</td></tr><tr><th>14</th><td>14</td><td>4.425056993675001</td><td>8.920457906310904</td></tr><tr><th>15</th><td>15</td><td>6.253777374299712</td><td>6.885931952798982</td></tr><tr><th>16</th><td>16</td><td>9.949714713368438</td><td>0.7764601946871186</td></tr><tr><th>17</th><td>17</td><td>1.4824629970283687</td><td>1.6705805163727816</td></tr><tr><th>18</th><td>18</td><td>2.729461216241831</td><td>2.5524028383469743</td></tr><tr><th>19</th><td>19</td><td>2.930561966345344</td><td>7.237024190308167</td></tr><tr><th>20</th><td>20</td><td>6.755435971055743</td><td>2.2673961318630242</td></tr><tr><th>21</th><td>21</td><td>8.44348547643497</td><td>5.872083733292859</td></tr><tr><th>22</th><td>22</td><td>1.9438741478814747</td><td>2.060160634311905</td></tr><tr><th>23</th><td>23</td><td>4.489076119771513</td><td>8.073408473539729</td></tr><tr><th>24</th><td>24</td><td>0.4824826991383113</td><td>0.566553338183724</td></tr><tr><th>25</th><td>25</td><td>1.6033682840771668</td><td>8.92673299591426</td></tr><tr><th>26</th><td>26</td><td>9.744602205824805</td><td>1.1550064657600978</td></tr><tr><th>27</th><td>27</td><td>7.6156933252471815</td><td>7.796205676532941</td></tr><tr><th>28</th><td>28</td><td>2.665397848252289</td><td>2.7855912809550465</td></tr><tr><th>29</th><td>29</td><td>1.343764133503369</td><td>6.042344697621238</td></tr><tr><th>30</th><td>30</td><td>7.941151437266689</td><td>3.1365282459536403</td></tr><tr><th>&vellip;</th><td>&vellip;</td><td>&vellip;</td><td>&vellip;</td></tr></table>"
       ],
       "metadata": {},
       "output_type": "pyout",
       "prompt_number": 2,
       "text": [
        "100x3 DataFrame\n",
        "| Row | ind_id | x         | y       |\n",
        "|-----|--------|-----------|---------|\n",
        "| 1   | 1      | 1.66941   | 0.50867 |\n",
        "| 2   | 2      | 0.253063  | 9.65633 |\n",
        "| 3   | 3      | 5.87973   | 3.72415 |\n",
        "| 4   | 4      | 5.61897   | 3.5355  |\n",
        "| 5   | 5      | 9.51827   | 3.00391 |\n",
        "| 6   | 6      | 7.98546   | 6.56674 |\n",
        "| 7   | 7      | 2.66385   | 3.46465 |\n",
        "| 8   | 8      | 8.7612    | 7.55156 |\n",
        "| 9   | 9      | 9.71301   | 7.63071 |\n",
        "| 10  | 10     | 4.82099   | 1.01849 |\n",
        "| 11  | 11     | 8.24965   | 2.05521 |\n",
        "\u22ee\n",
        "| 89  | 89     | 5.60802   | 9.02492 |\n",
        "| 90  | 90     | 4.75384   | 8.64451 |\n",
        "| 91  | 91     | 7.60161   | 1.35246 |\n",
        "| 92  | 92     | 3.48884   | 4.83918 |\n",
        "| 93  | 93     | 0.0880402 | 7.79348 |\n",
        "| 94  | 94     | 9.32822   | 3.82949 |\n",
        "| 95  | 95     | 8.00797   | 8.64976 |\n",
        "| 96  | 96     | 8.02438   | 8.23574 |\n",
        "| 97  | 97     | 7.14922   | 7.00397 |\n",
        "| 98  | 98     | 3.82431   | 3.7394  |\n",
        "| 99  | 99     | 8.66485   | 2.325   |\n",
        "| 100 | 100    | 6.46042   | 1.59055 |"
       ]
      }
     ],
     "prompt_number": 2
    },
    {
     "cell_type": "markdown",
     "metadata": {},
     "source": [
      "Generate the initial infection and propagate infection through population (SI model) in continuous time with parameters $\\alpha=2, \\beta=6$"
     ]
    },
    {
     "cell_type": "code",
     "collapsed": true,
     "input": [
      "evdb = infect_recover_loop(pop_db1, \"continuous\", \"SI\", 2, 6)"
     ],
     "language": "python",
     "metadata": {},
     "outputs": [
      {
       "metadata": {},
       "output_type": "pyout",
       "prompt_number": 3,
       "text": [
        "edb(100x3 DataFrame\n",
        "| Row | ind_id | s | i       |\n",
        "|-----|--------|---|---------|\n",
        "| 1   | 1      | 0 | 1.5948  |\n",
        "| 2   | 2      | 0 | 5.95601 |\n",
        "| 3   | 3      | 0 | 1.40074 |\n",
        "| 4   | 4      | 0 | 1.4005  |\n",
        "| 5   | 5      | 0 | 1.64819 |\n",
        "| 6   | 6      | 0 | 1.67478 |\n",
        "| 7   | 7      | 0 | 1.0661  |\n",
        "| 8   | 8      | 0 | 1.91473 |\n",
        "| 9   | 9      | 0 | 2.10758 |\n",
        "| 10  | 10     | 0 | 2.95661 |\n",
        "| 11  | 11     | 0 | 1.6839  |\n",
        "\u22ee\n",
        "| 89  | 89     | 0 | 2.08926 |\n",
        "| 90  | 90     | 0 | 2.08553 |\n",
        "| 91  | 91     | 0 | 1.69156 |\n",
        "| 92  | 92     | 0 | 1.08804 |\n",
        "| 93  | 93     | 0 | 5.79922 |\n",
        "| 94  | 94     | 0 | 1.47252 |\n",
        "| 95  | 95     | 0 | 1.82439 |\n",
        "| 96  | 96     | 0 | 1.82189 |\n",
        "| 97  | 97     | 0 | 1.79144 |\n",
        "| 98  | 98     | 0 | 1.00636 |\n",
        "| 99  | 99     | 0 | 1.68293 |\n",
        "| 100 | 100    | 0 | 1.70906 |,[1.0,1.00636,1.00892,1.00895,1.00897,1.00936,1.02273,1.0661,1.08804,1.14311  \u2026  3.69089,5.71034,5.7744,5.77938,5.79514,5.79538,5.79922,5.80618,5.95595,5.95601],\"continuous\")"
       ]
      }
     ],
     "prompt_number": 3
    },
    {
     "cell_type": "markdown",
     "metadata": {},
     "source": [
      "Create loglikelihood function for MCMC"
     ]
    },
    {
     "cell_type": "code",
     "collapsed": false,
     "input": [
      "ll = create_loglikelihood(pop_db1, evdb)"
     ],
     "language": "python",
     "metadata": {},
     "outputs": [
      {
       "metadata": {},
       "output_type": "pyout",
       "prompt_number": 4,
       "text": [
        "ilm_loglikelihood (generic function with 1 method)"
       ]
      }
     ],
     "prompt_number": 4
    },
    {
     "cell_type": "markdown",
     "metadata": {},
     "source": [
      "Time the loglikelihood function"
     ]
    },
    {
     "cell_type": "code",
     "collapsed": false,
     "input": [
      "@time ll((2,6))"
     ],
     "language": "python",
     "metadata": {},
     "outputs": [
      {
       "output_type": "stream",
       "stream": "stdout",
       "text": [
        "elapsed time: 0."
       ]
      },
      {
       "output_type": "stream",
       "stream": "stdout",
       "text": [
        "1282276 seconds (2882112 bytes allocated, 72.77% gc time)\n"
       ]
      },
      {
       "metadata": {},
       "output_type": "pyout",
       "prompt_number": 5,
       "text": [
        "268.655485611737"
       ]
      }
     ],
     "prompt_number": 5
    },
    {
     "cell_type": "markdown",
     "metadata": {},
     "source": [
      "Run MCMC"
     ]
    },
    {
     "cell_type": "code",
     "collapsed": false,
     "input": [
      "n = 20000\n",
      "burnin = 10000\n",
      "sim = Chains(n, 2, names = [\"alpha\", \"beta\"])\n",
      "theta = AMMVariate([2.0, 6.0])\n",
      "SigmaF = cholfact(eye(2))\n",
      "@time for i in 1:n\n",
      "    amm!(theta, SigmaF, ll, adapt = (i <= burnin))\n",
      "    sim[i,:,1] = [theta[1:2]]\n",
      "end\n",
      "Mamba.describe(sim)"
     ],
     "language": "python",
     "metadata": {},
     "outputs": [
      {
       "output_type": "stream",
       "stream": "stdout",
       "text": [
        "elapsed time: "
       ]
      },
      {
       "output_type": "stream",
       "stream": "stdout",
       "text": [
        "134.844137785 seconds (72151518068 bytes allocated, 54.00% gc time)\n",
        "Iterations = 1:20000\n",
        "Thinning interval = 1\n",
        "Chains = 1\n",
        "Samples per chain = 20000\n"
       ]
      },
      {
       "output_type": "stream",
       "stream": "stdout",
       "text": [
        "\n",
        "Empirical Posterior Estimates:\n",
        "3x6 Array{Any,2}"
       ]
      },
      {
       "output_type": "stream",
       "stream": "stdout",
       "text": [
        ":\n",
        " \"\"        \"Mean\"   \"SD\"      \"Naive SE\"   \"MCSE\"         \"ESS\"\n",
        " \"alpha\"  1.97771  0.235265  0.00166357   0.00482469  6896.08  \n",
        " \"beta\"   5.97631  0.163894  0.0011589    0.00338473  6847.84  \n",
        "\n",
        "Quantiles:\n",
        "3x6 Array{Any,2}"
       ]
      },
      {
       "output_type": "stream",
       "stream": "stdout",
       "text": [
        ":\n",
        " \"\"        \"2.5%\"   \"25.0%\"   \"50.0%\"   \"75.0%\"   \"97.5%\"\n",
        " \"alpha\"  1.54084  1.81359   1.9747    2.1355    2.43583 \n",
        " \"beta\"   5.65115  5.86517   5.97479   6.09115   6.29648 \n"
       ]
      }
     ],
     "prompt_number": 6
    }
   ],
   "metadata": {}
  }
 ]
}