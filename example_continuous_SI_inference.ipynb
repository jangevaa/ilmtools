{
 "metadata": {
  "language": "Julia",
  "name": "",
  "signature": "sha256:7d9f36a8d1cf0f1a71d43d206712f8ec94bbdc1ed043d856e11fb50019881a66"
 },
 "nbformat": 3,
 "nbformat_minor": 0,
 "worksheets": [
  {
   "cells": [
    {
     "cell_type": "markdown",
     "metadata": {},
     "source": [
      "Load the ilmtools package..."
     ]
    },
    {
     "cell_type": "code",
     "collapsed": false,
     "input": [
      "include(\"ilmtools.jl\")"
     ],
     "language": "python",
     "metadata": {},
     "outputs": [
      {
       "html": [
        "<script charset=\"utf-8\">(function ($, undefined) {\n",
        "\n",
        "    function createElem(tag, attr, content) {\n",
        "\t// TODO: remove jQuery dependency\n",
        "\tvar el = $(\"<\" + tag + \"/>\").attr(attr);\n",
        "\tif (content) {\n",
        "\t    el.append(content);\n",
        "\t}\n",
        "\treturn el[0];\n",
        "    }\n",
        "\n",
        "    // A widget must expose an id field which identifies it to the backend,\n",
        "    // an elem attribute which is will be added to the DOM, and\n",
        "    // a getState() method which returns the value to be sent to the backend\n",
        "    // a sendUpdate() method which sends its current value to the backend\n",
        "    var Widget = {\n",
        "\tid: undefined,\n",
        "\telem: undefined,\n",
        "\tlabel: undefined,\n",
        "\tgetState: function () {\n",
        "\t    return this.elem.value;\n",
        "\t},\n",
        "\tsendUpdate: undefined\n",
        "    };\n",
        "\n",
        "    var Slider = function (typ, id, init) {\n",
        "\tvar attr = { type:  \"range\",\n",
        "\t\t     value: init.value,\n",
        "\t\t     min:   init.min,\n",
        "\t\t     max:   init.max,\n",
        "\t\t     step:  init.step },\n",
        "\t    elem = createElem(\"input\", attr),\n",
        "\t    self = this;\n",
        "\n",
        "\telem.onchange = function () {\n",
        "\t    self.sendUpdate();\n",
        "\t}\n",
        "\n",
        "\tthis.id = id;\n",
        "\tthis.elem = elem;\n",
        "\tthis.label = init.label;\n",
        "\n",
        "\tInputWidgets.commInitializer(this); // Initialize communication\n",
        "    }\n",
        "    Slider.prototype = Widget;\n",
        "\n",
        "    var Checkbox = function (typ, id, init) {\n",
        "\tvar attr = { type: \"checkbox\",\n",
        "\t\t     checked: init.value },\n",
        "\t    elem = createElem(\"input\", attr),\n",
        "\t    self = this;\n",
        "\n",
        "\tthis.getState = function () {\n",
        "\t    return elem.checked;\n",
        "\t}\n",
        "\telem.onchange = function () {\n",
        "\t    self.sendUpdate();\n",
        "\t}\n",
        "\n",
        "\tthis.id = id;\n",
        "\tthis.elem = elem;\n",
        "\tthis.label = init.label;\n",
        "\n",
        "\tInputWidgets.commInitializer(this);\n",
        "    }\n",
        "    Checkbox.prototype = Widget;\n",
        "\n",
        "    var Button = function (typ, id, init) {\n",
        "\tvar attr = { type:    \"button\",\n",
        "\t\t     value:   init.label },\n",
        "\t    elem = createElem(\"input\", attr),\n",
        "\t    self = this;\n",
        "\tthis.getState = function () {\n",
        "\t    return null;\n",
        "\t}\n",
        "\telem.onclick = function () {\n",
        "\t    self.sendUpdate();\n",
        "\t}\n",
        "\n",
        "\tthis.id = id;\n",
        "\tthis.elem = elem;\n",
        "\tthis.label = init.label;\n",
        "\n",
        "\tInputWidgets.commInitializer(this);\n",
        "    }\n",
        "    Button.prototype = Widget;\n",
        "\n",
        "    var Text = function (typ, id, init) {\n",
        "\tvar attr = { type:  \"text\",\n",
        "\t\t     placeholder: init.label,\n",
        "\t\t     value: init.value },\n",
        "\t    elem = createElem(\"input\", attr),\n",
        "\t    self = this;\n",
        "\tthis.getState = function () {\n",
        "\t    return elem.value;\n",
        "\t}\n",
        "\telem.onkeyup = function () {\n",
        "\t    self.sendUpdate();\n",
        "\t}\n",
        "\n",
        "\tthis.id = id;\n",
        "\tthis.elem = elem;\n",
        "\tthis.label = init.label;\n",
        "\n",
        "\tInputWidgets.commInitializer(this);\n",
        "    }\n",
        "    Text.prototype = Widget;\n",
        "\n",
        "    var Textarea = function (typ, id, init) {\n",
        "\tvar attr = { placeholder: init.label },\n",
        "\t    elem = createElem(\"textarea\", attr, init.value),\n",
        "\t    self = this;\n",
        "\tthis.getState = function () {\n",
        "\t    return elem.value;\n",
        "\t}\n",
        "\telem.onchange = function () {\n",
        "\t    self.sendUpdate();\n",
        "\t}\n",
        "\n",
        "\tthis.id = id;\n",
        "\tthis.elem = elem;\n",
        "\tthis.label = init.label;\n",
        "\n",
        "\tInputWidgets.commInitializer(this);\n",
        "    }\n",
        "    Textarea.prototype = Widget;\n",
        "\n",
        "    // RadioButtons\n",
        "    // Dropdown\n",
        "    // HTML\n",
        "    // Latex\n",
        "\n",
        "    var InputWidgets = {\n",
        "\tSlider: Slider,\n",
        "\tCheckbox: Checkbox,\n",
        "\tButton: Button,\n",
        "\tText: Text,\n",
        "\tTextarea: Textarea,\n",
        "\tdebug: false,\n",
        "\tlog: function () {\n",
        "\t    if (InputWidgets.debug) {\n",
        "\t\tconsole.log.apply(console, arguments);\n",
        "\t    }\n",
        "\t},\n",
        "\t// a central way to initalize communication\n",
        "\t// for widgets.\n",
        "\tcommInitializer: function (widget) {\n",
        "\t    widget.sendUpdate = function () {};\n",
        "\t}\n",
        "    };\n",
        "\n",
        "    window.InputWidgets = InputWidgets;\n",
        "\n",
        "})(jQuery, undefined);\n",
        "</script>"
       ],
       "metadata": {},
       "output_type": "display_data"
      },
      {
       "html": [
        "<script charset=\"utf-8\">(function (IPython, $, _, MathJax, Widgets) {\n",
        "    $.event.special.destroyed = {\n",
        "\tremove: function(o) {\n",
        "\t    if (o.handler) {\n",
        "\t\to.handler.apply(this, arguments)\n",
        "\t    }\n",
        "\t}\n",
        "    }\n",
        "\n",
        "    var redrawValue = function (container, type, val) {\n",
        "\tvar selector = $(\"<div/>\");\n",
        "\tvar oa = new IPython.OutputArea(_.extend(selector, {\n",
        "\t    selector: selector,\n",
        "\t    prompt_area: true,\n",
        "\t    events: IPython.events,\n",
        "\t    keyboard_manager: IPython.keyboard_manager\n",
        "\t})); // Hack to work with IPython 2.1.0\n",
        "\n",
        "\tswitch (type) {\n",
        "\tcase \"image/png\":\n",
        "            var _src = 'data:' + type + ';base64,' + val;\n",
        "\t    $(container).find(\"img\").attr('src', _src);\n",
        "\t    break;\n",
        "\tdefault:\n",
        "\t    var toinsert = IPython.OutputArea.append_map[type].apply(\n",
        "\t\toa, [val, {}, selector]\n",
        "\t    );\n",
        "\t    $(container).empty().append(toinsert.contents());\n",
        "\t    selector.remove();\n",
        "\t}\n",
        "\tif (type === \"text/latex\" && MathJax) {\n",
        "\t    MathJax.Hub.Queue([\"Typeset\", MathJax.Hub, toinsert.get(0)]);\n",
        "\t}\n",
        "    }\n",
        "\n",
        "\n",
        "    $(document).ready(function() {\n",
        "\tWidgets.debug = false; // log messages etc in console.\n",
        "\tfunction initComm(evt, data) {\n",
        "\t    var comm_manager = data.kernel.comm_manager;\n",
        "\t    comm_manager.register_target(\"Signal\", function (comm) {\n",
        "\t\tcomm.on_msg(function (msg) {\n",
        "\t\t    //Widgets.log(\"message received\", msg);\n",
        "\t\t    var val = msg.content.data.value;\n",
        "\t\t    $(\".signal-\" + comm.comm_id).each(function() {\n",
        "\t\t\tvar type = $(this).data(\"type\");\n",
        "\t\t\tif (val[type]) {\n",
        "\t\t\t    redrawValue(this, type, val[type], type);\n",
        "\t\t\t}\n",
        "\t\t    });\n",
        "\t\t    delete val;\n",
        "\t\t    delete msg.content.data.value;\n",
        "\t\t});\n",
        "\t    });\n",
        "\n",
        "\t    // coordingate with Comm and redraw Signals\n",
        "\t    // XXX: Test using Reactive here to improve performance\n",
        "\t    $([IPython.events]).on(\n",
        "\t\t'output_appended.OutputArea', function (event, type, value, md, toinsert) {\n",
        "\t\t    if (md && md.reactive) {\n",
        "\t\t\t// console.log(md.comm_id);\n",
        "\t\t\ttoinsert.addClass(\"signal-\" + md.comm_id);\n",
        "\t\t\ttoinsert.data(\"type\", type);\n",
        "\t\t\t// Signal back indicating the mimetype required\n",
        "\t\t\tvar comm_manager = IPython.notebook.kernel.comm_manager;\n",
        "\t\t\tvar comm = comm_manager.comms[md.comm_id];\n",
        "\t\t\tcomm.send({action: \"subscribe_mime\",\n",
        "\t\t\t\t   mime: type});\n",
        "\t\t\ttoinsert.bind(\"destroyed\", function() {\n",
        "\t\t\t    comm.send({action: \"unsubscribe_mime\",\n",
        "\t\t\t\t       mime: type});\n",
        "\t\t\t});\n",
        "\t\t    }\n",
        "\t    });\n",
        "\n",
        "\t    // Set up communication for Widgets\n",
        "\t    Widgets.commInitializer = function (widget) {\n",
        "\t\tvar comm = comm_manager.new_comm(\n",
        "\t\t    \"InputWidget\", {widget_id: widget.id}\n",
        "\t\t);\n",
        "\t\twidget.sendUpdate = function () {\n",
        "\t\t    // `this` is a widget here.\n",
        "\t\t    // TODO: I have a feeling there's some\n",
        "\t\t    //       IPython bookkeeping to be done here.\n",
        "\t\t    // Widgets.log(\"State changed\", this, this.getState());\n",
        "\t\t    comm.send({value: this.getState()});\n",
        "\t\t}\n",
        "\t    };\n",
        "\t}\n",
        "\n",
        "\ttry {\n",
        "\t    // try to initialize right away. otherwise, wait on the status_started event.\n",
        "\t    initComm(undefined, IPython.notebook);\n",
        "\t} catch (e) {\n",
        "\t    $([IPython.events]).on('status_started.Kernel', initComm);\n",
        "\t}\n",
        "    });\n",
        "})(IPython, jQuery, _, MathJax, InputWidgets);\n",
        "</script>"
       ],
       "metadata": {},
       "output_type": "display_data"
      },
      {
       "metadata": {},
       "output_type": "pyout",
       "prompt_number": 1,
       "text": [
        "create_loglikelihood (generic function with 1 method)"
       ]
      }
     ],
     "prompt_number": 1
    },
    {
     "cell_type": "markdown",
     "metadata": {},
     "source": [
      "Generate a population from a bi-variate uniform distribution..."
     ]
    },
    {
     "cell_type": "code",
     "collapsed": true,
     "input": [
      "pop_db1 = create_pop_db_univariates(100, Uniform(0,10), Uniform(0,10))"
     ],
     "language": "python",
     "metadata": {},
     "outputs": [
      {
       "html": [
        "<table class=\"data-frame\"><tr><th></th><th>ind_id</th><th>x</th><th>y</th></tr><tr><th>1</th><td>1</td><td>4.461364144407183</td><td>6.663411405302777</td></tr><tr><th>2</th><td>2</td><td>6.57395384098201</td><td>1.7005146434150786</td></tr><tr><th>3</th><td>3</td><td>3.839539088884183</td><td>4.940934682471982</td></tr><tr><th>4</th><td>4</td><td>3.0528843585608834</td><td>3.2900480543548882</td></tr><tr><th>5</th><td>5</td><td>3.05470170017182</td><td>6.633956341111908</td></tr><tr><th>6</th><td>6</td><td>6.5053933951568315</td><td>4.089314035377008</td></tr><tr><th>7</th><td>7</td><td>5.720645202758798</td><td>9.790961223411529</td></tr><tr><th>8</th><td>8</td><td>9.292350401821341</td><td>0.8425429866146494</td></tr><tr><th>9</th><td>9</td><td>2.538606696816179</td><td>7.689411417003534</td></tr><tr><th>10</th><td>10</td><td>7.026589224509905</td><td>1.592202743381419</td></tr><tr><th>11</th><td>11</td><td>1.168303374119961</td><td>1.4351051701844053</td></tr><tr><th>12</th><td>12</td><td>7.7957243101407965</td><td>3.9613494807056115</td></tr><tr><th>13</th><td>13</td><td>4.404744600236674</td><td>3.816553009951127</td></tr><tr><th>14</th><td>14</td><td>1.2321670292029752</td><td>6.240485936675812</td></tr><tr><th>15</th><td>15</td><td>7.435204361422281</td><td>4.409322996285856</td></tr><tr><th>16</th><td>16</td><td>2.314288563954021</td><td>8.933048827753776</td></tr><tr><th>17</th><td>17</td><td>0.7241141165577725</td><td>5.902298030044357</td></tr><tr><th>18</th><td>18</td><td>6.9565014634363305</td><td>6.538263437783125</td></tr><tr><th>19</th><td>19</td><td>6.9281118630954275</td><td>4.651953866990246</td></tr><tr><th>20</th><td>20</td><td>2.6874257630945486</td><td>9.928874735044943</td></tr><tr><th>21</th><td>21</td><td>0.9405816682060508</td><td>1.9114698247902018</td></tr><tr><th>22</th><td>22</td><td>1.2830332606671901</td><td>8.88505464698815</td></tr><tr><th>23</th><td>23</td><td>4.400884726672986</td><td>1.715133967234037</td></tr><tr><th>24</th><td>24</td><td>0.2599515484156023</td><td>2.7705868230568687</td></tr><tr><th>25</th><td>25</td><td>3.0835321066413535</td><td>6.786720892729665</td></tr><tr><th>26</th><td>26</td><td>3.717700370011019</td><td>8.164276906566847</td></tr><tr><th>27</th><td>27</td><td>8.138662030313197</td><td>3.9478280975361146</td></tr><tr><th>28</th><td>28</td><td>2.0664585149363335</td><td>9.466651905536947</td></tr><tr><th>29</th><td>29</td><td>5.849840269086131</td><td>8.478369506783247</td></tr><tr><th>30</th><td>30</td><td>5.8508314885448325</td><td>3.6816548358422607</td></tr><tr><th>&vellip;</th><td>&vellip;</td><td>&vellip;</td><td>&vellip;</td></tr></table>"
       ],
       "metadata": {},
       "output_type": "pyout",
       "prompt_number": 2,
       "text": [
        "100x3 DataFrame\n",
        "| Row | ind_id | x        | y         |\n",
        "|-----|--------|----------|-----------|\n",
        "| 1   | 1      | 4.46136  | 6.66341   |\n",
        "| 2   | 2      | 6.57395  | 1.70051   |\n",
        "| 3   | 3      | 3.83954  | 4.94093   |\n",
        "| 4   | 4      | 3.05288  | 3.29005   |\n",
        "| 5   | 5      | 3.0547   | 6.63396   |\n",
        "| 6   | 6      | 6.50539  | 4.08931   |\n",
        "| 7   | 7      | 5.72065  | 9.79096   |\n",
        "| 8   | 8      | 9.29235  | 0.842543  |\n",
        "| 9   | 9      | 2.53861  | 7.68941   |\n",
        "| 10  | 10     | 7.02659  | 1.5922    |\n",
        "| 11  | 11     | 1.1683   | 1.43511   |\n",
        "\u22ee\n",
        "| 89  | 89     | 1.63282  | 4.96631   |\n",
        "| 90  | 90     | 7.69537  | 1.50657   |\n",
        "| 91  | 91     | 8.95278  | 8.00547   |\n",
        "| 92  | 92     | 5.30477  | 7.90005   |\n",
        "| 93  | 93     | 7.12167  | 0.752555  |\n",
        "| 94  | 94     | 4.28056  | 0.0469207 |\n",
        "| 95  | 95     | 6.00683  | 0.382315  |\n",
        "| 96  | 96     | 1.42648  | 0.201693  |\n",
        "| 97  | 97     | 5.34801  | 7.13868   |\n",
        "| 98  | 98     | 0.114107 | 3.76019   |\n",
        "| 99  | 99     | 8.80985  | 8.73224   |\n",
        "| 100 | 100    | 5.50352  | 3.73456   |"
       ]
      }
     ],
     "prompt_number": 2
    },
    {
     "cell_type": "markdown",
     "metadata": {},
     "source": [
      "Generate the initial infection and propagate infection through population (SI model) in continuous time with parameters $\\alpha=2, \\beta=6$"
     ]
    },
    {
     "cell_type": "code",
     "collapsed": true,
     "input": [
      "evdb = infect_recover_loop(pop_db1, \"continuous\", \"SI\", 2, 6)"
     ],
     "language": "python",
     "metadata": {},
     "outputs": [
      {
       "metadata": {},
       "output_type": "pyout",
       "prompt_number": 3,
       "text": [
        "edb(100x3 DataFrame\n",
        "| Row | ind_id | s | i       |\n",
        "|-----|--------|---|---------|\n",
        "| 1   | 1      | 0 | 1.35776 |\n",
        "| 2   | 2      | 0 | 2.21473 |\n",
        "| 3   | 3      | 0 | 2.30978 |\n",
        "| 4   | 4      | 0 | 2.28718 |\n",
        "| 5   | 5      | 0 | 1.44379 |\n",
        "| 6   | 6      | 0 | 2.12639 |\n",
        "| 7   | 7      | 0 | 1.64834 |\n",
        "| 8   | 8      | 0 | 2.13958 |\n",
        "| 9   | 9      | 0 | 1.29788 |\n",
        "| 10  | 10     | 0 | 2.21468 |\n",
        "| 11  | 11     | 0 | 4.56845 |\n",
        "\u22ee\n",
        "| 89  | 89     | 0 | 2.73699 |\n",
        "| 90  | 90     | 0 | 2.21107 |\n",
        "| 91  | 91     | 0 | 1.78222 |\n",
        "| 92  | 92     | 0 | 1.63233 |\n",
        "| 93  | 93     | 0 | 2.25587 |\n",
        "| 94  | 94     | 0 | 3.31125 |\n",
        "| 95  | 95     | 0 | 2.2773  |\n",
        "| 96  | 96     | 0 | 5.02972 |\n",
        "| 97  | 97     | 0 | 1.55632 |\n",
        "| 98  | 98     | 0 | 3.48752 |\n",
        "| 99  | 99     | 0 | 1.77253 |\n",
        "| 100 | 100    | 0 | 2.14308 |,[1.0,1.00176,1.05514,1.09502,1.12257,1.16808,1.17907,1.17908,1.19942,1.26623  \u2026  2.90639,3.31125,3.45571,3.48725,3.48752,3.4899,4.55268,4.56845,5.02139,5.02972],\"continuous\")"
       ]
      }
     ],
     "prompt_number": 3
    },
    {
     "cell_type": "markdown",
     "metadata": {},
     "source": [
      "Create loglikelihood function for MCMC"
     ]
    },
    {
     "cell_type": "code",
     "collapsed": false,
     "input": [
      "ll = create_loglikelihood(pop_db1, evdb)"
     ],
     "language": "python",
     "metadata": {},
     "outputs": [
      {
       "metadata": {},
       "output_type": "pyout",
       "prompt_number": 4,
       "text": [
        "cSI_ll (generic function with 1 method)"
       ]
      }
     ],
     "prompt_number": 4
    },
    {
     "cell_type": "markdown",
     "metadata": {},
     "source": [
      "Time the loglikelihood function"
     ]
    },
    {
     "cell_type": "code",
     "collapsed": false,
     "input": [
      "@time ll((2,6))"
     ],
     "language": "python",
     "metadata": {},
     "outputs": [
      {
       "output_type": "stream",
       "stream": "stdout",
       "text": [
        "elapsed time: 0."
       ]
      },
      {
       "output_type": "stream",
       "stream": "stdout",
       "text": [
        "069605312 seconds (2724452 bytes allocated, 55.01% gc time)\n"
       ]
      },
      {
       "metadata": {},
       "output_type": "pyout",
       "prompt_number": 5,
       "text": [
        "253.27757438224475"
       ]
      }
     ],
     "prompt_number": 5
    },
    {
     "cell_type": "markdown",
     "metadata": {},
     "source": [
      "Run MCMC"
     ]
    },
    {
     "cell_type": "code",
     "collapsed": false,
     "input": [
      "n = 20000\n",
      "burnin = 10000\n",
      "sim = Chains(n, 2, names = [\"alpha\", \"beta\"])\n",
      "theta = AMMVariate([2.0, 6.0])\n",
      "SigmaF = cholfact(eye(2))\n",
      "@time for i in 1:n\n",
      "    amm!(theta, SigmaF, ll, adapt = (i <= burnin))\n",
      "    sim[i,:,1] = [theta[1:2]]\n",
      "end\n",
      "Mamba.describe(sim)"
     ],
     "language": "python",
     "metadata": {},
     "outputs": [
      {
       "output_type": "stream",
       "stream": "stdout",
       "text": [
        "elapsed time: "
       ]
      },
      {
       "output_type": "stream",
       "stream": "stdout",
       "text": [
        "128.346691152 seconds (72151521644 bytes allocated, 53.44% gc time)\n",
        "Iterations = 1:20000\n",
        "Thinning interval = 1\n",
        "Chains = 1\n",
        "Samples per chain = 20000\n"
       ]
      },
      {
       "output_type": "stream",
       "stream": "stdout",
       "text": [
        "\n",
        "Empirical Posterior Estimates:\n",
        "3x6 Array{Any,2}"
       ]
      },
      {
       "output_type": "stream",
       "stream": "stdout",
       "text": [
        ":\n",
        " \"\"        \"Mean\"   \"SD\"      \"Naive SE\"   \"MCSE\"         \"ESS\"\n",
        " \"alpha\"  1.98509  0.229787  0.00162484   0.00422627  7689.24  \n",
        " \"beta\"   6.07708  0.168861  0.00119402   0.00307656  7762.09  \n",
        "\n",
        "Quantiles:\n",
        "3x6 Array{Any,2}"
       ]
      },
      {
       "output_type": "stream",
       "stream": "stdout",
       "text": [
        ":\n",
        " \"\"        \"2.5%\"   \"25.0%\"   \"50.0%\"   \"75.0%\"   \"97.5%\"\n",
        " \"alpha\"  1.55872  1.82604   1.97811   2.13324   2.44863 \n",
        " \"beta\"   5.74282  5.96451   6.07845   6.19158   6.40326 \n"
       ]
      }
     ],
     "prompt_number": 6
    }
   ],
   "metadata": {}
  }
 ]
}